{
 "cells": [
  {
   "cell_type": "markdown",
   "id": "61e7d91b",
   "metadata": {},
   "source": [
    "# Lab 3\n",
    "\n",
    "Hüseyin Anil Gündüz\n",
    "\n",
    "## Imports"
   ]
  },
  {
   "cell_type": "code",
   "execution_count": 1,
   "id": "e0ff95f1",
   "metadata": {
    "execution": {
     "iopub.execute_input": "2021-11-02T09:30:48.846307Z",
     "iopub.status.busy": "2021-11-02T09:30:48.845418Z",
     "iopub.status.idle": "2021-11-02T09:30:49.458550Z",
     "shell.execute_reply": "2021-11-02T09:30:49.458165Z"
    },
    "pycharm": {
     "name": "#%%\n"
    }
   },
   "outputs": [],
   "source": [
    "from typing import Any\n",
    "\n",
    "import torch\n",
    "from torch.autograd import Function\n",
    "from torch import Tensor\n",
    "\n",
    "import matplotlib.pyplot as plt\n",
    "from  matplotlib_inline.backend_inline import set_matplotlib_formats\n",
    "set_matplotlib_formats('png', 'pdf')"
   ]
  },
  {
   "cell_type": "markdown",
   "id": "9a0b7a89",
   "metadata": {
    "pycharm": {
     "name": "#%% md\n"
    }
   },
   "source": [
    "Welcome to the third lab. The first exercise is an implementation of gradient descent\n",
    "on a bivariate function. The second exercise is about computing derivatives of the\n",
    "weights of a neural network, and the third exercise combines the previous two.\n",
    "\n",
    "## Exercise 1\n",
    "This exercise is about gradient descent. We will use the function\n",
    "$f(x_1, x_2)=(x_1-6)^2+x_2^2-x_1x_2$ as a running example:\n",
    "\n",
    " 1. Use pen and paper to do three iterations of gradient descent:\n",
    "     - Find the gradient of $f$;\n",
    "     - Start from the point $x_1=x_2=6$ and use a step size of $1/2$ for the first step,\n",
    "    $1/3$ for the second step and $1/4$ for the third step;\n",
    "     - What will happen if you keep going?\n",
    " 2. Write a function that performs gradient descent:\n",
    "     - For simplicity, we use a constant learning rate.\n",
    "     - Can you find a way to prematurely stop the optimization when you are close to the\n",
    "    optimum?"
   ]
  },
  {
   "cell_type": "code",
   "execution_count": 2,
   "id": "c1551d10",
   "metadata": {
    "execution": {
     "iopub.execute_input": "2021-11-02T09:30:49.462983Z",
     "iopub.status.busy": "2021-11-02T09:30:49.462614Z",
     "iopub.status.idle": "2021-11-02T09:30:49.464310Z",
     "shell.execute_reply": "2021-11-02T09:30:49.464023Z"
    },
    "pycharm": {
     "name": "#%%\n"
    }
   },
   "outputs": [],
   "source": [
    "# Note: Defining a custom autograd function is not a necessity for this small task,\n",
    "# but it is a good place to showcase some capabilities of PyTorch.\n",
    "\n",
    "class MyFunction(Function):\n",
    "    @staticmethod\n",
    "    def forward(ctx: Any, x: Tensor) -> Tensor:\n",
    "        # The \"ctx\" object serves to stash information for the backward pass\n",
    "        ctx.save_for_backward(x)\n",
    "        func_value = (\n",
    "            (x[0] - 6)**2 + x[1]**2 - x[0] * x[1]\n",
    "        )\n",
    "        return func_value\n",
    "\n",
    "    @staticmethod\n",
    "    def backward(ctx: Any, grad_output: Tensor):\n",
    "        # The \"grad_output\" parameter is the backpropagated gradient from subsequent\n",
    "        # operations w.r.t. to the output of this function.\n",
    "        x = ctx.saved_tensors[0]\n",
    "\n",
    "        grad_x = torch.tensor([\n",
    "            2*x[0] - x[1] - 12,\n",
    "            -x[0] + 2*x[1]\n",
    "        ])\n",
    "        return grad_output * grad_x"
   ]
  },
  {
   "cell_type": "code",
   "execution_count": 3,
   "id": "814ab9c4",
   "metadata": {
    "execution": {
     "iopub.execute_input": "2021-11-02T09:30:49.479670Z",
     "iopub.status.busy": "2021-11-02T09:30:49.479288Z",
     "iopub.status.idle": "2021-11-02T09:30:50.146624Z",
     "shell.execute_reply": "2021-11-02T09:30:50.146992Z"
    },
    "pycharm": {
     "name": "#%%\n"
    }
   },
   "outputs": [
    {
     "name": "stdout",
     "output_type": "stream",
     "text": [
      "Function output: 0.0\n",
      "Gradients: tensor([-6.,  6.])\n"
     ]
    }
   ],
   "source": [
    "\n",
    "func = MyFunction()\n",
    "# The \"required_grad\" argument needs to be True.\n",
    "# Otherwise no gradients will be computed.\n",
    "x = torch.tensor([6., 6.], requires_grad=True)\n",
    "\n",
    "# Custom functions are applied over the \"apply\" method.\n",
    "y = func.apply(x)\n",
    "print('Function output: {}'.format(y))\n",
    "\n",
    "# Gradients for every operation in this chain are computed\n",
    "# by calling the \"backward\" method on the output tensor.\n",
    "y.backward()\n",
    "\n",
    "# The x tensor now has a grad attribute with the gradients.\n",
    "print('Gradients: {}'.format(x.grad))\n",
    "\n",
    "# Note: No usage of auto differentiation was done in this example."
   ]
  },
  {
   "cell_type": "markdown",
   "id": "8f128ad1",
   "metadata": {
    "pycharm": {
     "name": "#%% md\n"
    }
   },
   "source": [
    "Does it match what you computed?\n",
    "\n",
    "In the next step we define a small gradient descent optimizer."
   ]
  },
  {
   "cell_type": "code",
   "execution_count": 4,
   "id": "4b3079cc",
   "metadata": {
    "execution": {
     "iopub.execute_input": "2021-11-02T09:30:50.153855Z",
     "iopub.status.busy": "2021-11-02T09:30:50.153310Z",
     "iopub.status.idle": "2021-11-02T09:30:50.155376Z",
     "shell.execute_reply": "2021-11-02T09:30:50.155766Z"
    },
    "pycharm": {
     "name": "#%%\n"
    }
   },
   "outputs": [],
   "source": [
    "\n",
    "class GradientDescentOptimizer:\n",
    "    def __init__(self,\n",
    "                 func: Function,\n",
    "                 max_steps: int,\n",
    "                 alpha: float):\n",
    "        \"\"\"\n",
    "        Init an Optimizer for performing GD.\n",
    "\n",
    "        :param func: Function to apply.\n",
    "        :param max_steps: Maximum number of GD steps.\n",
    "        :param alpha: Learning Rate.\n",
    "        \"\"\"\n",
    "        self.func = func\n",
    "        self.max_steps = max_steps\n",
    "        self.alpha = alpha\n",
    "\n",
    "    def __call__(self, x: Tensor) -> Tensor:\n",
    "        \"\"\"\n",
    "        Apply GD on a tensor.\n",
    "\n",
    "        :param x: Input tensor.\n",
    "        \"\"\"\n",
    "        # Usually you would apply the gradients inplace on the input tensor,\n",
    "        # but for the sake of the example we keep the input tensor consistent and\n",
    "        # work on a copy.\n",
    "        x_cp = x.detach().clone()\n",
    "        x_cp.requires_grad = True\n",
    "\n",
    "        # Dummy value for initial loop.\n",
    "        y_old = torch.tensor([float('inf')])\n",
    "\n",
    "        for i in range(self.max_steps):\n",
    "            # Set gradients of x to None\n",
    "            x_cp.grad = None\n",
    "\n",
    "            # Compute function output\n",
    "            y = func.apply(x_cp)\n",
    "\n",
    "            # Compute gradients\n",
    "            y.backward()\n",
    "\n",
    "            # Apply gradients\n",
    "            # We need \"no_grad\" as otherwise the autodiff engine will compute\n",
    "            # gradients for this operation.\n",
    "            with torch.no_grad():\n",
    "                x_cp.data -= self.alpha * x_cp.grad\n",
    "\n",
    "            # Check if we reached some point of convergence.\n",
    "            if y_old - y < 1e-4:\n",
    "                break\n",
    "            y_old = y\n",
    "        return x_cp"
   ]
  },
  {
   "cell_type": "code",
   "execution_count": 5,
   "id": "5506e14d",
   "metadata": {
    "execution": {
     "iopub.execute_input": "2021-11-02T09:30:50.160566Z",
     "iopub.status.busy": "2021-11-02T09:30:50.159987Z",
     "iopub.status.idle": "2021-11-02T09:30:50.166287Z",
     "shell.execute_reply": "2021-11-02T09:30:50.166655Z"
    },
    "pycharm": {
     "name": "#%%\n"
    }
   },
   "outputs": [
    {
     "name": "stdout",
     "output_type": "stream",
     "text": [
      "tensor([7.9435, 4.0565], requires_grad=True)\n"
     ]
    }
   ],
   "source": [
    "x = torch.tensor([6., 6.], requires_grad=True)\n",
    "gd_optimizer = GradientDescentOptimizer(func=MyFunction(), max_steps=10, alpha=0.1)\n",
    "x_new = gd_optimizer(x)\n",
    "print(x_new)"
   ]
  },
  {
   "cell_type": "markdown",
   "id": "4af60ecf",
   "metadata": {
    "pycharm": {
     "name": "#%% md\n"
    }
   },
   "source": [
    "Play a bit with the starting point and learning rate to get a feel for its behavior.\n",
    "How close can you get to the minimum?\n",
    "\n",
    "\n",
    "### Solution\n",
    "\n",
    "The gradient of $f$ is:\n",
    "\n",
    "\\begin{equation}\n",
    "    \\nabla_{\\textbf{x}}f(\\textbf{x})=\\left\\vert\\begin{matrix}\n",
    "    \\partial f/\\partial x_1 \\\\\n",
    "    \\partial f/\\partial x_2 \\\\\n",
    "    \\end{matrix}\\right\\vert=\\left\\vert\\begin{matrix}\n",
    "    2(x_1-6)-x_2 \\\\\n",
    "    2x_2-x_1 \\\\\n",
    "\\end{matrix}\\right\\vert\n",
    "\\end{equation}\n",
    "\n",
    "\n",
    "For $\\textbf{x}=|6,6|^T$ we have $f(\\textbf{x})=0$ and $\\nabla_{\\textbf{x}}f(\\textbf{x})=|-6,6|^T$.\n",
    "\n",
    "Let $\\textbf{x}^{(t)}$ denote the point at the $t$-th iteration. Then:\n",
    "\n",
    "| $t$ | $\\textbf{x}^{(t)}$ | $f(\\textbf{x}^{(t)})$ | $\\nabla_{\\textbf{x}}f(\\textbf{x})$ |\n",
    "| --- | --- | --- | --- |\n",
    "| 1 | $\\mid 6,6 \\mid$ | $0$ | $\\mid-6,6\\mid$ |\n",
    "| 2 | $\\mid 9,3\\mid$ | $-9$ | $\\mid3,-3\\mid$ |\n",
    "| 3 | $\\mid8,4\\mid$ | $-12$ | $\\mid0,0\\mid$  |\n"
   ]
  },
  {
   "cell_type": "markdown",
   "id": "c4c1a257",
   "metadata": {},
   "source": [
    "1. $ x^{(2)} = | 6,6|-(1/2) * |-6,6| = |9,3|$\n",
    "2. $ x^{(3)} = | 9,3|-(1/3) * |3,-3|=|8,4|$\n",
    "3. $ x^{(4)} = | 8,4|-(1/4) * |0,0|=|8,4|$\n",
    "\n",
    "Where all vectors are intended to be vertical. As the gradient at the last point is\n",
    "zero, nothing will change if we continue to apply this procedure."
   ]
  },
  {
   "cell_type": "markdown",
   "id": "0723cbc6",
   "metadata": {},
   "source": [
    "## Exercise 2\n",
    "\n",
    "This exercise is about computing gradients with the chain rule, with pen and paper.\n",
    "We will work with a neural network with a single hidden layer with two neurons and an\n",
    "output layer with one neuron."
   ]
  },
  {
   "cell_type": "markdown",
   "id": "0bd0431d",
   "metadata": {
    "pycharm": {
     "name": "#%% md\n"
    }
   },
   "source": [
    "<div>\n",
    "<img src=\"py_ex_3.png\" width=\"300\"/>\n",
    "</div>"
   ]
  },
  {
   "cell_type": "markdown",
   "id": "1a1981ae",
   "metadata": {
    "pycharm": {
     "name": "#%% md\n"
    }
   },
   "source": [
    "The neurons in the hidden layer use the $\\tanh$ activation, while the output neuron uses\n",
    "the sigmoid. The loss used in binary classification is the _binary cross-entropy_:\n",
    "\n",
    "$$\n",
    "\\mathcal{L}(y, f_{out})=-y\\log f_{out}-(1-y)\\log(1-f_{out})\n",
    "$$\n",
    "\n",
    "where $y\\in\\{0,1\\}$ is the true label and $f_{out}\\in(0,1)$ is the predicted probability that $y=1$.\n",
    "\n",
    " 1. Compute $\\partial\\mathcal{L}(y, f_{out})/\\partial f_{out}$\n",
    " 2. Compute $\\partial f_{out}/\\partial f_{in}$\n",
    " 3. Show that $\\partial\\sigma(x)/\\partial x=\\sigma(x)(1-\\sigma(x))$\n",
    " 4. Show that $\\partial\\tanh(x)/\\partial x=1-\\tanh^2(x)$ (Hint: $\\tanh(x)=(e^x-e^{-x})(e^x+e^{-x})^{-1}$)\n",
    " 5. Compute $\\partial f_{in}/\\partial c$\n",
    " 6. Compute $\\partial f_{in}/\\partial u_1$\n",
    " 7. Compute $\\partial\\mathcal{L}(y,  f_{out})/\\partial c$\n",
    " 8. Compute $\\partial\\mathcal{L}(y,  f_{out})/\\partial u_1$\n",
    " 9. Compute $\\partial f_{in}/\\partial z_{2,out}$\n",
    " 10. Compute $\\partial z_{2,out}/\\partial z_{2,in}$\n",
    " 11. Compute $\\partial z_{2,in}/\\partial b_2$\n",
    " 12. Compute $\\partial z_{2,in}/\\partial w_{12}$\n",
    " 13. Compute $\\partial z_{2,in}/\\partial x_1$\n",
    " 14. Compute $\\partial\\mathcal{L}(y,  f_{out})/\\partial b_2$\n",
    " 15. Compute $\\partial\\mathcal{L}(y,  f_{out})/\\partial w_{12}$\n",
    " 16. Compute $\\partial\\mathcal{L}(y,  f_{out})/\\partial x_1$\n",
    "\n",
    "You will notice that there are lots of redundancies. We will see how to improve these\n",
    "computations in the lecture and in the next lab. Luckily, modern deep learning software\n",
    " computes gradients automatically for you.\n",
    "\n",
    "\n",
    "\n",
    "### Solution\n",
    "\n",
    "#### Question 1\n",
    "\\begin{align*}\n",
    "\\frac{\\partial\\mathcal{L}(y,  f_{out})}{\\partial f_{out}}\n",
    "&=\\frac{\\partial}{\\partial f_{out}}\\bigg(y\\log f_{out}+(1-y)\\log(1- f_{out})\\bigg)\\\\\n",
    "&=-\\frac{y}{ f_{out}}+\\frac{1-y}{1- f_{out}}\n",
    "\\end{align*}\n",
    "\n",
    "#### Question 2\n",
    "\\begin{align*}\n",
    "\\frac{\\partial f_{out}}{\\partial f_{in}}\n",
    "&=\\frac{\\partial}{\\partial f_{in}} \\frac{1}{1+e^{- f_{in}}} \\\\\n",
    "&=-(1+e^{- f_{in}})^{-2}\\cdot (-e^{- f_{in}}) \\\\\n",
    "&=\\frac{e^{- f_{in}}}{(1+e^{- f_{in}})^{2}}\n",
    "\\end{align*}\n",
    "\n",
    "#### Question 3\n",
    "\\begin{align*}\n",
    "\\frac{\\partial}{\\partial x} \\frac{1}{1+e^{-x}}\n",
    "&=\\frac{e^{-x}}{(1+e^{-x})^2} \\\\\n",
    "&=\\frac{1}{1+e^{-x}} \\cdot \\frac{(1+e^{-x})-1}{1+e^{-x}} \\\\\n",
    "&=\\frac{1}{1+e^{-x}} \\cdot \\left(1-\\frac{1}{1+e^{-x}}\\right) \\\\\n",
    "&=\\sigma(x)(1-\\sigma(x))\n",
    "\\end{align*}\n",
    "\n",
    "#### Question 4\n",
    "\\begin{align*}\n",
    "\\frac{\\partial}{\\partial x}\\tanh(x)\n",
    "&=\\frac{\\partial}{\\partial x}\\frac{e^x-e^{-x}}{e^x+e^{-x}} \\\\\n",
    "&=\\frac{(e^x+e^{-x})(e^x+e^{-x})-(e^x-e^{-x})(e^x-e^{-x})}{(e^x+e^{-x})^2} \\\\\n",
    "&=1-\\frac{(e^x-e^{-x})^2}{(e^x+e^{-x})^2} \\\\\n",
    "\\end{align*}\n",
    "\n",
    "#### Question 5\n",
    "\n",
    "\\begin{align*}\n",
    "\\frac{\\partial f_{in}}{\\partial c}\n",
    "&=\\frac{\\partial}{\\partial c}\\left(c+u_1\\cdot z_{1,out}+u_2\\cdot z_{2,out}\\right) \\\\\n",
    "&=1\n",
    "\\end{align*}\n",
    "\n",
    "#### Question 6\n",
    "\n",
    "\\begin{align*}\n",
    "\\frac{\\partial f_{in}}{\\partial u_1}\n",
    "&=\\frac{\\partial}{\\partial u_1}\\left(c+u_1\\cdot z_{1,out}+u_2\\cdot z_{2,out}\\right) \\\\\n",
    "&=z_{1,out}\n",
    "\\end{align*}\n",
    "\n",
    "#### Question 7\n",
    "\n",
    "\\begin{align*}\n",
    "\\frac{\\partial\\mathcal{L}(y,  f_{out})}{\\partial c}\n",
    "&=\\frac{\\partial\\mathcal{L}(y,  f_{out})}{\\partial f_{out}}\n",
    "\\cdot\\frac{\\partial f_{out}}{\\partial f_{in}}\n",
    "\\cdot\\frac{\\partial f_{in}}{c} \\\\\n",
    "&=\\left(-\\frac{y}{ f_{out}}+\\frac{1-y}{1- f_{out}}\\right)\n",
    "\\cdot\\sigma(f_{in})(1-\\sigma(f_{in}))\n",
    "\\cdot 1\n",
    "\\end{align*}\n",
    "\n",
    "\n",
    "#### Question 8\n",
    "\n",
    "\\begin{align*}\n",
    "\\frac{\\partial\\mathcal{L}(y,  f_{out})}{\\partial u_1}\n",
    "&=\\frac{\\partial\\mathcal{L}(y,  f_{out})}{\\partial f_{out}}\n",
    "\\cdot\\frac{\\partial f_{out}}{\\partial f_{in}}\n",
    "\\cdot\\frac{\\partial f_{in}}{u_1} \\\\\n",
    "&=\\left(-\\frac{y}{ f_{out}}+\\frac{1-y}{1- f_{out}}\\right)\n",
    "\\cdot\\sigma(f_{in})(1-\\sigma(f_{in}))\n",
    "\\cdot z_{1,out}\n",
    "\\end{align*}\n",
    "\n",
    "\n",
    "#### Question 9\n",
    "\n",
    "\\begin{align*}\n",
    "\\frac{\\partial f_{in}}{\\partial z_{2,out}}\n",
    "&=\\frac{\\partial}{\\partial z_{2,out}}\\left(c+u_1\\cdot z_{1,out}+u_2\\cdot z_{2,out}\\right) \\\\\n",
    "&=u_2\n",
    "\\end{align*}\n",
    "\n",
    "#### Question 10\n",
    "\n",
    "\\begin{align*}\n",
    "\\frac{\\partial z_{2,out}}{\\partial z_{2,in}}\n",
    "&=\\frac{\\partial}{\\partial z_{2,in}}\\sigma(z_{2,in})\\\\\n",
    "&=1-\\tanh^2(z_{2,in})\n",
    "\\end{align*}\n",
    "\n",
    "#### Question 11\n",
    "\n",
    "\\begin{align*}\n",
    "\\frac{\\partial z_{2,in}}{\\partial b_2}\n",
    "&=\\frac{\\partial}{\\partial b_2}\\left(b_2+w_{12}\\cdot x_1+w_{22}\\cdot x_2 \\right) \\\\\n",
    "&=1\n",
    "\\end{align*}\n",
    "\n",
    "\n",
    "#### Question 12\n",
    "\n",
    "\\begin{align*}\n",
    "\\frac{\\partial z_{2,in}}{\\partial w_{12}}\n",
    "&=\\frac{\\partial}{\\partial w_{12}}\\left(b_2+w_{12}\\cdot x_1+w_{22}\\cdot x_2 \\right) \\\\\n",
    "&=x_1\n",
    "\\end{align*}\n",
    "\n",
    "#### Question 13\n",
    "\n",
    "\\begin{align*}\n",
    "\\frac{\\partial z_{2,in}}{\\partial x_1}\n",
    "&=\\frac{\\partial}{\\partial x_1}\\left(b_2+w_{12}\\cdot x_1+w_{22}\\cdot x_2 \\right) \\\\\n",
    "&=w_{12}\n",
    "\\end{align*}\n",
    "\n",
    "#### Question 14\n",
    "\\begin{align*}\n",
    "\\frac{\\partial\\mathcal{L}(y,  f_{out})}{\\partial b_2}\n",
    "&=\\frac{\\partial\\mathcal{L}(y,  f_{out})}{\\partial f_{out}}\n",
    "\\cdot\\frac{\\partial f_{out}}{\\partial f_{in}}\n",
    "\\cdot\\frac{\\partial f_{in}}{\\partial z_{2,out}}\n",
    "\\cdot\\frac{\\partial z_{2,out}}{\\partial z_{2,in}}\n",
    "\\cdot\\frac{\\partial z_{2,in}}{\\partial b_2} \\\\\n",
    "&=\\left(-\\frac{y}{ f_{out}}+\\frac{1-y}{1- f_{out}}\\right)\n",
    "\\cdot\\sigma(f_{in})(1-\\sigma(f_{in}))\n",
    "\\cdot u_2\n",
    "\\cdot(1-\\tanh^2(z_{2,in}))\n",
    "\\cdot 1\n",
    "\\end{align*}\n",
    "\n",
    "#### Question 15\n",
    "\\begin{align*}\n",
    "\\frac{\\partial\\mathcal{L}(y,  f_{out})}{\\partial w_{12}}\n",
    "&=\\frac{\\partial\\mathcal{L}(y,  f_{out})}{\\partial f_{out}}\n",
    "\\cdot\\frac{\\partial f_{out}}{\\partial f_{in}}\n",
    "\\cdot\\frac{\\partial f_{in}}{\\partial z_{2,out}}\n",
    "\\cdot\\frac{\\partial z_{2,out}}{\\partial z_{2,in}}\n",
    "\\cdot\\frac{\\partial z_{2,in}}{\\partial w_{12}} \\\\\n",
    "&=\\left(-\\frac{y}{ f_{out}}+\\frac{1-y}{1- f_{out}}\\right)\n",
    "\\cdot\\sigma(f_{in})(1-\\sigma(f_{in}))\n",
    "\\cdot u_2\n",
    "\\cdot(1-\\tanh^2(z_{2,in}))\n",
    "\\cdot x_1\n",
    "\\end{align*}\n",
    "\n",
    "#### Question 16\n",
    "\\begin{align*}\n",
    "\\frac{\\partial\\mathcal{L}(y,  f_{out})}{\\partial x_1}\n",
    "&=\\frac{\\partial\\mathcal{L}(y,  f_{out})}{\\partial f_{out}}\n",
    "\\cdot\\frac{\\partial f_{out}}{\\partial f_{in}}\n",
    "\\cdot\\frac{\\partial f_{in}}{\\partial z_{2,out}}\n",
    "\\cdot\\frac{\\partial z_{2,out}}{\\partial z_{2,in}}\n",
    "\\cdot\\frac{\\partial z_{2,in}}{\\partial x_{1}} \\\\\n",
    "&\\quad\\quad + \\frac{\\partial\\mathcal{L}(y,  f_{out})}{\\partial f_{out}}\n",
    "\\cdot\\frac{\\partial f_{out}}{\\partial f_{in}}\n",
    "\\cdot\\frac{\\partial f_{in}}{\\partial z_{1,out}}\n",
    "\\cdot\\frac{\\partial z_{1,out}}{\\partial z_{1,in}}\n",
    "\\cdot\\frac{\\partial z_{1,in}}{\\partial x_{1}} \\\\\n",
    "&=\\left(-\\frac{y}{ f_{out}}+\\frac{1-y}{1- f_{out}}\\right)\n",
    "\\cdot\\sigma(f_{in})(1-\\sigma(f_{in}))\n",
    "\\cdot u_2\n",
    "\\cdot(1-\\tanh^2(z_{2,in}))\n",
    "\\cdot w_{12} \\\\\n",
    "&\\quad\\quad+\\left(-\\frac{y}{ f_{out}}+\\frac{1-y}{1- f_{out}}\\right)\n",
    "\\cdot\\sigma(f_{in})(1-\\sigma(f_{in}))\n",
    "\\cdot u_1\n",
    "\\cdot(1-\\tanh^2(z_{1,in}))\n",
    "\\cdot w_{11}\n",
    "\\end{align*}\n",
    "\n",
    "\n",
    "## Exercise 3\n",
    "\n",
    "Now that we know how to do gradient descent and how to compute the derivatives of the\n",
    "weights of a simple network, we can try to do these steps together and train our first\n",
    "neural network! We will use the small dataset with five points we studied in the first\n",
    "lab.\n",
    "\n",
    "First, let's define the dataset:"
   ]
  },
  {
   "cell_type": "code",
   "execution_count": 6,
   "id": "96e4fdfc",
   "metadata": {
    "execution": {
     "iopub.execute_input": "2021-11-02T09:30:50.170591Z",
     "iopub.status.busy": "2021-11-02T09:30:50.170161Z",
     "iopub.status.idle": "2021-11-02T09:30:50.171650Z",
     "shell.execute_reply": "2021-11-02T09:30:50.172005Z"
    },
    "pycharm": {
     "name": "#%%\n"
    }
   },
   "outputs": [],
   "source": [
    "x = torch.tensor([\n",
    "    [0, 0],\n",
    "    [1, 0],\n",
    "    [0, -1],\n",
    "    [-1, 0],\n",
    "    [0, 1]\n",
    "], dtype=torch.float)\n",
    "y = torch.tensor([1, 0, 0, 0, 0])"
   ]
  },
  {
   "cell_type": "markdown",
   "id": "7522720a",
   "metadata": {
    "pycharm": {
     "name": "#%% md\n"
    }
   },
   "source": [
    "Next, a function to compute the output of the network:"
   ]
  },
  {
   "cell_type": "code",
   "execution_count": 7,
   "id": "4154b016",
   "metadata": {
    "execution": {
     "iopub.execute_input": "2021-11-02T09:30:50.176980Z",
     "iopub.status.busy": "2021-11-02T09:30:50.173660Z",
     "iopub.status.idle": "2021-11-02T09:30:50.182801Z",
     "shell.execute_reply": "2021-11-02T09:30:50.182418Z"
    },
    "pycharm": {
     "name": "#%%\n"
    }
   },
   "outputs": [],
   "source": [
    "\n",
    "def sigmoid(x: Tensor) -> Tensor:\n",
    "    return 1 / (1 + torch.exp(-x))\n",
    "\n",
    "def predict(x: Tensor, b1: float, b2: float,\n",
    "            w11: float, w12: float, w21: float, w22: float,\n",
    "            c: float, u1: float, u2:float) -> Tensor:\n",
    "    z1 = torch.tanh(b1 + x[:, 0] * w11 + x[:, 1] * w21)\n",
    "    z2 = torch.tanh(b2 + x[:, 0] * w12 + x[:, 1] * w22)\n",
    "    return sigmoid(c + u1 * z1 + u2 * z2)\n",
    "\n",
    "# This should return the predictions for the five points in the datasets\n",
    "# We can unpack the param vector for the positional params of the function so that we don't\n",
    "# need to enter every single entry.\n",
    "params = torch.randn(9)\n",
    "predictions = predict(x, *params)"
   ]
  },
  {
   "cell_type": "markdown",
   "id": "63a4b964",
   "metadata": {
    "pycharm": {
     "name": "#%% md\n"
    }
   },
   "source": [
    "Since gradient descent is done on the loss function, we need a function to compute it:"
   ]
  },
  {
   "cell_type": "code",
   "execution_count": 8,
   "id": "a21469cf",
   "metadata": {
    "execution": {
     "iopub.execute_input": "2021-11-02T09:30:50.187069Z",
     "iopub.status.busy": "2021-11-02T09:30:50.186618Z",
     "iopub.status.idle": "2021-11-02T09:30:50.191101Z",
     "shell.execute_reply": "2021-11-02T09:30:50.190699Z"
    },
    "pycharm": {
     "name": "#%%\n"
    }
   },
   "outputs": [
    {
     "name": "stdout",
     "output_type": "stream",
     "text": [
      "tensor(0.5257)\n"
     ]
    }
   ],
   "source": [
    "\n",
    "def get_loss(target: Tensor, pred: Tensor) -> Tensor:\n",
    "    return -torch.mean(target * torch.log(pred + 1e-15) +\n",
    "                       (1 - target) * torch.log(1 - pred + 1e-15))\n",
    "\n",
    "loss = get_loss(y, predictions)\n",
    "print(loss)"
   ]
  },
  {
   "cell_type": "markdown",
   "id": "efe21226",
   "metadata": {
    "pycharm": {
     "name": "#%% md\n"
    }
   },
   "source": [
    "Now, we need to compute the gradient of each parameter:"
   ]
  },
  {
   "cell_type": "code",
   "execution_count": 9,
   "id": "4ca7e7a0",
   "metadata": {
    "execution": {
     "iopub.execute_input": "2021-11-02T09:30:50.205105Z",
     "iopub.status.busy": "2021-11-02T09:30:50.198362Z",
     "iopub.status.idle": "2021-11-02T09:30:50.210134Z",
     "shell.execute_reply": "2021-11-02T09:30:50.209691Z"
    },
    "pycharm": {
     "name": "#%%\n"
    }
   },
   "outputs": [
    {
     "name": "stdout",
     "output_type": "stream",
     "text": [
      "tensor([ 0.0075,  0.0573,  0.0305,  0.0593,  0.0071, -0.0073,  0.0705,  0.0414,\n",
      "        -0.0515])\n"
     ]
    }
   ],
   "source": [
    "\n",
    "def get_gradients(x: Tensor, target: Tensor,\n",
    "            b1: float, b2: float,\n",
    "            w11: float, w12: float, w21: float, w22: float,\n",
    "            c: float, u1: float, u2:float) -> Tensor:\n",
    "    # First, we perform the forward pass.\n",
    "    z1in = b1 + x[:, 0] * w11 + x[:, 1] * w21\n",
    "    z1out = torch.tanh(z1in)\n",
    "\n",
    "    z2in = b2 + x[:, 0] * w12 + x[:, 1] * w22\n",
    "    z2out = torch.tanh(z2in)\n",
    "\n",
    "    fin = c + u1 * z1out + u2 * z2out\n",
    "    fout = sigmoid(fin)\n",
    "\n",
    "\n",
    "    # Now we start back-propagation through the loss and the output neuron.\n",
    "    dL_dfout = -target / (fout + 1e-15) + (1 - target) / (1 - fout + 1e-15)\n",
    "    dfout_dfin = sigmoid(fin) * (1 - sigmoid(fin))\n",
    "\n",
    "    # Compute the gradients for the parameters of the output layer.\n",
    "    dfin_dc = 1\n",
    "    dfin_du1 = z1out\n",
    "    dfin_du2 = z2out\n",
    "\n",
    "    # Take the mean gradient across data points\n",
    "    dL_dc = torch.mean(dL_dfout * dfout_dfin * dfin_dc)\n",
    "    dL_du1 = torch.mean(dL_dfout * dfout_dfin * dfin_du1)\n",
    "    dL_du2 = torch.mean(dL_dfout * dfout_dfin * dfin_du2)\n",
    "\n",
    "    # Back-propagate through the neurons in the first hidden layer.\n",
    "    dfin_dz1out = u1\n",
    "    dfin_dz2out = u2\n",
    "\n",
    "    dz1out_dz1in = 1. - torch.tanh(z1in)**2\n",
    "    dz2out_dz2in = 1. - torch.tanh(z2in)**2\n",
    "\n",
    "    # Compute the derivatives of the parameters of the hidden layer.\n",
    "    dz1in_db1 = dz2in_db2 = 1\n",
    "    dL_db1 = torch.mean(dL_dfout * dfout_dfin * dfin_dz1out * dz1out_dz1in * dz1in_db1)\n",
    "    dL_db2 = torch.mean(dL_dfout * dfout_dfin * dfin_dz2out * dz2out_dz2in * dz2in_db2)\n",
    "\n",
    "    dz1in_dw11 = dz2in_dw12 = x[:, 0]\n",
    "    dL_dw11 = torch.mean(dL_dfout * dfout_dfin * dfin_dz1out * dz1out_dz1in * dz1in_dw11)\n",
    "    dL_dw12 = torch.mean(dL_dfout * dfout_dfin * dfin_dz2out * dz2out_dz2in * dz2in_dw12)\n",
    "\n",
    "    dz1in_dw21 = dz2in_dw22 = x[:, 1]\n",
    "    dL_dw21 = torch.mean(dL_dfout * dfout_dfin * dfin_dz1out * dz1out_dz1in * dz1in_dw21)\n",
    "    dL_dw22 = torch.mean(dL_dfout * dfout_dfin * dfin_dz2out * dz2out_dz2in * dz2in_dw22)\n",
    "\n",
    "    \n",
    "    # Return the derivatives in the same order as the parameters vector\n",
    "    return torch.stack([\n",
    "        dL_db1, dL_db2, dL_dw11, dL_dw12, dL_dw21, dL_dw22, dL_dc, dL_du1, dL_du2  \n",
    "    ])\n",
    "\n",
    "print(get_gradients(x, y, *params))"
   ]
  },
  {
   "cell_type": "markdown",
   "id": "32c55bfe",
   "metadata": {
    "pycharm": {
     "name": "#%% md\n"
    }
   },
   "source": [
    "Finite differences are a useful way to check that the gradients are computed correctly:"
   ]
  },
  {
   "cell_type": "code",
   "execution_count": 10,
   "id": "5864d6e8",
   "metadata": {
    "execution": {
     "iopub.execute_input": "2021-11-02T09:30:50.217497Z",
     "iopub.status.busy": "2021-11-02T09:30:50.217016Z",
     "iopub.status.idle": "2021-11-02T09:30:50.227925Z",
     "shell.execute_reply": "2021-11-02T09:30:50.227357Z"
    },
    "pycharm": {
     "name": "#%%\n"
    }
   },
   "outputs": [
    {
     "name": "stdout",
     "output_type": "stream",
     "text": [
      "Gradients are correct!\n"
     ]
    }
   ],
   "source": [
    "\n",
    "# First, compute the analytical gradient of the parameters.\n",
    "gradient = get_gradients(x, y, *params)\n",
    "eps = 1e-9\n",
    "for i in range(9):\n",
    "    # Compute loss when subtracting eps to parameter i.\n",
    "    neg_params = params.clone()\n",
    "    neg_params[i] = neg_params[i] - eps\n",
    "    neg_value = get_loss(y, predict(x, *neg_params))\n",
    "\n",
    "    # Compute loss when adding eps to parameter i.\n",
    "    pos_params = params.clone()\n",
    "    pos_params[i] = pos_params[i] + eps\n",
    "    pos_value = get_loss(y, predict(x, *pos_params))\n",
    "\n",
    "    # Compute the \"empirical\" gradient of parameter i\n",
    "    fdiff_gradient = torch.mean((pos_value - neg_value) / (2 * eps))\n",
    "\n",
    "    # Error if difference is too large\n",
    "    if torch.abs(gradient[i] - fdiff_gradient) < 1e-5:\n",
    "        raise ValueError('Gradients are probably wrong!')\n",
    "\n",
    "print(\"Gradients are correct!\")"
   ]
  },
  {
   "cell_type": "markdown",
   "id": "e5ce87ad",
   "metadata": {
    "pycharm": {
     "name": "#%% md\n"
    }
   },
   "source": [
    "We can finally train our network. Since the network is so small compared to the dataset,\n",
    " the training procedure is very sensitive to the way the weights are initialized and\n",
    " the step size used in gradient descent.\n",
    "\n",
    "Try to play around with the learning rate and the random initialization of the weights\n",
    "and find reliable values that make training successful in most cases."
   ]
  },
  {
   "cell_type": "code",
   "execution_count": 11,
   "id": "8845803b",
   "metadata": {
    "execution": {
     "iopub.execute_input": "2021-11-02T09:30:50.232793Z",
     "iopub.status.busy": "2021-11-02T09:30:50.232356Z",
     "iopub.status.idle": "2021-11-02T09:30:50.615632Z",
     "shell.execute_reply": "2021-11-02T09:30:50.615971Z"
    },
    "pycharm": {
     "name": "#%%\n"
    }
   },
   "outputs": [
    {
     "name": "stdout",
     "output_type": "stream",
     "text": [
      "RUN 1 \t LOSS 0.5010\n",
      "RUN 2 \t LOSS 0.4520\n",
      "RUN 3 \t LOSS 0.4284\n",
      "RUN 4 \t LOSS 0.4228\n",
      "RUN 5 \t LOSS 0.0831\n",
      "RUN 6 \t LOSS 0.4993\n",
      "RUN 7 \t LOSS 0.4739\n",
      "RUN 8 \t LOSS 0.4269\n",
      "RUN 9 \t LOSS 0.0675\n",
      "RUN 10 \t LOSS 0.3444\n"
     ]
    }
   ],
   "source": [
    "\n",
    "min_loss = 10\n",
    "alpha = 1.\n",
    "steps = 100\n",
    "best_params = None\n",
    "\n",
    "for i in range(10):\n",
    "    params = torch.randn(9)\n",
    "\n",
    "    # Do GD\n",
    "    for _ in range(steps):\n",
    "        gradients = get_gradients(x, y, *params)\n",
    "        params -= alpha * gradients\n",
    "\n",
    "    final_loss = get_loss(y, predict(x, *params))\n",
    "    print('RUN {} \\t LOSS {:.4f}'.format(i + 1, float(final_loss)))\n",
    "\n",
    "    if final_loss < min_loss:\n",
    "        best_params = params\n",
    "        min_loss = final_loss"
   ]
  },
  {
   "cell_type": "markdown",
   "id": "cd14df89",
   "metadata": {
    "pycharm": {
     "name": "#%% md\n"
    }
   },
   "source": [
    "We can use the function in the previous lab to visualize the decision boundary of\n",
    "the best network:"
   ]
  },
  {
   "cell_type": "code",
   "execution_count": 12,
   "id": "a1ce7722",
   "metadata": {
    "execution": {
     "iopub.execute_input": "2021-11-02T09:30:50.619742Z",
     "iopub.status.busy": "2021-11-02T09:30:50.619266Z",
     "iopub.status.idle": "2021-11-02T09:30:50.620968Z",
     "shell.execute_reply": "2021-11-02T09:30:50.621347Z"
    },
    "pycharm": {
     "name": "#%%\n"
    }
   },
   "outputs": [],
   "source": [
    "\n",
    "def plot_decision_boundary(\n",
    "        x: Tensor, y: Tensor, grid_x: Tensor, grid_y, pred: Tensor) -> None:\n",
    "    \"\"\"Plot the estimated decision boundary for a 2D grid with predictions.\"\"\"\n",
    "    plt.contourf(grid_x, grid_y, pred.view(grid_x.shape))\n",
    "    plt.scatter(x[:, 0], x[:, 1], c=y, cmap='jet')\n",
    "    plt.show()"
   ]
  },
  {
   "cell_type": "code",
   "execution_count": 13,
   "id": "802cd0fb",
   "metadata": {
    "execution": {
     "iopub.execute_input": "2021-11-02T09:30:50.624837Z",
     "iopub.status.busy": "2021-11-02T09:30:50.624413Z",
     "iopub.status.idle": "2021-11-02T09:30:50.948517Z",
     "shell.execute_reply": "2021-11-02T09:30:50.948861Z"
    },
    "pycharm": {
     "name": "#%%\n"
    },
    "scrolled": true
   },
   "outputs": [
    {
     "data": {
      "application/pdf": "[encoded data removed]",
      "image/png": "[encoded data removed]",
      "text/plain": [
       "<Figure size 432x288 with 1 Axes>"
      ]
     },
     "metadata": {
      "needs_background": "light"
     },
     "output_type": "display_data"
    }
   ],
   "source": [
    "\n",
    "grid_range = torch.linspace(-2, 2, 50)\n",
    "grid_x, grid_y = torch.meshgrid(grid_range, grid_range)\n",
    "grid_data = torch.stack([grid_x.flatten(), grid_y.flatten()]).T\n",
    "pred = predict(grid_data, *best_params)\n",
    "\n",
    "plot_decision_boundary(x, y, grid_x, grid_y, pred)\n",
    "\n"
   ]
  },
  {
   "cell_type": "markdown",
   "id": "5792130d",
   "metadata": {
    "pycharm": {
     "name": "#%% md\n"
    }
   },
   "source": [
    "Also try to visualize the decision boundary of network with random parameters:"
   ]
  },
  {
   "cell_type": "code",
   "execution_count": 14,
   "id": "2e0373fd",
   "metadata": {
    "execution": {
     "iopub.execute_input": "2021-11-02T09:30:50.952048Z",
     "iopub.status.busy": "2021-11-02T09:30:50.951632Z",
     "iopub.status.idle": "2021-11-02T09:30:51.162022Z",
     "shell.execute_reply": "2021-11-02T09:30:51.162514Z"
    },
    "pycharm": {
     "name": "#%%\n"
    }
   },
   "outputs": [
    {
     "data": {
      "application/pdf": "[encoded data removed]",
      "image/png": "[encoded data removed]",
      "text/plain": [
       "<Figure size 432x288 with 1 Axes>"
      ]
     },
     "metadata": {
      "needs_background": "light"
     },
     "output_type": "display_data"
    }
   ],
   "source": [
    "pred = predict(grid_data, *torch.randn(9))\n",
    "plot_decision_boundary(x, y, grid_x, grid_y, pred)"
   ]
  }
 ],
 "metadata": {
  "kernelspec": {
   "display_name": "Python 3 (ipykernel)",
   "language": "python",
   "name": "python3"
  },
  "language_info": {
   "codemirror_mode": {
    "name": "ipython",
    "version": 3
   },
   "file_extension": ".py",
   "mimetype": "text/x-python",
   "name": "python",
   "nbconvert_exporter": "python",
   "pygments_lexer": "ipython3",
   "version": "3.8.5"
  }
 },
 "nbformat": 4,
 "nbformat_minor": 5
}
