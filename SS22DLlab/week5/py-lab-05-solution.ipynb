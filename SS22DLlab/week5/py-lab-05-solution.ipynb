{
 "cells": [
  {
   "cell_type": "markdown",
   "id": "1b5bab54",
   "metadata": {
    "pycharm": {
     "name": "#%% md\n"
    }
   },
   "source": [
    "# Lab 5\n",
    "\n",
    "Hüseyin Anil Gündüz\n",
    "\n",
    "Welcome to the fifth lab. We will first implement a simple scalar automatic\n",
    "differentiation engine to compute partial derivatives for us,\n",
    "then do a theoretical exercise about L2 regularization.\n",
    "\n",
    "## Imports"
   ]
  },
  {
   "cell_type": "code",
   "execution_count": 1,
   "id": "07021f95",
   "metadata": {
    "execution": {
     "iopub.execute_input": "2021-11-16T10:05:33.405368Z",
     "iopub.status.busy": "2021-11-16T10:05:33.404592Z",
     "iopub.status.idle": "2021-11-16T10:05:33.646352Z",
     "shell.execute_reply": "2021-11-16T10:05:33.646635Z"
    },
    "pycharm": {
     "name": "#%%\n"
    }
   },
   "outputs": [],
   "source": [
    "import math\n",
    "from abc import ABC, abstractmethod\n",
    "from random import uniform\n",
    "from typing import Optional, List, Union, Dict\n",
    "\n",
    "import matplotlib.pyplot as plt\n",
    "from matplotlib_inline.backend_inline import set_matplotlib_formats\n",
    "\n",
    "set_matplotlib_formats('png', 'pdf')"
   ]
  },
  {
   "cell_type": "markdown",
   "id": "1c6b7cee",
   "metadata": {
    "pycharm": {
     "name": "#%% md\n"
    }
   },
   "source": [
    "## Exercise 1\n",
    "\n",
    "Modern deep learning frameworks compute gradients automatically,\n",
    "so that you only need to define how to perform the forward pass in your code.\n",
    "Under the hood, the framework constructs a computational graph based on the operations\n",
    "you used. For example, consider the node:\n",
    "\n",
    "\\begin{equation}\n",
    "4xy+e^{-y}\n",
    "\\label{eq:ex}\n",
    "\\end{equation}\n",
    "\n",
    "It can be translated into a graph that looks like this:\n",
    "\n",
    "![](labweek5.png)\n",
    "\n",
    "Where we have 'leaf' nodes at the top for variables and constants, and 'internal' nodes\n",
    "for operations. To make things simpler, in this exercise we will only work with\n",
    "scalar operations and scalar variables, but what we are going to create could, in\n",
    "principle, be extended to work with vectors and matrices. Section 6 of chapter 5 of the\n",
    "_Mathematics for Machine Learning_ book (https://mml-book.github.io/) is a good\n",
    "supplementary read.\n",
    "\n",
    "The naming of the classes responds to:\n",
    "\n",
    " - `Sum` for Addition $x+y$\n",
    " - `Sub` for Subtraction $x-y$\n",
    " - `Mul` for Product $x\\cdot y$\n",
    " - `Div` for Division $x / y$\n",
    " - `Exp` for Exponentiation $e^x$\n",
    " - `TanH` for Hyperbolic tangent $\\tanh(x)$\n",
    " - `Log` for Logarithm $\\log(x)$\n",
    "\n",
    "\n",
    "We first define some utilities to easily create nodes.\n",
    "An abstract class gives us a common interface across all the respective nodes that\n",
    "we will derive from it. This doesn't make sense now, as the class is basically empty,\n",
    "but we will extend the definition over the course of the exercise."
   ]
  },
  {
   "cell_type": "code",
   "execution_count": 2,
   "id": "4dbc75aa",
   "metadata": {
    "execution": {
     "iopub.execute_input": "2021-11-16T10:05:33.651750Z",
     "iopub.status.busy": "2021-11-16T10:05:33.651419Z",
     "iopub.status.idle": "2021-11-16T10:05:33.653271Z",
     "shell.execute_reply": "2021-11-16T10:05:33.652940Z"
    },
    "pycharm": {
     "name": "#%%\n"
    }
   },
   "outputs": [],
   "source": [
    "class BaseNode(ABC):\n",
    "    pass\n",
    "\n",
    "\n",
    "class Const(BaseNode):\n",
    "    def __init__(self, value: Union[float, int]):\n",
    "        self.value = value\n",
    "\n",
    "\n",
    "class Var(BaseNode):\n",
    "    def __init__(self, name: str):\n",
    "        self.name = name\n",
    "\n",
    "\n",
    "class BinaryOperation(BaseNode, ABC):\n",
    "    def __init__(self, x: BaseNode, y: BaseNode):\n",
    "        self.x = x\n",
    "        self.y = y\n",
    "\n",
    "\n",
    "class Sum(BinaryOperation):\n",
    "    pass\n",
    "\n",
    "\n",
    "class Sub(BinaryOperation):\n",
    "    pass\n",
    "\n",
    "\n",
    "class Mul(BinaryOperation):\n",
    "    pass\n",
    "\n",
    "\n",
    "class Div(BinaryOperation):\n",
    "    pass\n",
    "\n",
    "\n",
    "class Function(BaseNode, ABC):\n",
    "    def __init__(self, x: BaseNode):\n",
    "        self.x = x\n",
    "\n",
    "\n",
    "class Exp(Function):\n",
    "    pass\n",
    "\n",
    "\n",
    "class Log(Function):\n",
    "    pass\n",
    "\n",
    "\n",
    "class TanH(Function):\n",
    "    pass"
   ]
  },
  {
   "cell_type": "code",
   "execution_count": 3,
   "id": "d5d6c2cd",
   "metadata": {
    "execution": {
     "iopub.execute_input": "2021-11-16T10:05:33.656652Z",
     "iopub.status.busy": "2021-11-16T10:05:33.656142Z",
     "iopub.status.idle": "2021-11-16T10:05:33.658158Z",
     "shell.execute_reply": "2021-11-16T10:05:33.658422Z"
    },
    "pycharm": {
     "name": "#%%\n"
    }
   },
   "outputs": [
    {
     "name": "stdout",
     "output_type": "stream",
     "text": [
      "<__main__.Sum object at 0x7f7da09fb090>\n",
      "<__main__.Mul object at 0x7f7da09f8f10>\n",
      "<__main__.Exp object at 0x7f7da09fb050>\n"
     ]
    }
   ],
   "source": [
    "# We then define the graph from the equation before.\n",
    "x = Var('x')\n",
    "y = Var('y')\n",
    "\n",
    "z = Sum(\n",
    "    x=Mul(\n",
    "        x=Mul(\n",
    "            x=Const(4),\n",
    "            y=x\n",
    "        ),\n",
    "        y=y,\n",
    "    ),\n",
    "    y=Exp(\n",
    "        x=Mul(\n",
    "            x=Const(-1),\n",
    "            y=y\n",
    "    ))\n",
    ")\n",
    "\n",
    "print(z)\n",
    "print(z.x.x)\n",
    "print(z.y)"
   ]
  },
  {
   "cell_type": "markdown",
   "id": "67282bb3",
   "metadata": {
    "pycharm": {
     "name": "#%% md\n"
    }
   },
   "source": [
    "This structure of nested objects contains the computational graph for the node above.\n",
    "Now, we can write code to manipulate this expression as we please.\n",
    "In the course of this exercise, we will see how:\n",
    "\n",
    " 1. Print an expression,\n",
    " 2. Compute its value, given the values of the variables involved,\n",
    " 3. Differentiate it to automatically find partial derivatives with respect to any given variable,\n",
    " 4. Transform it into simpler expressions that are cheaper to handle, and\n",
    " 5. Write code to train a neural network without getting our hands dirty with derivatives ever again.\n",
    "\n",
    "\n",
    "### Printing an expression\n",
    "First, since it is quite hard to understand the node from the representation above,\n",
    "let us extend the classes to convert a computational graph into a string representation\n",
    "that is easier to understand. For example, the expression $x+2y$ should be converted to"
   ]
  },
  {
   "cell_type": "code",
   "execution_count": 4,
   "id": "086f6bda",
   "metadata": {
    "execution": {
     "iopub.execute_input": "2021-11-16T10:05:33.662364Z",
     "iopub.status.busy": "2021-11-16T10:05:33.662020Z",
     "iopub.status.idle": "2021-11-16T10:05:33.664653Z",
     "shell.execute_reply": "2021-11-16T10:05:33.664918Z"
    },
    "pycharm": {
     "name": "#%%\n"
    }
   },
   "outputs": [
    {
     "data": {
      "text/plain": [
       "['(', 'x', '+', '(', '2', '*', 'y', ')', ')']"
      ]
     },
     "execution_count": 4,
     "metadata": {},
     "output_type": "execute_result"
    }
   ],
   "source": [
    "['(', 'x', '+', '(', '2', '*', 'y', ')', ')']"
   ]
  },
  {
   "cell_type": "markdown",
   "id": "17cd6950",
   "metadata": {
    "pycharm": {
     "name": "#%% md\n"
    }
   },
   "source": [
    "Which can be printed easily using `join`, resulting in `( x + ( 2 * y ) )`.\n",
    "\n",
    "Such a function should be _recursive_. This means that when simplifying a complicated\n",
    "expression it will call itself on each constituting piece of that expression, and\n",
    "\"assemble\" the results together.\n",
    "Conceptually, the procedure is similar to the factorial operation,\n",
    "which is recursively defined in terms of the factorial of a smaller number:\n",
    "\n",
    "\\begin{equation}\n",
    "n!=\\begin{cases}\n",
    "1 & \\text{if }n < 1 \\\\\n",
    "n\\cdot(n-1)! & \\text{otherwise}\n",
    "\\end{cases}\n",
    "\\end{equation}\n",
    "\n",
    "This definition can be converted into Python as:"
   ]
  },
  {
   "cell_type": "code",
   "execution_count": 5,
   "id": "b7413678",
   "metadata": {
    "execution": {
     "iopub.execute_input": "2021-11-16T10:05:33.667611Z",
     "iopub.status.busy": "2021-11-16T10:05:33.667287Z",
     "iopub.status.idle": "2021-11-16T10:05:33.669103Z",
     "shell.execute_reply": "2021-11-16T10:05:33.669368Z"
    },
    "pycharm": {
     "name": "#%%\n"
    }
   },
   "outputs": [
    {
     "name": "stdout",
     "output_type": "stream",
     "text": [
      "24\n"
     ]
    }
   ],
   "source": [
    "def factorial(n: int) -> int:\n",
    "    if n < 1:\n",
    "        return 1\n",
    "    else:\n",
    "        return n * factorial(n - 1)\n",
    "\n",
    "print(factorial(4))"
   ]
  },
  {
   "cell_type": "markdown",
   "id": "558c55f5",
   "metadata": {
    "pycharm": {
     "name": "#%% md\n"
    }
   },
   "source": [
    "In a similar way, we extend the classes with `__str__`, which is a Python utility to\n",
    "obtain a custom string representation of an object. If we define it correctly, we\n",
    "are able to traverse through the tree and print the expression."
   ]
  },
  {
   "cell_type": "code",
   "execution_count": 6,
   "id": "88c5711c",
   "metadata": {
    "execution": {
     "iopub.execute_input": "2021-11-16T10:05:33.675885Z",
     "iopub.status.busy": "2021-11-16T10:05:33.675548Z",
     "iopub.status.idle": "2021-11-16T10:05:33.678012Z",
     "shell.execute_reply": "2021-11-16T10:05:33.677674Z"
    },
    "pycharm": {
     "name": "#%%\n"
    }
   },
   "outputs": [],
   "source": [
    "\n",
    "class BaseNode(ABC):\n",
    "    @abstractmethod\n",
    "    def __str__(self) -> str:\n",
    "        pass\n",
    "\n",
    "\n",
    "class Const(BaseNode):\n",
    "    def __init__(self, value: Union[float, int]):\n",
    "        self.value = value\n",
    "\n",
    "    def __str__(self) -> str:\n",
    "        return str(self.value)\n",
    "\n",
    "\n",
    "class Var(BaseNode):\n",
    "    def __init__(self, name: str):\n",
    "        self.name = name\n",
    "\n",
    "    def __str__(self) -> str:\n",
    "        return self.name\n",
    "\n",
    "\n",
    "class BinaryOperation(BaseNode, ABC):\n",
    "    def __init__(self, x: BaseNode, y: BaseNode):\n",
    "        self.x = x\n",
    "        self.y = y\n",
    "\n",
    "\n",
    "class Sum(BinaryOperation):\n",
    "    def __str__(self) -> str:\n",
    "        return '({} + {})'.format(self.x, self.y)\n",
    "\n",
    "\n",
    "class Sub(BinaryOperation):\n",
    "    def __str__(self) -> str:\n",
    "        return '({} - {})'.format(self.x, self.y)\n",
    "\n",
    "\n",
    "class Mul(BinaryOperation):\n",
    "    def __str__(self) -> str:\n",
    "        return '({} * {})'.format(self.x, self.y)\n",
    "\n",
    "\n",
    "class Div(BinaryOperation):\n",
    "    def __str__(self) -> str:\n",
    "        return '({} / {})'.format(self.x, self.y)\n",
    "\n",
    "\n",
    "class Function(BaseNode, ABC):\n",
    "    def __init__(self, x: BaseNode):\n",
    "        self.x = x\n",
    "\n",
    "\n",
    "class Exp(Function):\n",
    "    def __str__(self) -> str:\n",
    "        return 'exp({})'.format(self.x)\n",
    "\n",
    "\n",
    "class Log(Function):\n",
    "    def __str__(self) -> str:\n",
    "        return 'log({})'.format(self.x)\n",
    "\n",
    "\n",
    "class TanH(Function):\n",
    "    def __str__(self) -> str:\n",
    "        return 'tanh({})'.format(self.x)"
   ]
  },
  {
   "cell_type": "code",
   "execution_count": 7,
   "id": "9e534a59",
   "metadata": {
    "execution": {
     "iopub.execute_input": "2021-11-16T10:05:33.680980Z",
     "iopub.status.busy": "2021-11-16T10:05:33.680657Z",
     "iopub.status.idle": "2021-11-16T10:05:33.682715Z",
     "shell.execute_reply": "2021-11-16T10:05:33.682451Z"
    },
    "pycharm": {
     "name": "#%%\n"
    }
   },
   "outputs": [
    {
     "name": "stdout",
     "output_type": "stream",
     "text": [
      "(((4 * x) * y) + exp((-1 * y)))\n"
     ]
    }
   ],
   "source": [
    "x = Var('x')\n",
    "y = Var('y')\n",
    "\n",
    "z = Sum(\n",
    "    x=Mul(\n",
    "        x=Mul(\n",
    "            x=Const(4),\n",
    "            y=x\n",
    "        ),\n",
    "        y=y,\n",
    "    ),\n",
    "    y=Exp(\n",
    "        x=Mul(\n",
    "            x=Const(-1),\n",
    "            y=y\n",
    "    ))\n",
    ")\n",
    "\n",
    "print(z)"
   ]
  },
  {
   "cell_type": "markdown",
   "id": "5db97ffb",
   "metadata": {
    "pycharm": {
     "name": "#%% md\n"
    }
   },
   "source": [
    "This is much simpler to read!\n",
    "\n",
    "### Computing the value of an expression\n",
    "We can now extend the classes to compute the value of an expression given values for\n",
    "the variables. The methods should be recursive too."
   ]
  },
  {
   "cell_type": "code",
   "execution_count": 8,
   "id": "0e33e549",
   "metadata": {
    "execution": {
     "iopub.execute_input": "2021-11-16T10:05:33.692796Z",
     "iopub.status.busy": "2021-11-16T10:05:33.692450Z",
     "iopub.status.idle": "2021-11-16T10:05:33.694237Z",
     "shell.execute_reply": "2021-11-16T10:05:33.693814Z"
    },
    "pycharm": {
     "name": "#%%\n"
    }
   },
   "outputs": [],
   "source": [
    "\n",
    "class BaseNode(ABC):\n",
    "    @abstractmethod\n",
    "    def __str__(self) -> str:\n",
    "        pass\n",
    "\n",
    "    @abstractmethod\n",
    "    def eval(self) -> Union[float, int]:\n",
    "        pass\n",
    "\n",
    "\n",
    "class Const(BaseNode):\n",
    "    def __init__(self, value: Union[float, int]):\n",
    "        self.value = value\n",
    "\n",
    "    def __str__(self) -> str:\n",
    "        return str(self.value)\n",
    "\n",
    "    def eval(self) -> Union[float, int]:\n",
    "        return self.value\n",
    "\n",
    "\n",
    "class Var(BaseNode):\n",
    "    def __init__(self, name: str, value: Optional[Union[float, int]] = None):\n",
    "        self.name = name\n",
    "        self.value = value\n",
    "        \n",
    "    def set_value(self, value: Union[float, int]) -> None:\n",
    "        self.value = value\n",
    "\n",
    "    def __str__(self) -> str:\n",
    "        return self.name\n",
    "    \n",
    "    def eval(self) -> Union[float, int]:\n",
    "        if self.value is None:\n",
    "            raise ValueError('Value is not set. Evaluation is not possible.')\n",
    "        return self.value\n",
    "\n",
    "\n",
    "class BinaryOperation(BaseNode, ABC):\n",
    "    def __init__(self, x: BaseNode, y: BaseNode):\n",
    "        self.x = x\n",
    "        self.y = y\n",
    "\n",
    "\n",
    "class Sum(BinaryOperation):\n",
    "    def __str__(self) -> str:\n",
    "        return '({} + {})'.format(self.x, self.y)\n",
    "    \n",
    "    def eval(self) -> Union[float, int]:\n",
    "        return self.x.eval() + self.y.eval()\n",
    "\n",
    "\n",
    "class Sub(BinaryOperation):\n",
    "    def __str__(self) -> str:\n",
    "        return '({} - {})'.format(self.x, self.y)\n",
    "\n",
    "    def eval(self) -> Union[float, int]:\n",
    "        return self.x.eval() - self.y.eval()\n",
    "\n",
    "\n",
    "class Mul(BinaryOperation):\n",
    "    def __str__(self) -> str:\n",
    "        return '({} * {})'.format(self.x, self.y)\n",
    "\n",
    "    def eval(self) -> Union[float, int]:\n",
    "        return self.x.eval() * self.y.eval()\n",
    "\n",
    "\n",
    "class Div(BinaryOperation):\n",
    "    def __str__(self) -> str:\n",
    "        return '({} / {})'.format(self.x, self.y)\n",
    "\n",
    "    def eval(self) -> Union[float, int]:\n",
    "        return self.x.eval() / self.y.eval()\n",
    "\n",
    "\n",
    "class Function(BaseNode, ABC):\n",
    "    def __init__(self, x: BaseNode):\n",
    "        self.x = x\n",
    "\n",
    "\n",
    "class Exp(Function):\n",
    "    def __str__(self) -> str:\n",
    "        return 'exp({})'.format(self.x)\n",
    "\n",
    "    def eval(self) -> Union[float, int]:\n",
    "        return math.exp(self.x.eval())\n",
    "\n",
    "class Log(Function):\n",
    "    def __str__(self) -> str:\n",
    "        return 'log({})'.format(self.x)\n",
    "\n",
    "    def eval(self) -> Union[float, int]:\n",
    "        return math.log(self.x.eval())\n",
    "\n",
    "class TanH(Function):\n",
    "    def __str__(self) -> str:\n",
    "        return 'tanh({})'.format(self.x)\n",
    "\n",
    "    def eval(self) -> Union[float, int]:\n",
    "        return math.tanh(self.x.eval())"
   ]
  },
  {
   "cell_type": "code",
   "execution_count": 9,
   "id": "71cd39cd",
   "metadata": {
    "execution": {
     "iopub.execute_input": "2021-11-16T10:05:33.697113Z",
     "iopub.status.busy": "2021-11-16T10:05:33.696789Z",
     "iopub.status.idle": "2021-11-16T10:05:33.698742Z",
     "shell.execute_reply": "2021-11-16T10:05:33.698479Z"
    },
    "pycharm": {
     "name": "#%%\n"
    }
   },
   "outputs": [
    {
     "name": "stdout",
     "output_type": "stream",
     "text": [
      "24.049787068367863\n"
     ]
    }
   ],
   "source": [
    "x = Var('x', value=2)\n",
    "y = Var('y', value=3)\n",
    "\n",
    "z = Sum(\n",
    "    x=Mul(\n",
    "        x=Mul(\n",
    "            x=Const(4),\n",
    "            y=x\n",
    "        ),\n",
    "        y=y,\n",
    "    ),\n",
    "    y=Exp(\n",
    "        x=Mul(\n",
    "            x=Const(-1),\n",
    "            y=y\n",
    "    ))\n",
    ")\n",
    "\n",
    "print(z.eval())"
   ]
  },
  {
   "cell_type": "markdown",
   "id": "02ca032d",
   "metadata": {
    "pycharm": {
     "name": "#%% md\n"
    }
   },
   "source": [
    "The result that we expect is, of course:"
   ]
  },
  {
   "cell_type": "code",
   "execution_count": 10,
   "id": "f0d95eca",
   "metadata": {
    "execution": {
     "iopub.execute_input": "2021-11-16T10:05:33.701178Z",
     "iopub.status.busy": "2021-11-16T10:05:33.700859Z",
     "iopub.status.idle": "2021-11-16T10:05:33.702681Z",
     "shell.execute_reply": "2021-11-16T10:05:33.702358Z"
    },
    "pycharm": {
     "name": "#%%\n"
    }
   },
   "outputs": [
    {
     "name": "stdout",
     "output_type": "stream",
     "text": [
      "24.049787068367863\n"
     ]
    }
   ],
   "source": [
    "print(4 * 2 * 3 + math.exp(-3))"
   ]
  },
  {
   "cell_type": "markdown",
   "id": "9d0c9718",
   "metadata": {
    "pycharm": {
     "name": "#%% md\n"
    }
   },
   "source": [
    "### Differentiating an expression\n",
    "\n",
    "We can finally see how to differentiate an expression with respect to a variable.\n",
    "We do this again through extending the classes to differentiates each argument\n",
    "and merge the result. Note that this should return a new computational\n",
    "graph that contains the operations necessary to compute the partial derivative\n",
    "we are interested in.\n",
    "Each `differentiate` method gets the argument `var` that specifies the name of the\n",
    "variable of which we are computing the gradient.\n",
    "\n",
    "Remember to use the chain rule where appropriate!"
   ]
  },
  {
   "cell_type": "code",
   "execution_count": 11,
   "id": "cf7813fd",
   "metadata": {
    "execution": {
     "iopub.execute_input": "2021-11-16T10:05:33.717825Z",
     "iopub.status.busy": "2021-11-16T10:05:33.717457Z",
     "iopub.status.idle": "2021-11-16T10:05:33.719314Z",
     "shell.execute_reply": "2021-11-16T10:05:33.718984Z"
    },
    "pycharm": {
     "name": "#%%\n"
    }
   },
   "outputs": [],
   "source": [
    "\n",
    "class BaseNode(ABC):\n",
    "    @abstractmethod\n",
    "    def __str__(self) -> str:\n",
    "        pass\n",
    "\n",
    "    @abstractmethod\n",
    "    def eval(self) -> Union[float, int]:\n",
    "        pass\n",
    "\n",
    "    @abstractmethod\n",
    "    def differentiate(self, var: str) -> BaseNode:\n",
    "        pass\n",
    "\n",
    "\n",
    "class Const(BaseNode):\n",
    "    def __init__(self, value: Union[float, int]):\n",
    "        self.value = value\n",
    "\n",
    "    def __str__(self) -> str:\n",
    "        return str(self.value)\n",
    "\n",
    "    def eval(self) -> Union[float, int]:\n",
    "        return self.value\n",
    "\n",
    "    def differentiate(self, var: str) -> BaseNode:\n",
    "        return Const(0)\n",
    "\n",
    "\n",
    "class Var(BaseNode):\n",
    "    def __init__(self, name: str, value: Optional[Union[float, int]] = None):\n",
    "        self.name = name\n",
    "        self.value = value\n",
    "\n",
    "    def set_value(self, value: Union[float, int]) -> None:\n",
    "        self.value = value\n",
    "\n",
    "    def __str__(self) -> str:\n",
    "        return self.name\n",
    "\n",
    "    def eval(self) -> Union[float, int]:\n",
    "        if self.value is None:\n",
    "            raise ValueError('Value is not set. Evaluation is not possible.')\n",
    "        return self.value\n",
    "\n",
    "    def differentiate(self, var: str) -> BaseNode:\n",
    "        return Const(1) if self.name == var else Const(0)\n",
    "\n",
    "\n",
    "class BinaryOperation(BaseNode, ABC):\n",
    "    def __init__(self, x: BaseNode, y: BaseNode):\n",
    "        self.x = x\n",
    "        self.y = y\n",
    "\n",
    "\n",
    "class Sum(BinaryOperation):\n",
    "    def __str__(self) -> str:\n",
    "        return '({} + {})'.format(self.x, self.y)\n",
    "\n",
    "    def eval(self) -> Union[float, int]:\n",
    "        return self.x.eval() + self.y.eval()\n",
    "\n",
    "    def differentiate(self, var: str) -> BaseNode:\n",
    "        return Sum(self.x.differentiate(var), self.y.differentiate(var))\n",
    "\n",
    "\n",
    "class Sub(BinaryOperation):\n",
    "    def __str__(self) -> str:\n",
    "        return '({} - {})'.format(self.x, self.y)\n",
    "\n",
    "    def eval(self) -> Union[float, int]:\n",
    "        return self.x.eval() - self.y.eval()\n",
    "\n",
    "    def differentiate(self, var: str) -> BaseNode:\n",
    "        return Sub(self.x.differentiate(var), self.y.differentiate(var))\n",
    "\n",
    "\n",
    "class Mul(BinaryOperation):\n",
    "    def __str__(self) -> str:\n",
    "        return '({} * {})'.format(self.x, self.y)\n",
    "\n",
    "    def eval(self) -> Union[float, int]:\n",
    "        return self.x.eval() * self.y.eval()\n",
    "\n",
    "    def differentiate(self, var: str) -> BaseNode:\n",
    "        return Sum(\n",
    "            x=Mul(self.x.differentiate(var), self.y),\n",
    "            y=Mul(self.x, self.y.differentiate(var))\n",
    "        )\n",
    "\n",
    "\n",
    "class Div(BinaryOperation):\n",
    "    def __str__(self) -> str:\n",
    "        return '({} / {})'.format(self.x, self.y)\n",
    "\n",
    "    def eval(self) -> Union[float, int]:\n",
    "        return self.x.eval() / self.y.eval()\n",
    "\n",
    "    def differentiate(self, var: str) -> BaseNode:\n",
    "        return Div(\n",
    "            x=Sub(\n",
    "                x=Mul(self.x.differentiate(var), self.y),\n",
    "                y=Mul(self.y.differentiate(var), self.x)\n",
    "            ),\n",
    "            y=Mul(self.y, self.y)\n",
    "        )\n",
    "\n",
    "\n",
    "class Function(BaseNode, ABC):\n",
    "    def __init__(self, x: BaseNode):\n",
    "        self.x = x\n",
    "\n",
    "\n",
    "class Exp(Function):\n",
    "    def __str__(self) -> str:\n",
    "        return 'exp({})'.format(self.x)\n",
    "\n",
    "    def eval(self) -> Union[float, int]:\n",
    "        return math.exp(self.x.eval())\n",
    "\n",
    "    def differentiate(self, var: str) -> BaseNode:\n",
    "        return Mul(\n",
    "            x=Exp(self.x),\n",
    "            y=self.x.differentiate(var)\n",
    "        )\n",
    "\n",
    "\n",
    "class Log(Function):\n",
    "    def __str__(self) -> str:\n",
    "        return 'log({})'.format(self.x)\n",
    "\n",
    "    def eval(self) -> Union[float, int]:\n",
    "        return math.log(self.x.eval())\n",
    "\n",
    "    def differentiate(self, var: str) -> BaseNode:\n",
    "        return Div(\n",
    "            x=self.x.differentiate(var),\n",
    "            y=self.x\n",
    "        )\n",
    "\n",
    "\n",
    "class TanH(Function):\n",
    "    def __str__(self) -> str:\n",
    "        return 'tanh({})'.format(self.x)\n",
    "\n",
    "    def eval(self) -> Union[float, int]:\n",
    "        return math.tanh(self.x.eval())\n",
    "\n",
    "    def differentiate(self, var: str) -> BaseNode:\n",
    "        return Mul(\n",
    "            x=Sub(\n",
    "                x=Const(1),\n",
    "                y=Mul(TanH(self.x), TanH(self.x))\n",
    "            ),\n",
    "            y=self.x.differentiate(var)\n",
    "        )"
   ]
  },
  {
   "cell_type": "code",
   "execution_count": 12,
   "id": "b03635ed",
   "metadata": {
    "execution": {
     "iopub.execute_input": "2021-11-16T10:05:33.722524Z",
     "iopub.status.busy": "2021-11-16T10:05:33.722199Z",
     "iopub.status.idle": "2021-11-16T10:05:33.724120Z",
     "shell.execute_reply": "2021-11-16T10:05:33.723859Z"
    },
    "pycharm": {
     "name": "#%%\n"
    }
   },
   "outputs": [
    {
     "name": "stdout",
     "output_type": "stream",
     "text": [
      "(((((0 * x) + (4 * 1)) * y) + ((4 * x) * 0)) + (exp((-1 * y)) * ((0 * y) + (-1 * 0))))\n"
     ]
    }
   ],
   "source": [
    "x = Var('x', value=2)\n",
    "y = Var('y', value=3)\n",
    "\n",
    "z = Sum(\n",
    "    x=Mul(\n",
    "        x=Mul(\n",
    "            x=Const(4),\n",
    "            y=x\n",
    "        ),\n",
    "        y=y,\n",
    "    ),\n",
    "    y=Exp(\n",
    "        x=Mul(\n",
    "            x=Const(-1),\n",
    "            y=y\n",
    "    ))\n",
    ")\n",
    "\n",
    "dz = z.differentiate('x')\n",
    "print(dz)"
   ]
  },
  {
   "cell_type": "markdown",
   "id": "c6902e6c",
   "metadata": {
    "pycharm": {
     "name": "#%% md\n"
    }
   },
   "source": [
    "This looks a bit complicated, but by applying some trivial simplifications we see it is correct:\n",
    "\n",
    "\\begin{align*}\n",
    "& ( ( ( ( ( 0 \\cdot x ) + ( 4 \\cdot 1 ) ) \\cdot y ) + ( ( 4 \\cdot x ) \\cdot 0 ) ) + ( exp ( ( -1 \\cdot y ) ) \\cdot ( ( 0 \\cdot y ) + ( -1 \\cdot 0 ) ) ) )  \\\\\n",
    "&\\qquad= ( ( ( 0 + 4 ) \\cdot y ) + 0 ) + ( exp ( ( -1 \\cdot y ) ) \\cdot ( 0 + 0 ) ) ) \\\\\n",
    "&\\qquad= ( 4 \\cdot y ) + ( exp ( ( -1 \\cdot y ) ) \\cdot 0 ) ) \\\\\n",
    "&\\qquad= ( 4 \\cdot y ) + 0 \\\\\n",
    "&\\qquad= 4 \\cdot y \\\\\n",
    "&\\qquad= \\frac{\\text{d}}{\\text{d}x} \\left(4xy+e^{-y}\\right)\n",
    "\\end{align*}\n",
    "\n",
    "These simplification rules are trivial arithmetic identities:\n",
    "\n",
    " - $0+x=x$\n",
    " - $0\\cdot x=0$\n",
    " - $1\\cdot x=x$\n",
    " - $0/x=0$\n",
    "\n",
    "Let us extend the classes that use these identities to automatically simplify `dz` in\n",
    "the same way we just did. As with differentiation, this should return a\n",
    "new computational graph."
   ]
  },
  {
   "cell_type": "code",
   "execution_count": 13,
   "id": "7aa8f158",
   "metadata": {
    "execution": {
     "iopub.execute_input": "2021-11-16T10:05:33.747491Z",
     "iopub.status.busy": "2021-11-16T10:05:33.747091Z",
     "iopub.status.idle": "2021-11-16T10:05:33.748958Z",
     "shell.execute_reply": "2021-11-16T10:05:33.748530Z"
    },
    "pycharm": {
     "name": "#%%\n"
    }
   },
   "outputs": [],
   "source": [
    "\n",
    "class BaseNode(ABC):\n",
    "    @abstractmethod\n",
    "    def __str__(self) -> str:\n",
    "        pass\n",
    "\n",
    "    @abstractmethod\n",
    "    def eval(self) -> Union[float, int]:\n",
    "        pass\n",
    "\n",
    "    @abstractmethod\n",
    "    def differentiate(self, var: str) -> BaseNode:\n",
    "        pass\n",
    "\n",
    "    @abstractmethod\n",
    "    def simplify(self):\n",
    "        pass\n",
    "\n",
    "\n",
    "class Const(BaseNode):\n",
    "    def __init__(self, value: Union[float, int]):\n",
    "        self.value = value\n",
    "\n",
    "    def __str__(self) -> str:\n",
    "        return str(self.value)\n",
    "\n",
    "    def eval(self) -> Union[float, int]:\n",
    "        return self.value\n",
    "\n",
    "    def differentiate(self, var: str) -> BaseNode:\n",
    "        return Const(0)\n",
    "\n",
    "    def simplify(self):\n",
    "        return self\n",
    "\n",
    "\n",
    "class Var(BaseNode):\n",
    "    def __init__(self, name: str, value: Optional[Union[float, int]] = None):\n",
    "        self.name = name\n",
    "        self.value = value\n",
    "\n",
    "    def set_value(self, value: Union[float, int]) -> None:\n",
    "        self.value = value\n",
    "\n",
    "    def __str__(self) -> str:\n",
    "        return self.name\n",
    "\n",
    "    def eval(self) -> Union[float, int]:\n",
    "        if self.value is None:\n",
    "            raise ValueError('Value is not set. Evaluation is not possible.')\n",
    "        return self.value\n",
    "\n",
    "    def differentiate(self, var: str) -> BaseNode:\n",
    "        return Const(1) if self.name == var else Const(0)\n",
    "\n",
    "    def simplify(self):\n",
    "        return self\n",
    "\n",
    "\n",
    "class BinaryOperation(BaseNode, ABC):\n",
    "    def __init__(self, x: BaseNode, y: BaseNode):\n",
    "        self.x = x\n",
    "        self.y = y\n",
    "\n",
    "\n",
    "class Sum(BinaryOperation):\n",
    "    def __str__(self) -> str:\n",
    "        return '({} + {})'.format(self.x, self.y)\n",
    "\n",
    "    def eval(self) -> Union[float, int]:\n",
    "        return self.x.eval() + self.y.eval()\n",
    "\n",
    "    def differentiate(self, var: str) -> BaseNode:\n",
    "        return Sum(self.x.differentiate(var), self.y.differentiate(var))\n",
    "\n",
    "    def simplify(self):\n",
    "        simple_x = (\n",
    "            self.x.simplify()\n",
    "        )\n",
    "\n",
    "        simple_y = (\n",
    "            self.y.simplify()\n",
    "        )\n",
    "\n",
    "        if isinstance(simple_x, Const):\n",
    "            if simple_x.value == 0:\n",
    "                # Rule: 0 + y = y\n",
    "                return simple_y\n",
    "\n",
    "        if isinstance(simple_y, Const):\n",
    "            if simple_y.value == 0:\n",
    "                # Rule: x + 0 = x\n",
    "                return simple_x\n",
    "\n",
    "        if isinstance(simple_x, Const) and isinstance(simple_y, Const):\n",
    "            # If both arguments are constants we can perform the sum immediately\n",
    "            return Const(simple_x.value + simple_y.value)\n",
    "\n",
    "        # Cannot simplify further. Return a new sum node with the simplified operands.\n",
    "        return Sum(simple_x, simple_y)\n",
    "\n",
    "\n",
    "class Sub(BinaryOperation):\n",
    "    def __str__(self) -> str:\n",
    "        return '({} - {})'.format(self.x, self.y)\n",
    "\n",
    "    def eval(self) -> Union[float, int]:\n",
    "        return self.x.eval() - self.y.eval()\n",
    "\n",
    "    def differentiate(self, var: str) -> BaseNode:\n",
    "        return Sub(self.x.differentiate(var), self.y.differentiate(var))\n",
    "\n",
    "    def simplify(self):\n",
    "        simple_x =  self.x.simplify()\n",
    "        simple_y =  self.y.simplify()\n",
    "\n",
    "        if isinstance(simple_x, Const):\n",
    "            if simple_x.value == 0:\n",
    "                # Rule: 0 - y = -1 * y\n",
    "                return Mul(Const(-1), simple_y)\n",
    "\n",
    "        if isinstance(simple_y, Const):\n",
    "            if simple_y.value == 0:\n",
    "                # Rule: x - 0 = x\n",
    "                return simple_y\n",
    "\n",
    "        if isinstance(simple_x, Const) and isinstance(simple_y, Const):\n",
    "            # If both arguments are constants we can perform the subtraction immediately\n",
    "            return Const(simple_x.value - simple_y.value)\n",
    "\n",
    "        # Cannot simplify further.\n",
    "        return Sub(simple_x, simple_y)\n",
    "\n",
    "\n",
    "class Mul(BinaryOperation):\n",
    "    def __str__(self) -> str:\n",
    "        return '({} * {})'.format(self.x, self.y)\n",
    "\n",
    "    def eval(self) -> Union[float, int]:\n",
    "        return self.x.eval() * self.y.eval()\n",
    "\n",
    "    def differentiate(self, var: str) -> BaseNode:\n",
    "        return Sum(\n",
    "            x=Mul(self.x.differentiate(var), self.y),\n",
    "            y=Mul(self.x, self.y.differentiate(var))\n",
    "        )\n",
    "\n",
    "    def simplify(self):\n",
    "        simple_x =  self.x.simplify()\n",
    "        simple_y =  self.y.simplify()\n",
    "\n",
    "        if isinstance(simple_x, Const):\n",
    "            if simple_x.value == 0:\n",
    "                # Rule: 0 * y = 0\n",
    "                return Const(0)\n",
    "            elif simple_x.value == 1:\n",
    "                # Rule: 1 * y = y\n",
    "                return simple_y\n",
    "\n",
    "        if isinstance(simple_y, Const):\n",
    "            if simple_y.value == 0:\n",
    "                # Rule: x * 0 = 0\n",
    "                return Const(0)\n",
    "            elif simple_y.value == 1:\n",
    "                # Rule: x * 1 = x\n",
    "                return simple_x\n",
    "\n",
    "        if isinstance(simple_x, Const) and isinstance(simple_y, Const):\n",
    "            # Perform the operation if possible\n",
    "            return Const(simple_x.value * simple_y.value)\n",
    "\n",
    "        # Cannot simplify further.\n",
    "        return Mul(simple_x, simple_y)\n",
    "\n",
    "\n",
    "class Div(BinaryOperation):\n",
    "    def __str__(self) -> str:\n",
    "        return '({} / {})'.format(self.x, self.y)\n",
    "\n",
    "    def eval(self) -> Union[float, int]:\n",
    "        return self.x.eval() / self.y.eval()\n",
    "\n",
    "    def differentiate(self, var: str) -> BaseNode:\n",
    "        return Div(\n",
    "            x=Sub(\n",
    "                x=Mul(self.x.differentiate(var), self.y),\n",
    "                y=Mul(self.y.differentiate(var), self.x)\n",
    "            ),\n",
    "            y=Mul(self.y, self.y)\n",
    "        )\n",
    "\n",
    "    def simplify(self):\n",
    "        simple_x =  self.x.simplify()\n",
    "        simple_y =  self.y.simplify()\n",
    "\n",
    "        if isinstance(simple_x, Const):\n",
    "            if simple_x.value == 0:\n",
    "                # Rule: 0 / y = 0\n",
    "                return Const(0)\n",
    "\n",
    "        if isinstance(simple_y, Const):\n",
    "            if simple_y.value == 0:\n",
    "                # Rule: x / 0 = ERROR\n",
    "                raise ZeroDivisionError()\n",
    "            elif simple_y.value == 1:\n",
    "                # Rule: x / 1 = x\n",
    "                return simple_x\n",
    "\n",
    "        if isinstance(simple_x, Const) and isinstance(simple_y, Const):\n",
    "            # Perform the operation if possible\n",
    "            return Const(simple_x.value / simple_y.value)\n",
    "\n",
    "        # Cannot simplify further.\n",
    "        return Div(simple_x, simple_y)\n",
    "\n",
    "\n",
    "class Function(BaseNode, ABC):\n",
    "    def __init__(self, x: BaseNode):\n",
    "        self.x = x\n",
    "\n",
    "\n",
    "class Exp(Function):\n",
    "    def __str__(self) -> str:\n",
    "        return 'exp({})'.format(self.x)\n",
    "\n",
    "    def eval(self) -> Union[float, int]:\n",
    "        return math.exp(self.x.eval())\n",
    "\n",
    "    def differentiate(self, var: str) -> BaseNode:\n",
    "        return Mul(\n",
    "            x=Exp(self.x),\n",
    "            y=self.x.differentiate(var)\n",
    "        )\n",
    "\n",
    "    def simplify(self):\n",
    "        simple_x =  self.x.simplify()\n",
    "\n",
    "        if isinstance(simple_x, Const):\n",
    "            if simple_x.value == 0:\n",
    "                # Rule: exp(0) = 1\n",
    "                return Const(1)\n",
    "            # Perform the operation if possible\n",
    "            return Const(math.exp(simple_x.value))\n",
    "\n",
    "        # Cannot simplify further.\n",
    "        return Exp(simple_x)\n",
    "\n",
    "\n",
    "class Log(Function):\n",
    "    def __str__(self) -> str:\n",
    "        return 'log({})'.format(self.x)\n",
    "\n",
    "    def eval(self) -> Union[float, int]:\n",
    "        return math.log(self.x.eval())\n",
    "\n",
    "    def differentiate(self, var: str) -> BaseNode:\n",
    "        return Div(\n",
    "            x=self.x.differentiate(var),\n",
    "            y=self.x\n",
    "        )\n",
    "\n",
    "    def simplify(self):\n",
    "        simple_x =  self.x.simplify()\n",
    "\n",
    "        if isinstance(simple_x, Const):\n",
    "            if simple_x.value <= 0:\n",
    "                # Rule: No log of non-positiv number!\n",
    "                raise ValueError('Logarithm of non-positiv number.')\n",
    "            # Perform the operation if possible\n",
    "            return Const(math.log(simple_x.value))\n",
    "\n",
    "        # Cannot simplify further.\n",
    "        return Log(simple_x)\n",
    "\n",
    "\n",
    "class TanH(Function):\n",
    "    def __str__(self) -> str:\n",
    "        return 'tanh({})'.format(self.x)\n",
    "\n",
    "    def eval(self) -> Union[float, int]:\n",
    "        return math.tanh(self.x.eval())\n",
    "\n",
    "    def differentiate(self, var: str) -> BaseNode:\n",
    "        return Mul(\n",
    "            x=Sub(\n",
    "                x=Const(1),\n",
    "                y=Mul(TanH(self.x), TanH(self.x))\n",
    "            ),\n",
    "            y=self.x.differentiate(var)\n",
    "        )\n",
    "\n",
    "    def simplify(self):\n",
    "        simple_x =  self.x.simplify()\n",
    "\n",
    "        if isinstance(simple_x, Const):\n",
    "            if simple_x.value == 0:\n",
    "                # Rule: tanh(0) = 0\n",
    "                return Const(0)\n",
    "            # Perform the operation if possible\n",
    "            return Const(math.tanh(simple_x.value))\n",
    "\n",
    "        # Cannot simplify further.\n",
    "        return TanH(simple_x)"
   ]
  },
  {
   "cell_type": "code",
   "execution_count": 14,
   "id": "3b7f8a39",
   "metadata": {
    "execution": {
     "iopub.execute_input": "2021-11-16T10:05:33.752272Z",
     "iopub.status.busy": "2021-11-16T10:05:33.751948Z",
     "iopub.status.idle": "2021-11-16T10:05:33.753547Z",
     "shell.execute_reply": "2021-11-16T10:05:33.753811Z"
    },
    "pycharm": {
     "name": "#%%\n"
    }
   },
   "outputs": [
    {
     "name": "stdout",
     "output_type": "stream",
     "text": [
      "(4 * y)\n"
     ]
    }
   ],
   "source": [
    "x = Var('x', value=2)\n",
    "y = Var('y', value=3)\n",
    "\n",
    "z = Sum(\n",
    "    x=Mul(\n",
    "        x=Mul(\n",
    "            x=Const(4),\n",
    "            y=x\n",
    "        ),\n",
    "        y=y,\n",
    "    ),\n",
    "    y=Exp(\n",
    "        x=Mul(\n",
    "            x=Const(-1),\n",
    "            y=y\n",
    "    ))\n",
    ")\n",
    "\n",
    "dz = z.differentiate('x')\n",
    "print(dz.simplify())"
   ]
  },
  {
   "cell_type": "markdown",
   "id": "553acf0c",
   "metadata": {
    "pycharm": {
     "name": "#%% md\n"
    }
   },
   "source": [
    "The result matches what we showed above, $4y$. Simplifying the graph with these and\n",
    "other, more advanced tricks, can greatly speed up code.\n",
    "\n",
    "Now we are also equipped to perform differentiation of any order,\n",
    "for example $\\partial z / \\partial x\\partial y$ is simply:"
   ]
  },
  {
   "cell_type": "code",
   "execution_count": 15,
   "id": "6b47825a",
   "metadata": {
    "execution": {
     "iopub.execute_input": "2021-11-16T10:05:33.756569Z",
     "iopub.status.busy": "2021-11-16T10:05:33.756239Z",
     "iopub.status.idle": "2021-11-16T10:05:33.758208Z",
     "shell.execute_reply": "2021-11-16T10:05:33.757928Z"
    },
    "pycharm": {
     "name": "#%%\n"
    }
   },
   "outputs": [
    {
     "name": "stdout",
     "output_type": "stream",
     "text": [
      "(((((((0 * x) + (0 * 0)) + ((0 * 1) + (4 * 0))) * y) + (((0 * x) + (4 * 1)) * 1)) + ((((0 * x) + (4 * 0)) * 0) + ((4 * x) * 0))) + (((exp((-1 * y)) * ((0 * y) + (-1 * 1))) * ((0 * y) + (-1 * 0))) + (exp((-1 * y)) * (((0 * y) + (0 * 1)) + ((0 * 0) + (-1 * 0))))))\n",
      "4\n",
      "4.0\n"
     ]
    }
   ],
   "source": [
    "\n",
    "print(z.differentiate('x').differentiate('y'))\n",
    "print(z.differentiate('x').differentiate('y').simplify())\n",
    "print(z.differentiate('x').differentiate('y').eval())"
   ]
  },
  {
   "cell_type": "markdown",
   "id": "f6e0a2c7",
   "metadata": {
    "pycharm": {
     "name": "#%% md\n"
    }
   },
   "source": [
    "### Training a network\n",
    "\n",
    "Let us now define a computational graph that performs the forward pass of a\n",
    "simple network, and use the functions above to compute the gradients of the parameters.\n",
    "We will use the same network we used in the third lab, reproduced below, and, as usual,\n",
    "we will test the code on the five points dataset. Since the functions we have written\n",
    "so far only work with scalar values, we will perform stochastic gradient descent\n",
    "using one sample at a time.\n",
    "\n",
    "![](../utils/03-lab-nn.png)"
   ]
  },
  {
   "cell_type": "code",
   "execution_count": 16,
   "id": "91d15712",
   "metadata": {
    "execution": {
     "iopub.execute_input": "2021-11-16T10:05:33.761331Z",
     "iopub.status.busy": "2021-11-16T10:05:33.761007Z",
     "iopub.status.idle": "2021-11-16T10:05:33.762881Z",
     "shell.execute_reply": "2021-11-16T10:05:33.762556Z"
    },
    "pycharm": {
     "name": "#%%\n"
    }
   },
   "outputs": [
    {
     "name": "stdout",
     "output_type": "stream",
     "text": [
      "tanh((b1 + ((x1 * w11) + (x2 * w21))))\n"
     ]
    }
   ],
   "source": [
    "\n",
    "# The two input nodes\n",
    "x1 = Var('x1')\n",
    "x2 = Var('x2')\n",
    "\n",
    "# Parameters for the first hidden neuron\n",
    "b1 = Var('b1')\n",
    "w11 = Var('w11')\n",
    "w21 = Var('w21')\n",
    "\n",
    "# Compute the output of the first hidden neuron\n",
    "z1in = Sum(\n",
    "    x=b1,\n",
    "    y=Sum(\n",
    "       x=Mul(x1, w11),\n",
    "       y=Mul(x2, w21)\n",
    "    )\n",
    ")\n",
    "\n",
    "z1out = TanH(z1in)\n",
    "\n",
    "print(z1out)"
   ]
  },
  {
   "cell_type": "markdown",
   "id": "4755b632",
   "metadata": {
    "pycharm": {
     "name": "#%% md\n"
    }
   },
   "source": [
    "Now, complete the remaining part of the network:"
   ]
  },
  {
   "cell_type": "code",
   "execution_count": 17,
   "id": "6ac218e6",
   "metadata": {
    "execution": {
     "iopub.execute_input": "2021-11-16T10:05:33.766831Z",
     "iopub.status.busy": "2021-11-16T10:05:33.766495Z",
     "iopub.status.idle": "2021-11-16T10:05:33.768411Z",
     "shell.execute_reply": "2021-11-16T10:05:33.768662Z"
    },
    "pycharm": {
     "name": "#%%\n"
    }
   },
   "outputs": [
    {
     "name": "stdout",
     "output_type": "stream",
     "text": [
      "(1 / (1 + exp((-1 * (c + ((tanh((b1 + ((x1 * w11) + (x2 * w21)))) * u1) + (tanh((b2 + ((x1 * w12) + (x2 * w22)))) * u2)))))))\n"
     ]
    }
   ],
   "source": [
    "\n",
    "b2 = Var('b2')\n",
    "w12 = Var('w12')\n",
    "w22 = Var('w22')\n",
    "\n",
    "z2out = (\n",
    "    TanH(\n",
    "        Sum(\n",
    "            x=b2,\n",
    "            y=Sum(\n",
    "                x=Mul(x1, w12),\n",
    "                y=Mul(x2, w22)\n",
    "            )\n",
    "        )\n",
    "    )\n",
    ")\n",
    "\n",
    "c = Var('c')\n",
    "u1 = Var('u1')\n",
    "u2 = Var('u2')\n",
    "\n",
    "fin = (\n",
    "    Sum(\n",
    "        x=c,\n",
    "        y=Sum(\n",
    "            x=Mul(z1out, u1),\n",
    "            y=Mul(z2out, u2)\n",
    "        )\n",
    "    )\n",
    ")\n",
    "\n",
    "fout = (\n",
    "    Div(\n",
    "        x=Const(1),\n",
    "        y=Sum(\n",
    "            x=Const(1),\n",
    "            y=Exp(Mul(Const(-1), fin))\n",
    "        )\n",
    "    )\n",
    ")\n",
    "\n",
    "print(fout)"
   ]
  },
  {
   "cell_type": "markdown",
   "id": "2e436c19",
   "metadata": {
    "pycharm": {
     "name": "#%% md\n"
    }
   },
   "source": [
    "And this defines the forward pass.\n",
    "\n",
    "We can now compute the predictions of the network by evaluating `fout`,\n",
    "providing values for the inputs and weights. For example:"
   ]
  },
  {
   "cell_type": "code",
   "execution_count": 18,
   "id": "3e56c4aa",
   "metadata": {
    "execution": {
     "iopub.execute_input": "2021-11-16T10:05:33.772682Z",
     "iopub.status.busy": "2021-11-16T10:05:33.772291Z",
     "iopub.status.idle": "2021-11-16T10:05:33.774737Z",
     "shell.execute_reply": "2021-11-16T10:05:33.774411Z"
    },
    "pycharm": {
     "name": "#%%\n"
    }
   },
   "outputs": [
    {
     "data": {
      "text/plain": [
       "0.9533527373765618"
      ]
     },
     "execution_count": 18,
     "metadata": {},
     "output_type": "execute_result"
    }
   ],
   "source": [
    "\n",
    "# Values for weights and biases\n",
    "b1.set_value(1.543385)\n",
    "w11.set_value(3.111573)\n",
    "w12.set_value(-2.808800)\n",
    "\n",
    "b2.set_value(1.373085)\n",
    "w21.set_value(3.130452)\n",
    "w22.set_value(-2.813466)\n",
    "\n",
    "c.set_value(-4.241453)\n",
    "u1.set_value(4.036489)\n",
    "u2.set_value(4.074885)\n",
    "\n",
    "# Values for the input\n",
    "x1.set_value(1)\n",
    "x2.set_value(-1)\n",
    "\n",
    "fout.eval()"
   ]
  },
  {
   "cell_type": "markdown",
   "id": "fbb9d27b",
   "metadata": {
    "pycharm": {
     "name": "#%% md\n"
    }
   },
   "source": [
    "Which should be about 0.9.\n",
    "We now have to compute the cross-entropy loss.\n",
    "For numerical stability, we will compute the loss using $f_{in}$ instead of $f_{out}$.\n",
    "Therefore, first, show that:\n",
    "\n",
    "\\begin{equation}\n",
    "-y\\cdot\\log(f_{out})-(1-y)\\cdot\\log(1-f_{out})=\n",
    "f_{in}-f_{in}\\cdot y+\\log(1+e^{-f_{in}})\n",
    "\\end{equation}\n",
    "\n",
    "\n",
    "Solution:\n",
    "\n",
    "\\begin{align}\n",
    "&-y\\cdot\\log (f_{out})-(1-y)\\cdot\\log(1-f_{out}) \\\\\n",
    "&\\qquad=-y\\cdot\\log\\frac{1}{1+e^{-f_{in}}}-(1-y)\\cdot\\log\\left(1-\\frac{1}{1+e^{-f_{in}}}\\right) \\\\\n",
    "&\\qquad=\n",
    "-y\\cdot-\\log\\left(1+e^{-f_{in}}\\right)\n",
    "-(1-y)\\cdot\\left(-f_{in}-\\log\\left(1+e^{-f_{in}}\\right)\\right) \\\\\n",
    "&\\qquad=\n",
    "y\\cdot\\log\\left(1+e^{-f_{in}}\\right)\n",
    "+f_{in}+\\log\\left(1+e^{-f_{in}}\\right)\n",
    "-y\\cdot f_{in}-y\\cdot\\log\\left(1+e^{-f_{in}}\\right) \\\\\n",
    "&\\qquad=f_{in}-f_{in}\\cdot y+\\log(1+e^{-f_{in}})\n",
    "\\end{align}"
   ]
  },
  {
   "cell_type": "code",
   "execution_count": 19,
   "id": "54885f9b",
   "metadata": {
    "execution": {
     "iopub.execute_input": "2021-11-16T10:05:33.778072Z",
     "iopub.status.busy": "2021-11-16T10:05:33.777712Z",
     "iopub.status.idle": "2021-11-16T10:05:33.779413Z",
     "shell.execute_reply": "2021-11-16T10:05:33.779778Z"
    },
    "pycharm": {
     "name": "#%%\n"
    }
   },
   "outputs": [
    {
     "name": "stdout",
     "output_type": "stream",
     "text": [
      "(((c + ((tanh((b1 + ((x1 * w11) + (x2 * w21)))) * u1) + (tanh((b2 + ((x1 * w12) + (x2 * w22)))) * u2))) - ((c + ((tanh((b1 + ((x1 * w11) + (x2 * w21)))) * u1) + (tanh((b2 + ((x1 * w12) + (x2 * w22)))) * u2))) * y)) + log((1 + exp((-1 * (c + ((tanh((b1 + ((x1 * w11) + (x2 * w21)))) * u1) + (tanh((b2 + ((x1 * w12) + (x2 * w22)))) * u2))))))))\n"
     ]
    }
   ],
   "source": [
    "\n",
    "# This variable contains the label for the sample the network is predicting\n",
    "y = Var('y')\n",
    "\n",
    "loss = (\n",
    "    Sum(\n",
    "        x=Sub(\n",
    "            x=fin,\n",
    "            y=Mul(fin, y)\n",
    "        ),\n",
    "        y=Log(\n",
    "            Sum(\n",
    "                x=Const(1),\n",
    "                y=Exp(Mul(Const(-1), fin)))\n",
    "        )\n",
    "    )\n",
    ")\n",
    "\n",
    "print(loss)"
   ]
  },
  {
   "cell_type": "markdown",
   "id": "0d40f3de",
   "metadata": {
    "pycharm": {
     "name": "#%% md\n"
    }
   },
   "source": [
    "This is starting to look complicated!\n",
    "Luckily, this time, we do not have to get our hands dirty with derivatives.\n",
    "Let us find the graphs for the derivatives of each parameter of the network."
   ]
  },
  {
   "cell_type": "code",
   "execution_count": 20,
   "id": "def374be",
   "metadata": {
    "execution": {
     "iopub.execute_input": "2021-11-16T10:05:33.784743Z",
     "iopub.status.busy": "2021-11-16T10:05:33.784408Z",
     "iopub.status.idle": "2021-11-16T10:05:33.786394Z",
     "shell.execute_reply": "2021-11-16T10:05:33.786057Z"
    },
    "pycharm": {
     "name": "#%%\n"
    }
   },
   "outputs": [
    {
     "name": "stdout",
     "output_type": "stream",
     "text": [
      "(((0 + (((((1 - (tanh((b1 + ((x1 * w11) + (x2 * w21)))) * tanh((b1 + ((x1 * w11) + (x2 * w21)))))) * (0 + (((0 * w11) + (x1 * 1)) + ((0 * w21) + (x2 * 0))))) * u1) + (tanh((b1 + ((x1 * w11) + (x2 * w21)))) * 0)) + ((((1 - (tanh((b2 + ((x1 * w12) + (x2 * w22)))) * tanh((b2 + ((x1 * w12) + (x2 * w22)))))) * (0 + (((0 * w12) + (x1 * 0)) + ((0 * w22) + (x2 * 0))))) * u2) + (tanh((b2 + ((x1 * w12) + (x2 * w22)))) * 0)))) - (((0 + (((((1 - (tanh((b1 + ((x1 * w11) + (x2 * w21)))) * tanh((b1 + ((x1 * w11) + (x2 * w21)))))) * (0 + (((0 * w11) + (x1 * 1)) + ((0 * w21) + (x2 * 0))))) * u1) + (tanh((b1 + ((x1 * w11) + (x2 * w21)))) * 0)) + ((((1 - (tanh((b2 + ((x1 * w12) + (x2 * w22)))) * tanh((b2 + ((x1 * w12) + (x2 * w22)))))) * (0 + (((0 * w12) + (x1 * 0)) + ((0 * w22) + (x2 * 0))))) * u2) + (tanh((b2 + ((x1 * w12) + (x2 * w22)))) * 0)))) * y) + ((c + ((tanh((b1 + ((x1 * w11) + (x2 * w21)))) * u1) + (tanh((b2 + ((x1 * w12) + (x2 * w22)))) * u2))) * 0))) + ((0 + (exp((-1 * (c + ((tanh((b1 + ((x1 * w11) + (x2 * w21)))) * u1) + (tanh((b2 + ((x1 * w12) + (x2 * w22)))) * u2))))) * ((0 * (c + ((tanh((b1 + ((x1 * w11) + (x2 * w21)))) * u1) + (tanh((b2 + ((x1 * w12) + (x2 * w22)))) * u2)))) + (-1 * (0 + (((((1 - (tanh((b1 + ((x1 * w11) + (x2 * w21)))) * tanh((b1 + ((x1 * w11) + (x2 * w21)))))) * (0 + (((0 * w11) + (x1 * 1)) + ((0 * w21) + (x2 * 0))))) * u1) + (tanh((b1 + ((x1 * w11) + (x2 * w21)))) * 0)) + ((((1 - (tanh((b2 + ((x1 * w12) + (x2 * w22)))) * tanh((b2 + ((x1 * w12) + (x2 * w22)))))) * (0 + (((0 * w12) + (x1 * 0)) + ((0 * w22) + (x2 * 0))))) * u2) + (tanh((b2 + ((x1 * w12) + (x2 * w22)))) * 0)))))))) / (1 + exp((-1 * (c + ((tanh((b1 + ((x1 * w11) + (x2 * w21)))) * u1) + (tanh((b2 + ((x1 * w12) + (x2 * w22)))) * u2))))))))\n"
     ]
    }
   ],
   "source": [
    "\n",
    "def get_gradient_graphs(graph: BaseNode, param_nodes: List[Var]) -> Dict:\n",
    "    graph_dict: Dict = {}\n",
    "    for param_node in param_nodes:\n",
    "        graph_dict.update({\n",
    "            param_node.name : graph.differentiate(param_node.name)\n",
    "        })\n",
    "    return graph_dict\n",
    "\n",
    "parameter_nodes = [b1, w11, w12, b2, w21, w22, c, u1, u2]\n",
    "gradient_graphs = get_gradient_graphs(loss, parameter_nodes)\n",
    "print(gradient_graphs.get('w11'))"
   ]
  },
  {
   "cell_type": "markdown",
   "id": "3eeec69c",
   "metadata": {
    "pycharm": {
     "name": "#%% md\n"
    }
   },
   "source": [
    "As you can see, there is a great deal of repetition in this expression.\n",
    "The repetitions could be removed by storing, in each node, its current value and\n",
    "gradient, so that we would not need to re-compute them every time. Modern deep\n",
    "learning frameworks indeed do this, and are able to compute the gradient of the\n",
    "loss with respect to all parameters in a single pass, but here we accept these\n",
    "inefficiencies for the sake of simplicity.\n",
    "\n",
    "We are now ready to train this network:"
   ]
  },
  {
   "cell_type": "code",
   "execution_count": 21,
   "id": "cffe50c1",
   "metadata": {
    "execution": {
     "iopub.execute_input": "2021-11-16T10:05:33.851863Z",
     "iopub.status.busy": "2021-11-16T10:05:33.834305Z",
     "iopub.status.idle": "2021-11-16T10:05:39.656430Z",
     "shell.execute_reply": "2021-11-16T10:05:39.656704Z"
    },
    "pycharm": {
     "name": "#%%\n"
    }
   },
   "outputs": [
    {
     "name": "stdout",
     "output_type": "stream",
     "text": [
      "EPOCH: \t   250 \t LOSS: \t 1.90523\r"
     ]
    },
    {
     "data": {
      "application/pdf": "[encoded data removed]",
      "image/png": "[encoded data removed]",
      "text/plain": [
       "<Figure size 432x288 with 1 Axes>"
      ]
     },
     "metadata": {
      "needs_background": "light"
     },
     "output_type": "display_data"
    }
   ],
   "source": [
    "\n",
    "# Create dataset.\n",
    "x = [\n",
    "    [0, 0],\n",
    "    [1, 0],\n",
    "    [0, -1],\n",
    "    [-1, 0],\n",
    "    [0, 1]\n",
    "]\n",
    "labels = [1, 0, 0, 0, 0]\n",
    "\n",
    "# Glorot initialization for the parameters.\n",
    "def init_params(param_nodes: List[Var], bias_names: List[str]) -> None:\n",
    "    b = math.sqrt(6 / 4)\n",
    "    for param_node in param_nodes:\n",
    "        if param_node.name in bias_names:\n",
    "            param_node.set_value(0.0)\n",
    "        else:\n",
    "            param_node.set_value(uniform(-b, b))\n",
    "\n",
    "init_params(parameter_nodes, ['b1', 'b2', 'c'])\n",
    "\n",
    "# Training Loop.\n",
    "# Losses dict follows (index of sample : list of losses during training).\n",
    "loss_dict = {i: [] for i in range(len(x))}\n",
    "for ep in range(250):\n",
    "    ep_loss = 0.\n",
    "    for i in range(len(x)):\n",
    "        # Set the correct values for the inputs and label.\n",
    "        x1.set_value(x[i][0])\n",
    "        x2.set_value(x[i][1])\n",
    "        y.set_value(labels[i])\n",
    "\n",
    "        loss_dict[i].append(\n",
    "            loss.eval()\n",
    "        )\n",
    "        ep_loss += loss_dict[i][-1]\n",
    "\n",
    "        gradient_graphs = get_gradient_graphs(loss, parameter_nodes)\n",
    "        gradients_eval = {key: graph.simplify().eval() for key, graph in gradient_graphs.items()}\n",
    "\n",
    "        for parameter_node in parameter_nodes:\n",
    "            lr = 2.5 if ep < 100 else 0.5\n",
    "            new_val = parameter_node.value - lr * gradients_eval[parameter_node.name]\n",
    "            parameter_node.set_value(new_val)\n",
    "\n",
    "    print('EPOCH: \\t {:5} \\t LOSS: \\t {:.5f}'.format(ep + 1, float(ep_loss)), end='\\r')\n",
    "\n",
    "\n",
    "# Plot loss development.\n",
    "for sample_loss in loss_dict.values():\n",
    "    plt.plot(sample_loss)\n",
    "plt.show()"
   ]
  },
  {
   "cell_type": "markdown",
   "id": "ef5b6d53",
   "metadata": {
    "pycharm": {
     "name": "#%% md\n"
    }
   },
   "source": [
    "You can clearly see how the loss of each individual training sample evolves over time.\n",
    "This also explains the \"saddle\" you might have noticed in the loss curve from the\n",
    "previous lab.\n",
    "\n",
    "And these are the predictions for the five points:"
   ]
  },
  {
   "cell_type": "code",
   "execution_count": 22,
   "id": "ca4b059f",
   "metadata": {
    "execution": {
     "iopub.execute_input": "2021-11-16T10:05:39.660196Z",
     "iopub.status.busy": "2021-11-16T10:05:39.659828Z",
     "iopub.status.idle": "2021-11-16T10:05:39.661984Z",
     "shell.execute_reply": "2021-11-16T10:05:39.661681Z"
    },
    "pycharm": {
     "name": "#%%\n"
    }
   },
   "outputs": [
    {
     "name": "stdout",
     "output_type": "stream",
     "text": [
      "SAMPLE:\t0\tTRUE:\t1\tPRED:\t0.386\n",
      "SAMPLE:\t1\tTRUE:\t0\tPRED:\t0.001\n",
      "SAMPLE:\t2\tTRUE:\t0\tPRED:\t0.000\n",
      "SAMPLE:\t3\tTRUE:\t0\tPRED:\t0.001\n",
      "SAMPLE:\t4\tTRUE:\t0\tPRED:\t0.387\n"
     ]
    }
   ],
   "source": [
    "\n",
    "for i in range(len(x)):\n",
    "    x1.set_value(x[i][0])\n",
    "    x2.set_value(x[i][1])\n",
    "    y.set_value(labels[i])\n",
    "\n",
    "    prediction = fout.eval()\n",
    "    print('SAMPLE:\\t{}\\tTRUE:\\t{}\\tPRED:\\t{:.3f}'.format(i, labels[i], prediction))"
   ]
  },
  {
   "cell_type": "markdown",
   "id": "27c2e0c1",
   "metadata": {
    "pycharm": {
     "name": "#%% md\n"
    }
   },
   "source": [
    "### Conclusion\n",
    "What we did in this exercise is (a simplification of) how deep learning frameworks\n",
    "evaluate the code you write. You only need to define how to compute the output of\n",
    "the network, and the framework figures out the necessary gradients on its own.\n",
    "They provide a much better user interface, allowing you to use `+`, `-`, `/`, `*` etc.\n",
    "as you normally would instead of the clumsy node constructors we defined here,\n",
    "but there is always a computational graph hidden behind the curtains.\n",
    "\n",
    "\n",
    "\n",
    "## Exercise 2\n",
    "\n",
    "This exercise should improve your understanding of weight decay (or L2 regularization).\n",
    "\n",
    "  1. Consider a quadratic error function $E(\\textbf{w})=E_0+\\textbf{b}^T\\textbf{w}+1/2\\cdot\\textbf{w}^T\\textbf{H}\\textbf{w}$ and its regularized counterpart $E'(\\textbf{w})=E(\\textbf{w})+\\tau/2 \\cdot\\textbf{w}^T\\textbf{w}$, and let $\\textbf{w}^*$ and $\\tilde{\\textbf{w}}$ be the minimizers of $E$ and $E'$ respectively. We want to find a node to express $\\tilde{\\textbf{w}}$ as a function of $\\textbf{w}^*$, i.e. find the displacement introduced by weight decay.\n",
    "\n",
    "      - Find the gradients of $E$ and $E'$. Note that, at the global minimum,\n",
    "     we have $\\nabla E(\\textbf{w}^*)=\\nabla E'(\\hat{\\textbf{w}})=0$.\n",
    "      - In the equality above, express $\\textbf{w}^*$ and $\\tilde{\\textbf{w}}$ as a\n",
    "     linear combination of the eigenvectors of $\\textbf{H}$.\n",
    "      - Through algebraic manipulation, obtain $\\tilde{\\textbf{w}}_i$ as a function\n",
    "     of $\\textbf{w}^*_i$.\n",
    "      - Interpret this result geometrically.\n",
    "      - Note: $\\textbf{H}$ is square, symmetric, and positive definite,\n",
    "     which means that its eigenvectors are pairwise orthogonal and its eigenvalues\n",
    "     are positive (spectral theorem).\n",
    "\n",
    "  2. Consider a linear network of the form $y=\\textbf{w}^T\\textbf{x}$ and the mean\n",
    "squared error as a loss function. Assume that every observation is corrupted\n",
    "with Gaussian noise $\\epsilon\\sim\\mathcal{N}(\\textbf{0}, \\sigma^2\\textbf{I})$.\n",
    "Compute the expectation of the gradient under $\\epsilon$ and,\n",
    "show that adding gaussian noise to the inputs has the same effect of weight decay.\n",
    "\n",
    "\n",
    "### Solution\n",
    "\n",
    "#### Question 1\n",
    "\n",
    "The error is computed as:\n",
    "\n",
    "\\begin{equation}\n",
    "    E(\\textbf{w})=E_0+\\sum_i w_ib_i+\\frac 1 2 \\sum_i\\sum_j w_iw_jh_{ij}\n",
    "\\end{equation}\n",
    "\n",
    "The derivative with respect to $w_i$ is, then:\n",
    "\n",
    "\\begin{equation}\n",
    "    \\frac{\\partial E}{\\partial w_i}=b_i+\\sum_j w_jh_{ij}\n",
    "\\end{equation}\n",
    "\n",
    "Where the factor $1/2$ was removed since the pair $w_i$ and $w_j$ is multiplied\n",
    "together twice, and $h_{ij}=h_{ji}$. In vector form:\n",
    "\n",
    "\\begin{equation}\n",
    "    \\nabla_{\\textbf{w}} E(\\textbf{w})=\\textbf{b}+\\textbf{H}\\textbf{w}\n",
    "\\end{equation}\n",
    "\n",
    "The same reasoning applied to $E'$ yields:\n",
    "\n",
    "\\begin{equation}\n",
    "\\nabla_{\\textbf{w}} E'(\\textbf{w})=\\textbf{b}+\\textbf{H}\\textbf{w}+\\tau\\textbf{w}\n",
    "\\end{equation}\n",
    "\n",
    "Now let $\\textbf{u}_i$ and $\\lambda_i$ be the eigenvectors and eigenvalues of\n",
    "$\\textbf{H}$, so that $\\textbf{H}\\textbf{u}_i=\\lambda_i\\textbf{u}_i$.\n",
    " Any vector $\\textbf{v}$ can then be expressed as\n",
    " $\\textbf{v}=\\sum_i\\gamma_i\\textbf{u}_i$. Now, note that\n",
    "\n",
    "\\begin{equation}\n",
    "\\textbf{H}\\textbf{v}=\\sum_i\\gamma_i\\textbf{H}\\textbf{u}_i=\\sum_i\\gamma_i\\lambda_i\\textbf{u}_i\n",
    "\\end{equation}\n",
    "\n",
    "\n",
    "Moreover, at the global minimum, both gradients equal zero, hence:\n",
    "\n",
    "\\begin{equation}\n",
    "\\textbf{b}+\\underbrace{\n",
    "  \\sum_i\\alpha_i\\lambda_i\\textbf{u}_i\n",
    "}_{\n",
    "  \\textbf{H}\\textbf{w}^*\n",
    "}\n",
    "=\n",
    "\\textbf{b}+\\underbrace{\n",
    "  \\sum_i\\beta_i\\lambda_i\\textbf{u}_i\n",
    "}_{\n",
    "  \\textbf{H}\\tilde{\\textbf{w}}\n",
    "}+\\tau\\underbrace{\n",
    "  \\sum_i\\beta_i\\textbf{u}_i\n",
    "  }_{\n",
    "    \\tilde{\\textbf{w}}\n",
    "  }\n",
    "\\Longleftrightarrow\n",
    "\\sum_i\\left( \\alpha_i\\lambda_i-\\beta_i\\lambda_i-\\tau\\beta_i \\right)\\textbf{u}_i=\\textbf{0}\n",
    "\\end{equation}\n",
    "\n",
    "Since the eigenvectors are linearly independent, the above expression is zero only\n",
    "when each term inside the sum is zero, i.e.\n",
    "\n",
    "\\begin{equation}\n",
    "\\alpha_i\\lambda_i-\\beta_i\\lambda_i-\\tau\\beta_i=0\n",
    "\\Longleftrightarrow \\beta_i=\\frac{\\lambda_i}{\\lambda_i+\\tau}\\alpha_i\n",
    "\\end{equation}\n",
    "\n",
    "Now, by replacing this into the expression for $\\hat{\\textbf{w}}$, we get:\n",
    "\n",
    "\\begin{equation}\n",
    "\\tilde{\\textbf{w}}=\\beta^T\\textbf{u}=\\sum_i\\beta_i\\textbf{u}_i=\\sum_i\\frac{\\lambda_i}{\\lambda_i+\\tau}\\alpha_i\\textbf{u}_i\n",
    "\\end{equation}\n",
    "\n",
    "The eigenvalues of $\\textbf{H}$ indicate how much the error changes by moving in\n",
    "the direction of the corresponding eigenvector, with larger changes associated\n",
    "to smaller eigenvalues. In light of this, the node above is saying that the largest\n",
    "changes are applied to the weights that have little influence on the error,\n",
    "while \"important\" weights are not perturbed much.\n",
    "\n",
    "#### Question 2\n",
    "\n",
    "The prediction for $\\tilde{\\textbf{x}}=\\textbf{x}+\\epsilon$ is:\n",
    "\n",
    "\\begin{equation}\n",
    "\\tilde{y}=\\textbf{w}^T\\left(\\textbf{x}+\\epsilon\\right)=\\textbf{w}^T\\textbf{x}+\\textbf{w}^T\\epsilon\n",
    "\\end{equation}\n",
    "\n",
    "The error of this sample is\n",
    "\n",
    "\\begin{equation}\n",
    "\\tilde{E}=\\frac 1 2 \\left(\\hat{y}-\\textbf{w}^T\\textbf{x}-\\textbf{w}^T\\epsilon\\right)^2\n",
    "\\end{equation}\n",
    "\n",
    "And its gradient with respect to a single weight is\n",
    "\n",
    "\\begin{align*}\n",
    "\\frac{\\partial\\tilde{E}}{\\partial w_i}\n",
    "&=\\left(\\hat{y}-\\textbf{w}^T\\textbf{x}-\\textbf{w}^T\\epsilon\\right)(-x_i-\\epsilon_i) \\\\\n",
    "&=-x_i\\left(\\hat{y}-\\textbf{w}^T\\textbf{x}-\\textbf{w}^T\\epsilon\\right)-\\epsilon_i\\left(\\hat{y}-\\textbf{w}^T\\textbf{x}-\\textbf{w}^T\\epsilon\\right)\n",
    "\\end{align*}\n",
    "\n",
    "The expectation with respect to $\\epsilon$ is\n",
    "\n",
    "\\begin{align*}\n",
    "\\mathbb{E}\\left[\\frac{\\partial\\tilde{E}}{\\partial w_i}\\right]\n",
    "&=\\mathbb{E}\\left[\n",
    "-x_i\\left(\\hat{y}-\\textbf{w}^T\\textbf{x}-\\textbf{w}^T\\epsilon\\right)\n",
    "\\right]+\\mathbb{E}\\left[\n",
    "-\\epsilon_i\\left(\\hat{y}-\\textbf{w}^T\\textbf{x}-\\textbf{w}^T\\epsilon\\right)\n",
    "\\right] \\\\\n",
    "&= -x_i\\left(\\hat{y}-\\textbf{w}^T\\textbf{x}\\right)+\\mathbb{E}\\left[\n",
    "-\\epsilon_i\\hat{y}+\\epsilon_i\\textbf{w}^T\\textbf{x}+\\epsilon_i\\textbf{w}^T\\epsilon\n",
    "\\right] \\\\\n",
    "&\\stackrel{*}{=} \\frac{\\partial E}{\\partial w_i}+\\sum_j w_j\\mathbb{E}\\left[\\epsilon_i\\epsilon_j\\right] \\\\\n",
    "&= \\frac{\\partial E}{\\partial w_i}+w_i\\sigma^2    \n",
    "\\end{align*}\n",
    "\n",
    "Where we used $\\partial E/\\partial w_i$ to denote the gradient of the error of the de-noised sample, and the step marked with $*$ follows because $\\mathbb{E}[\\epsilon_i\\epsilon_j]=\\text{Cov}\\left[\\epsilon_i, \\epsilon_j\\right]=\\delta_{ij}\\sigma^2$.\n",
    "\n",
    "Clearly, the gradient is the same that results from weight decay.\n"
   ]
  }
 ],
 "metadata": {
  "kernelspec": {
   "display_name": "Python 3 (ipykernel)",
   "language": "python",
   "name": "python3"
  },
  "language_info": {
   "codemirror_mode": {
    "name": "ipython",
    "version": 3
   },
   "file_extension": ".py",
   "mimetype": "text/x-python",
   "name": "python",
   "nbconvert_exporter": "python",
   "pygments_lexer": "ipython3",
   "version": "3.8.5"
  }
 },
 "nbformat": 4,
 "nbformat_minor": 5
}
