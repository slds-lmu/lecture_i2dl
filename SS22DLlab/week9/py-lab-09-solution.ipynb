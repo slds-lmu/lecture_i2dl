{
 "cells": [
  {
   "cell_type": "markdown",
   "id": "b542cbf9",
   "metadata": {
    "pycharm": {
     "name": "#%% md\n"
    }
   },
   "source": [
    "# Lab 9\n",
    "\n",
    "Hüseyin Anil Gündüz\n",
    "\n",
    "In the first part of the lab, we will analytically derive the backpropagation equations for a simple RNN.\n",
    "Then, in the second part, we will implement forward and backward propagation functions for a simple RNN-model,\n",
    "and train to  predict the future temperature based on past weather metrics.\n",
    "\n",
    "## Imports"
   ]
  },
  {
   "cell_type": "code",
   "execution_count": 1,
   "id": "0767c7b3",
   "metadata": {
    "execution": {
     "iopub.execute_input": "2022-01-05T16:44:57.975783Z",
     "iopub.status.busy": "2022-01-05T16:44:57.973148Z",
     "iopub.status.idle": "2022-01-05T16:44:59.192691Z",
     "shell.execute_reply": "2022-01-05T16:44:59.191541Z"
    },
    "pycharm": {
     "name": "#%%\n"
    }
   },
   "outputs": [],
   "source": [
    "import csv\n",
    "import urllib.request\n",
    "from operator import itemgetter\n",
    "from typing import Tuple, Dict\n",
    "\n",
    "import torch\n",
    "from torch import Tensor\n",
    "from torch.distributions import Normal\n",
    "\n",
    "import matplotlib.pyplot as plt\n",
    "from matplotlib_inline.backend_inline import set_matplotlib_formats\n",
    "\n",
    "set_matplotlib_formats('png', 'pdf')"
   ]
  },
  {
   "cell_type": "markdown",
   "id": "badbf623",
   "metadata": {
    "pycharm": {
     "name": "#%% md\n"
    }
   },
   "source": [
    "## Exercise 1\n",
    "In this part, we derive the backpropagation equations for a simple RNN from forward propagation equations. For simplicity, we will focus on a single input sequence $\\textbf{x}^{[1]},\\ldots,\\textbf{x}^{[\\tau]}$. The forward pass in a RNN with hyperbolic tangent activation at time $t$ is given by:\n",
    "\\begin{align}\n",
    "\\textbf{h}^{[t]} &= \\tanh {(\\textbf{W} \\textbf{h}^{[t-1]} + \\textbf{U} \\textbf{x}^{[t]} + \\textbf{b})} \\\\\n",
    "\\textbf{y}^{[t]} &= \\textbf{V}\\textbf{h}^{[t]}+\\textbf{c}\n",
    "\\end{align}\n",
    "where the parameters are the bias vectors $\\textbf{b}$ and $\\textbf{c}$ along with the weight matrices $\\textbf{U}$,$\\textbf{V}$ and $\\textbf{W}$, respectively, for input-to-hidden, hidden-to-output and hidden-to-hidden connections. As we will use RNN for a regression problem in the of the exercise, we do not use an activation function in order to compute the output $\\textbf{y}^{[t]}$ (at time $t$).\n",
    "\n",
    "The loss is defined as:\n",
    "\\begin{equation}\n",
    "\\mathcal{L}=\\sum_{t=1}^{\\tau}\\mathcal{L}\\left(\\textbf{y}^{[t]}, \\hat{\\textbf{y}}^{[t]}\\right)\n",
    "\\end{equation}\n",
    "\n",
    "Show that:\n",
    "\\begin{align}\n",
    "\\nabla_{\\textbf{h} ^{[\\tau]}} \\mathcal{L}\n",
    "&= \\textbf{V}^{T} (\\nabla_{\\textbf{y} ^{[\\tau]}}\\mathcal{L}) \\\\\n",
    "\\nabla_{\\textbf{h} ^{[t]}}  \\mathcal{L}\n",
    "&= \\textbf{W}^{T} \\text{diag}\\bigg(1-\\big(\\textbf{h}^{[t+1]}\\big)^{^2} \\bigg)(\\nabla_{\\textbf{h}{^{[t+1]}}}{{L}}) + \\textbf{V}^{T} (\\nabla_{\\textbf{y} ^{[t]}}\\mathcal{L}) \\\\\n",
    "\\nabla_\\textbf{c}  \\mathcal{L}\n",
    "&= \\sum_{t=1}^{\\tau}\\nabla_{\\textbf{y}{^{[t]}}}{{\\mathcal{L}}} \\\\\n",
    "\\nabla_\\textbf{b}  \\mathcal{L}\n",
    "&= \\sum_{t=1}^{\\tau} \\text{diag}\\bigg(1-\\big(\\textbf{h}^{[t]}\\big)^{2} \\bigg) \\nabla_{\\textbf{h}^{[t]}}\\mathcal{L} \\\\\n",
    "\\nabla_\\textbf{V}  \\mathcal{L}\n",
    "&=\\sum_{t=1}^{\\tau}(\\nabla_{\\textbf{y}{^{[t]}}}{\\mathcal{L}})  \\textbf{h}^{{[t]}^{T}} \\\\\n",
    "\\nabla_\\textbf{W}  \\mathcal{L}\n",
    "&=\\sum_{t=1}^{\\tau} \\text{diag}\\bigg(1-\\big(\\textbf{h}^{[t]}\\big)^{2} \\bigg)\\ (\\nabla_{\\textbf{h}{^{[t]}}}{{\\mathcal{L}}}) \\textbf{h}^{{[t-1]}^{T}} \\\\\n",
    "\\nabla_\\textbf{U}  \\mathcal{L}\n",
    "&= \\sum_{t=1}^{\\tau} \\text{diag}\\bigg(1-\\big(\\textbf{h}^{[t]}\\big)^{2} \\bigg)(\\nabla_{\\textbf{h}{^{[t]}}}{{\\mathcal{L}}}) \\textbf{x}^{{[t]}^{T}}\n",
    "\\end{align}\n",
    "\n",
    "Hint 1 (chain rule for vector calculus): given a vector $\\textbf{x}\\in\\mathbb{R}^n$ and two functions $f:\\mathbb{R}^n\\rightarrow\\mathbb{R}^m$ and $g:\\mathbb{R}^m\\rightarrow\\mathbb{R}$, call the outputs $\\textbf{y}=f(\\textbf{x})$ and $z=g(\\textbf{y})=g(f(\\textbf{x}))$, then the following holds:\n",
    "\\begin{equation}\n",
    "\\nabla_{\\textbf{x}} z\n",
    "=\n",
    "\\nabla_{\\textbf{x}}\\textbf{y}\n",
    "\\cdot\n",
    "\\nabla_{\\textbf{y}} z\n",
    "\\end{equation}\n",
    "where $\\nabla_{\\textbf{y}} z\\in\\mathbb{R}^m$ and $\\nabla_{\\textbf{x}}\\textbf{y}\\in\\mathbb{R}^n\\times\\mathbb{R}^m$.\n",
    "\n",
    "Hint 2: draw a computational graph representing the computation performed by the RNN unrolled over time, then use this graph to compute the gradients: multiply gradients via the chain rule when traversing edges, and sum the gradients obtained along each path from the loss to the item you are differentiating against.\n",
    "\n",
    "### Solution\n",
    "\n",
    "![](../utils/09-lab-comp-graph.png)\n",
    "\n",
    "The figure shows a simplified computational graph for three steps of a RNN. Biases omitted for simplicity.\n",
    "\n",
    "There is only one path connecting $\\textbf{h}^{[\\tau]}$ to the loss:\n",
    "\\begin{equation}\n",
    "\\nabla_{\\textbf{h}^{[\\tau]}} \\mathcal{L}\n",
    "= \\nabla_{\\textbf{h}^{[\\tau]}}  \\textbf{y}^{[\\tau]} \\cdot \\nabla_{\\textbf{y} ^{[\\tau]}}\\mathcal{L}\n",
    "= \\textbf{V}^{T}\\cdot \\nabla_{\\textbf{y} ^{[\\tau]}}\\mathcal{L}\n",
    "\\label{eq:11}\n",
    "\\end{equation}\n",
    "while every other hidden activation influences the loss via its associated output and the following hidden activation, thus:\n",
    "\\begin{equation}\n",
    "\\nabla_{\\textbf{h}^{[t]}} \\mathcal{L}\n",
    "= \\nabla_{\\textbf{h}^{[t]}} \\textbf{y}^{[t]} \\cdot \\nabla_{\\textbf{y} ^{[t]}}\\mathcal{L}\n",
    "+ \\nabla_{\\textbf{h}^{[t]}} \\textbf{h}^{[t+1]} \\cdot \\nabla_{\\textbf{h}^{[t+1]}} \\mathcal{L}\n",
    "\\end{equation}\n",
    "The first term is analogous to Eq. 11, while to find $\\nabla_{\\textbf{h}^{[t]}} \\textbf{h}^{[t+1]}$ we need to apply the chain rule again:\n",
    "\\begin{equation}\n",
    "\\nabla_{\\textbf{h}^{[t]}} \\textbf{h}^{[t+1]}\n",
    "=\\nabla_{\\textbf{h}^{[t]}} \\tanh\\left(\\textbf{W} \\textbf{h}^{[t]} + \\textbf{U} \\textbf{x}^{[t+1]} + \\textbf{b}\\right)\n",
    "=\\textbf{W}^T\\cdot\\text{diag}\\left(1-{\\textbf{h}^{[t]}}^2\\right)\n",
    "\\end{equation}\n",
    "Therefore,\n",
    "\\begin{equation}\n",
    "\\nabla_{\\textbf{h}^{[t]}} \\mathcal{L}\n",
    "= \\textbf{V}^{T} \\cdot \\nabla_{\\textbf{y} ^{[t]}}\\mathcal{L}\n",
    "+\\textbf{W}^T\\cdot\\text{diag}\\left(1-{\\textbf{h}^{[t]}}^2\\right) \\cdot \\nabla_{\\textbf{h}^{[t+1]}} \\mathcal{L}\n",
    "\\end{equation}\n",
    "where we do not expand $\\nabla_{\\textbf{h}^{[t+1]}} \\mathcal{L}$ further as that is carried over during backpropagation (it corresponds to the $\\delta$ in lab 4).\n",
    "\n",
    "We now compute the gradients with respect to the parameters of the network, starting with the easy biases. $\\textbf{c}$ is used to compute $\\textbf{y}^{[t]}$ for every $t$, thus:\n",
    "\\begin{equation}\n",
    "\\nabla_\\textbf{c} \\mathcal{L}\n",
    "=\\sum_{t=1}^\\tau\n",
    "\\nabla_{\\textbf{c}}\\textbf{y}^{[t]}\\cdot\\nabla_{\\textbf{y}^{[t]}}\\mathcal{L}\n",
    "=\\sum_{t=1}^\\tau\\nabla_{\\textbf{y}^{[t]}}\\mathcal{L}\n",
    "\\end{equation}\n",
    "Similarly, $\\textbf{b}$ is used to compute $\\textbf{h}^{[t]}$, therefore:\n",
    "\\begin{equation}\n",
    "\\nabla_\\textbf{b} \\mathcal{L}\n",
    "=\\sum_{t=1}^\\tau\n",
    "\\nabla_{\\textbf{b}}\\textbf{h}^{[t]}\\cdot\\nabla_{\\textbf{h}^{[t]}}\\mathcal{L}\n",
    "=\\sum_{t=1}^\\tau\n",
    "\\text{diag}\\left(1-{\\textbf{h}^{[t]}}^2\\right)\n",
    "\\cdot\\nabla_{\\textbf{h}^{[t]}}\\mathcal{L}\n",
    "\\end{equation}\n",
    "\n",
    "Moving on to the three weight matrices, we have:\n",
    "\\begin{equation}\n",
    "\\nabla_\\textbf{V} \\mathcal{L}\n",
    "=\\sum_{t=1}^\\tau\n",
    "\\nabla_{\\textbf{V}^{[t]}} \\textbf{y}^{[t]}\\cdot\\nabla_{\\textbf{y}^{[t]}}\\mathcal{L}\n",
    "\\end{equation}\n",
    "where we use $\\nabla_{\\textbf{V}^{[t]}} \\textbf{y}^{[t]}$ to denote the gradient of $\\textbf{y}^{[t]}$ with respect to $\\textbf{V}$ *without* backpropagating, i.e., the contribution of $\\textbf{V}$ only at time $t$. In other words, you can think of $\\textbf{V}^{[1]},\\ldots,\\textbf{V}^{[t]}$ as dummy variables that all equal $\\textbf{V}$. Note that we must now deal with tensors: let $\\textbf{V}^{[t]}\\in\\mathbb{R}^{n\\times m}$, then $\\nabla_{\\textbf{V}^{[t]}} \\textbf{y}^{[t]}\\in\\mathbb{R}^{n\\times m\\times n}$, so that, since $\\nabla_{\\textbf{y}^{[t]}}\\mathcal{L}\\in\\mathbb{R}^{n}$, $\\nabla_\\textbf{V} \\mathcal{L}\\in\\mathbb{R}^{n\\times m}$ (the last dimension disappears due to the dot products, just like normal matrix multiplication). Let's analyze each item of the final gradient:\n",
    "\\begin{align}\n",
    "\\left(\\nabla_V \\mathcal{L}\\right)_{ij}\n",
    "&=\\frac{\\partial}{\\partial\\textbf{V}_{ij}}\\mathcal{L} \\\\\n",
    "&=\\sum_{t=1}^{\\tau}\\sum_{k=1}^n \\frac{\\partial \\mathcal{L}}{\\partial y^{[t]}_k}\\cdot\\frac{\\partial y^{[t]}_k}{\\partial V^{[t]}_{ij}} \\\\\n",
    "&=\\sum_{t=1}^{\\tau}\\sum_{k=1}^n \\frac{\\partial \\mathcal{L}}{\\partial y^{[t]}_k}\\cdot\n",
    "\\frac{\\partial}{\\partial V^{[t]}_{ij}}\\sum_{\\ell=1}^m V^{[t]}_{k\\ell}h^{[t]}_{\\ell} \\\\\n",
    "&=\\sum_{t=1}^{\\tau}\\sum_{k=1}^n \\frac{\\partial \\mathcal{L}}{\\partial y^{[t]}_k}\\cdot\n",
    "\\delta_{ik}h^{[t]}_j \\\\\n",
    "&=\\sum_{t=1}^{\\tau}\n",
    "\\frac{\\partial \\mathcal{L}}{\\partial y^{[t]}_i}\\cdot\n",
    "h^{[t]}_j\n",
    "\\end{align}\n",
    "Therefore, via the outer product:\n",
    "\\begin{equation}\n",
    "\\nabla_\\textbf{V} \\mathcal{L}=\\sum_{t=1}^{\\tau}\\nabla_{\\textbf{y}^{[t]}}\\mathcal{L}\\cdot {\\textbf{h}^{[t]}}^T\n",
    "\\end{equation}\n",
    "A faster way of reaching the same result is via:\n",
    "\\begin{equation}\n",
    "\\nabla_\\textbf{V} \\mathcal{L}\n",
    "=\\sum_{t=1}^{\\tau}\n",
    "\\sum_{i=1}^n\n",
    "\\nabla_{\\textbf{V}}y_i^{[t]}\n",
    "\\cdot\n",
    "\\nabla_{y_i^{[t]}}\\mathcal{L}\n",
    "\\end{equation}\n",
    "and noticing that $\\nabla_{\\textbf{V}}y_i^{[t]}$ is a matrix with all zeros except for row $i$ which equals ${\\textbf{h}^{[t]}}^T$.\n",
    "\n",
    "Moving on to $\\textbf{W}$, using the same insight, we have:\n",
    "\\begin{equation}\n",
    "\\nabla_{\\textbf{W}}\\mathcal{L}\n",
    "=\\sum_{t=1}^{\\tau} \\nabla_{\\textbf{W}}\\textbf{h}^{[t]}\\cdot \\nabla_{\\textbf{h}^{[t]}}\\mathcal{L}\n",
    "=\\sum_{t=1}^{\\tau} \\sum_{i=1}^{n} \\nabla_{\\textbf{W}}h_i^{[t]}\\cdot \\nabla_{h_i^{[t]}}\\mathcal{L}\n",
    "\\end{equation}\n",
    "where the $i$-th row of $\\nabla_{\\textbf{W}}h_i^{[t]}$ equals, by the chain rule,\n",
    "\\begin{equation}\n",
    "\\nabla_{\\textbf{W}}h_i^{[t]}\n",
    "=\\left(1-{{h}_i^{[t]}}^2\\right)\\cdot{\\textbf{h}^{[t-1]}}^T\n",
    "\\end{equation}\n",
    "therefore:\n",
    "\\begin{equation}\n",
    "\\nabla_{\\textbf{W}}\\mathcal{L}\n",
    "=\\sum_{t=1}^{\\tau} \\sum_{i=1}^{n} \\nabla_{\\textbf{W}}h_i^{[t]}\\cdot \\nabla_{h_i^{[t]}}\\mathcal{L}\n",
    "=\\sum_{t=1}^{\\tau}\n",
    "\\text{diag}\\left(1-{\\textbf{h}^{[t]}}^2\\right)\\cdot\\nabla_{\\textbf{y}^{[t]}}\\mathcal{L} \\cdot{\\textbf{h}^{[t-1]}}^T\n",
    "\\end{equation}\n",
    "\n",
    "Finally, in a similar way,\n",
    "\\begin{equation}\n",
    "\\nabla_{\\textbf{U}}\\mathcal{L}\n",
    "=\\sum_{t=1}^{\\tau} \\nabla_{\\textbf{U}}\\textbf{h}^{[t]}\\cdot \\nabla_{\\textbf{h}^{[t]}}\\mathcal{L}\n",
    "=\\sum_{t=1}^{\\tau} \\sum_{i=1}^{n} \\nabla_{\\textbf{U}}h_i^{[t]}\\cdot \\nabla_{h_i^{[t]}}\\mathcal{L}\n",
    "=\\sum_{t=1}^{\\tau}\n",
    "\\text{diag}\\left(1-{\\textbf{h}^{[t]}}^2\\right)\\cdot\\nabla_{\\textbf{y}^{[t]}}\\mathcal{L} \\cdot{\\textbf{x}^{[t]}}^T\n",
    "\\end{equation}"
   ]
  },
  {
   "cell_type": "markdown",
   "id": "5357d1b8",
   "metadata": {
    "pycharm": {
     "name": "#%% md\n"
    }
   },
   "source": [
    "\n",
    "## Exercise 2\n",
    "In the second exercise, we are going to be estimating only the temperature value of the next hour from the given past 24 hours of weather-related information.\n",
    "Thus we will not be computing any intermediate output from the RNN and only one scalar value at the final step. Additionally, we will use mean square error as a loss function.\n",
    "\n",
    "Given this information, show that:\n",
    "\n",
    "\\begin{align}\n",
    "\\nabla_{\\textbf{h} ^{[\\tau]}} \\mathcal{L}\n",
    "&=2(\\hat y-y) \\textbf{V}^{T} \\\\\n",
    "\\nabla_{\\textbf{h} ^{[t]}}\\mathcal{L}\n",
    "&= \\textbf{W}^{T} \\cdot \\text{diag}\\bigg(1-{\\textbf{h}^{[t+1]}}^{2} \\bigg)\\cdot\\nabla_{\\textbf{h}{^{[t+1]}}}{\\mathcal{L}} \\\\\n",
    "\\nabla_{\\textbf{c}} \\mathcal{L}\n",
    "&= 2(\\hat y-y) \\\\\n",
    "\\nabla_\\textbf{V} \\mathcal{L}\n",
    "&= 2(\\hat y-y) \\textbf{h}^{{[\\tau]}^{T}}\n",
    "\\end{align}\n",
    "\n",
    "\n",
    "### Solution\n",
    "\n",
    "In the first formula we can directly expand the gradient of the loss:\n",
    "\\begin{equation}\n",
    "\\nabla_{\\textbf{h}^{[\\tau]}} \\mathcal{L}\n",
    "= \\textbf{V}^{T}\\cdot \\nabla_{\\textbf{y} ^{[\\tau]}}\\mathcal{L}\n",
    "= \\textbf{V}^{T}\\cdot 2(y-\\hat{y})\n",
    "\\end{equation}\n",
    "\n",
    "In the other cases, since only the last output is connected to the loss, the formulas developed above do not need to consider the paths connecting intermediate outputs. Therefore,\n",
    "\\begin{equation}\n",
    "\\nabla_{\\textbf{h}^{[t]}} \\mathcal{L}\n",
    "=\\nabla_{\\textbf{h}^{[t]}} \\textbf{h}^{[t+1]} \\cdot \\nabla_{\\textbf{h}^{[t+1]}} \\mathcal{L}\n",
    "=\\textbf{W}^T\\cdot\\text{diag}\\left(1-{\\textbf{h}^{[t]}}^2\\right) \\cdot \\nabla_{\\textbf{h}^{[t+1]}} \\mathcal{L}\n",
    "\\end{equation}\n",
    "for the bias:\n",
    "\\begin{equation}\n",
    "\\nabla_{\\textbf{c}} \\mathcal{L}\n",
    "=\\nabla_{\\textbf{c}}\\textbf{y}^{[\\tau]}\\cdot \\nabla_{\\textbf{y}^{[\\tau]}}\\mathcal{L}\n",
    "= 2(\\hat y-y)\n",
    "\\end{equation}\n",
    "and for the last weight matrix:\n",
    "\\begin{equation}\n",
    "\\nabla_\\textbf{V} \\mathcal{L}\n",
    "=\\nabla_\\textbf{V} \\textbf{y}^{[\\tau]}\\cdot \\nabla_{\\textbf{y}^{[\\tau]}}\\mathcal{L}\n",
    "= 2(\\hat y-y) \\textbf{h}^{{[\\tau]}^{T}}\n",
    "\\end{equation}\n",
    "where $\\textbf{V}$ now has only one row since the network outputs scalars.\n"
   ]
  },
  {
   "cell_type": "markdown",
   "id": "76555e10",
   "metadata": {
    "pycharm": {
     "name": "#%% md\n"
    }
   },
   "source": [
    "## Exercise 3\n",
    "In this exercise, we will implement forward and backward propagation steps of the simple RNN and train it on a real data.\n",
    "We will stick to the notation the we used in the first part of the exercise.\n",
    "\n",
    "### Prepare the data\n",
    "In this exercise we will develop a model that estimates the temperature of the following hour from different weather parameters in the last 24 hours.\n",
    "The dataset includes the features described in the table below.\n",
    "\n",
    "We download the dataset from github and print out the first rows and the dimensions of file.\n",
    "We will use DEWP, TEMP, PRES, cbwd, Iws, Is, Ir features as input and not the pollution, since pm2.5 contains some NA values we do not want to deal with.\n",
    "\n",
    "![](lab9table1.png)"
   ]
  },
  {
   "cell_type": "code",
   "execution_count": 2,
   "id": "09e4c455",
   "metadata": {
    "execution": {
     "iopub.execute_input": "2022-01-05T16:44:59.198549Z",
     "iopub.status.busy": "2022-01-05T16:44:59.198083Z",
     "iopub.status.idle": "2022-01-05T16:44:59.593462Z",
     "shell.execute_reply": "2022-01-05T16:44:59.592982Z"
    },
    "pycharm": {
     "name": "#%%\n"
    }
   },
   "outputs": [],
   "source": [
    "url = 'https://raw.githubusercontent.com/jbrownlee/Datasets/master/pollution.csv'\n",
    "response = urllib.request.urlopen(url)\n",
    "lines = [l.decode('utf-8') for l in response.readlines()]\n",
    "data_list = [row for row in csv.reader(lines)]"
   ]
  },
  {
   "cell_type": "markdown",
   "id": "fba5abe6",
   "metadata": {
    "pycharm": {
     "name": "#%% md\n"
    }
   },
   "source": [
    "The first row contains the header/column names:"
   ]
  },
  {
   "cell_type": "code",
   "execution_count": 3,
   "id": "70ec25be",
   "metadata": {
    "execution": {
     "iopub.execute_input": "2022-01-05T16:44:59.597233Z",
     "iopub.status.busy": "2022-01-05T16:44:59.596791Z",
     "iopub.status.idle": "2022-01-05T16:44:59.599413Z",
     "shell.execute_reply": "2022-01-05T16:44:59.598957Z"
    },
    "pycharm": {
     "name": "#%%\n"
    }
   },
   "outputs": [
    {
     "name": "stdout",
     "output_type": "stream",
     "text": [
      "['No', 'year', 'month', 'day', 'hour', 'pm2.5', 'DEWP', 'TEMP', 'PRES', 'cbwd', 'Iws', 'Is', 'Ir']\n"
     ]
    }
   ],
   "source": [
    "print(data_list[0])"
   ]
  },
  {
   "cell_type": "markdown",
   "id": "ab25abdc",
   "metadata": {
    "pycharm": {
     "name": "#%% md\n"
    }
   },
   "source": [
    "As stated before, we will use DEWP, TEMP, PRES, cbwd, Iws, Is, Ir as features. Thus, we select the correct columns and create a tensor."
   ]
  },
  {
   "cell_type": "code",
   "execution_count": 4,
   "id": "98451c15",
   "metadata": {
    "execution": {
     "iopub.execute_input": "2022-01-05T16:44:59.635084Z",
     "iopub.status.busy": "2022-01-05T16:44:59.617198Z",
     "iopub.status.idle": "2022-01-05T16:44:59.785694Z",
     "shell.execute_reply": "2022-01-05T16:44:59.786059Z"
    },
    "pycharm": {
     "name": "#%%\n"
    }
   },
   "outputs": [
    {
     "name": "stdout",
     "output_type": "stream",
     "text": [
      "The dataset has 42984 columns and 6 features.\n",
      "tensor([[ -21.0000,  -11.0000, 1021.0000,    1.7900,    0.0000,    0.0000],\n",
      "        [ -21.0000,  -12.0000, 1020.0000,    4.9200,    0.0000,    0.0000],\n",
      "        [ -21.0000,  -11.0000, 1019.0000,    6.7100,    0.0000,    0.0000],\n",
      "        [ -21.0000,  -14.0000, 1019.0000,    9.8400,    0.0000,    0.0000],\n",
      "        [ -20.0000,  -12.0000, 1018.0000,   12.9700,    0.0000,    0.0000]])\n"
     ]
    }
   ],
   "source": [
    "# Let's remove the header now.\n",
    "# We will also only handle the first 43000 entries to comply with the original R exercise ;)\n",
    "data_list = data_list[1:43001]\n",
    "\n",
    "# We then remove the last day, because it is missing observations\n",
    "num_rows = len(data_list) - len(data_list) % 24\n",
    "data_list = data_list[:num_rows]\n",
    "\n",
    "filtered_data_list = []\n",
    "for row in data_list:\n",
    "    selection = itemgetter(6, 7, 8, 10, 11, 12)(row)\n",
    "    selection = [float(elem) for elem in selection]\n",
    "    filtered_data_list.append(selection)\n",
    "\n",
    "dataset = torch.tensor(filtered_data_list, dtype=torch.float)\n",
    "print('The dataset has {} columns and {} features.'.format(*dataset.shape))\n",
    "print(dataset[:5])\n",
    "\n",
    "# Let's delete the old stuff. We don't need it anymore\n",
    "del data_list, filtered_data_list"
   ]
  },
  {
   "cell_type": "markdown",
   "id": "32837875",
   "metadata": {
    "pycharm": {
     "name": "#%% md\n"
    }
   },
   "source": [
    "The data is already sorted by time, from oldest to newest observation. We then create a test set using the last 20% of days:"
   ]
  },
  {
   "cell_type": "code",
   "execution_count": 5,
   "id": "973275c4",
   "metadata": {
    "execution": {
     "iopub.execute_input": "2022-01-05T16:44:59.790646Z",
     "iopub.status.busy": "2022-01-05T16:44:59.789954Z",
     "iopub.status.idle": "2022-01-05T16:44:59.794137Z",
     "shell.execute_reply": "2022-01-05T16:44:59.793694Z"
    },
    "pycharm": {
     "name": "#%%\n"
    }
   },
   "outputs": [],
   "source": [
    "num_train_samples = (\n",
    "    int(0.8 * len(dataset) - len(dataset) % 24)\n",
    ")\n",
    "\n",
    "data_train = dataset[:num_train_samples]\n",
    "data_test = dataset[num_train_samples:]"
   ]
  },
  {
   "cell_type": "markdown",
   "id": "badb94ae",
   "metadata": {
    "pycharm": {
     "name": "#%% md\n"
    }
   },
   "source": [
    "We now standardize the data to have zero mean and unit standard deviation:"
   ]
  },
  {
   "cell_type": "code",
   "execution_count": 6,
   "id": "8d91ef78",
   "metadata": {
    "execution": {
     "iopub.execute_input": "2022-01-05T16:44:59.799784Z",
     "iopub.status.busy": "2022-01-05T16:44:59.799324Z",
     "iopub.status.idle": "2022-01-05T16:44:59.808722Z",
     "shell.execute_reply": "2022-01-05T16:44:59.808021Z"
    },
    "pycharm": {
     "name": "#%%\n"
    }
   },
   "outputs": [
    {
     "name": "stdout",
     "output_type": "stream",
     "text": [
      "This should be close to zero: tensor([-3.5499e-09, -3.2837e-08, -2.3057e-06, -1.6640e-08, -2.2187e-10,\n",
      "         2.5182e-08])\n",
      "This should be close to one: tensor([1.0000, 1.0000, 1.0000, 1.0000, 1.0000, 1.0000])\n"
     ]
    }
   ],
   "source": [
    "means = (\n",
    "    torch.mean(data_train, dim=0)\n",
    ")\n",
    "\n",
    "stds = (\n",
    "    torch.std(data_train, dim=0)\n",
    ")\n",
    "\n",
    "data_train = (\n",
    "    (data_train - means) / stds\n",
    ")\n",
    "\n",
    "data_test = (\n",
    "    (data_test - means) / stds\n",
    ")\n",
    "\n",
    "# Check if standardization worked\n",
    "print('This should be close to zero:', torch.mean(data_train, dim=0))\n",
    "print('This should be close to one:', torch.std(data_train, dim=0))"
   ]
  },
  {
   "cell_type": "markdown",
   "id": "190bd1a4",
   "metadata": {
    "pycharm": {
     "name": "#%% md\n"
    }
   },
   "source": [
    "We now create a function to return a single random sequence of 24 contiguous observations along with the temperature to predict:\n"
   ]
  },
  {
   "cell_type": "code",
   "execution_count": 7,
   "id": "30504150",
   "metadata": {
    "execution": {
     "iopub.execute_input": "2022-01-05T16:44:59.814326Z",
     "iopub.status.busy": "2022-01-05T16:44:59.813764Z",
     "iopub.status.idle": "2022-01-05T16:44:59.817299Z",
     "shell.execute_reply": "2022-01-05T16:44:59.816713Z"
    },
    "pycharm": {
     "name": "#%%\n"
    }
   },
   "outputs": [],
   "source": [
    "def get_random_day(data: Tensor) -> Tuple[Tensor, Tensor]:\n",
    "    \"\"\"Get 24 random contiguous hours from the dataset.\"\"\"\n",
    "    start_idx = (\n",
    "    torch.randint(len(data) - 25, (1,))\n",
    "    )\n",
    "\n",
    "    x = data[start_idx: start_idx + 24]\n",
    "    y = data[start_idx + 24, 1]\n",
    "    # The magic number 1 above corresponds to the second column in the features, which is temperature.\n",
    "\n",
    "    return x, y\n",
    "\n",
    "# Check for correct shape\n",
    "x, y = get_random_day(data_train)\n",
    "assert x.shape == (24, 6) and y.shape == (1,)"
   ]
  },
  {
   "cell_type": "markdown",
   "id": "d0b3b3ba",
   "metadata": {
    "pycharm": {
     "name": "#%% md\n"
    }
   },
   "source": [
    "### RNN implementation\n",
    "Let's define our own RNN module and initialize U, W, V, b and c weights randomly:"
   ]
  },
  {
   "cell_type": "code",
   "execution_count": 8,
   "id": "234ad1cf",
   "metadata": {
    "execution": {
     "iopub.execute_input": "2022-01-05T16:44:59.837016Z",
     "iopub.status.busy": "2022-01-05T16:44:59.836496Z",
     "iopub.status.idle": "2022-01-05T16:44:59.849170Z",
     "shell.execute_reply": "2022-01-05T16:44:59.848766Z"
    },
    "pycharm": {
     "name": "#%%\n"
    }
   },
   "outputs": [],
   "source": [
    "class RNN:\n",
    "    def __init__(self, hidden_state_size: int = 10, num_features: int = 6) -> None:\n",
    "        self.hidden_state_size = hidden_state_size\n",
    "        self.num_features = num_features\n",
    "\n",
    "        init_distribution = Normal(0, 0.001)\n",
    "\n",
    "        self.u = init_distribution.sample((hidden_state_size, num_features))\n",
    "        self.w = init_distribution.sample((hidden_state_size, hidden_state_size))\n",
    "        self.v = init_distribution.sample((hidden_state_size,))\n",
    "        self.b = torch.zeros(hidden_state_size)\n",
    "        self.c = torch.zeros(1)\n",
    "\n",
    "    # We will now define a function for the forward propagation,\n",
    "    # which will return the prediction of the network as well as all intermediate hidden states:\n",
    "    def forward(self, x: Tensor) -> Tuple[Tensor, Tensor]:\n",
    "        \"\"\"Pass a timeseries through the RNN.\"\"\"\n",
    "        h_dims = (\n",
    "            len(x) + 1, self.hidden_state_size\n",
    "        )\n",
    "        h = torch.zeros(h_dims)\n",
    "\n",
    "        for i in range(len(x)):\n",
    "            h[i + 1] = torch.tanh(self.u @ x[i] + self.w @ h[i] + self.b)\n",
    "\n",
    "        y = (\n",
    "            self.v @ h[-1] + self.c\n",
    "        )\n",
    "        return h[1:], y\n",
    "\n",
    "    def __call__(self, x: Tensor) -> Tuple[Tensor, Tensor]:\n",
    "        return self.forward(x)\n",
    "\n",
    "    # We now define functions computing the gradient for each parameter of the network separately, starting from the hidden states:\n",
    "\n",
    "    def _compute_grad_h(self, y_true: Tensor, y_pred: Tensor, hidden: Tensor) -> Tensor:\n",
    "        \"\"\"Compute the gradient w.r.t. h\"\"\"\n",
    "        grad_h = (\n",
    "            torch.zeros_like(hidden)\n",
    "        )\n",
    "\n",
    "        grad_h[-1] += 2 * (y_pred - y_true) * self.v.T\n",
    "\n",
    "        for i in reversed(range(len(hidden) - 1)):\n",
    "            grad_h[i] += self.w.T @ torch.diag(1 - hidden[i + 1]**2) @ grad_h[i + 1]\n",
    "\n",
    "        return grad_h\n",
    "\n",
    "    def _compute_grad_c(self, y_true: Tensor, y_pred: Tensor) -> Tensor:\n",
    "        \"\"\"Compute the gradient w.r.t. c. (The bias of the output layer)\"\"\"\n",
    "        return 2 * (y_pred - y_true)\n",
    "\n",
    "    def _compute_grad_b(self, hidden: Tensor, grad_h: Tensor) -> Tensor:\n",
    "        \"\"\"Compute the gradient w.r.t. b. (The bias of the recurrent layer)\"\"\"\n",
    "        grad_b = torch.zeros_like(self.b)\n",
    "        for i in range(1, len(hidden)):\n",
    "            grad_b += torch.diag(1 - hidden[i]**2) @ grad_h[i]\n",
    "        return grad_b\n",
    "\n",
    "    def _compute_grad_v(self, y_true: Tensor, y_pred: Tensor, hidden: Tensor) -> Tensor:\n",
    "        \"\"\"Compute the gradient w.r.t. v. (The bias of the output weights)\"\"\"\n",
    "        return 2 * (y_pred - y_true) * hidden[-1]\n",
    "\n",
    "    def _compute_grad_w(self, hidden: Tensor, grad_h: Tensor) -> Tensor:\n",
    "        \"\"\"Compute the gradient w.r.t. w. (The hidden-to-hidden weights)\"\"\"\n",
    "        grad_w = torch.zeros_like(self.w)\n",
    "        for i in range(1, len(hidden)):\n",
    "            grad_w += torch.diag(1 - hidden[i]**2) @ grad_h[i].unsqueeze(-1) @ hidden[i - 1].unsqueeze(0)\n",
    "        return grad_w\n",
    "\n",
    "    def _compute_grad_u(self, hidden: Tensor, grad_h: Tensor, x: Tensor) -> Tensor:\n",
    "        \"\"\"Compute the gradient w.r.t. u. (The input-to-hidden weights)\"\"\"\n",
    "        grad_w = torch.zeros_like(self.u)\n",
    "        for i in range(1, len(hidden)):\n",
    "            grad_w += torch.diag(1 - hidden[i]**2) @ grad_h[i].unsqueeze(-1) @ x[i - 1].unsqueeze(0)\n",
    "        return grad_w\n",
    "\n",
    "    def get_gradients(self, x: Tensor, y_true: Tensor, y_pred: Tensor, hidden: Tensor) -> Dict:\n",
    "        \"\"\"Obtain all gradients for a prediction.\"\"\"\n",
    "        grad_h = self._compute_grad_h(y_true, y_pred, hidden)\n",
    "        return {\n",
    "            \"grad_c\": self._compute_grad_c(y_true, y_pred),\n",
    "            \"grad_b\": self._compute_grad_b(hidden, grad_h),\n",
    "            \"grad_v\": self._compute_grad_v(y_true, y_pred, hidden),\n",
    "            \"grad_w\": self._compute_grad_w(hidden, grad_h),\n",
    "            \"grad_u\": self._compute_grad_u(hidden, grad_h, x)\n",
    "        }\n",
    "\n",
    "# Compute some dummy values to see if your implementation works without throwing errors.\n",
    "# (And in practice please use unit tests!)\n",
    "rnn = RNN()\n",
    "x, y = get_random_day(data_train)\n",
    "h, y_hat = rnn(x)\n",
    "grad_h = rnn._compute_grad_h(y, y_hat, h)\n",
    "grad_c = rnn._compute_grad_c(y, y_hat)\n",
    "grad_b = rnn._compute_grad_b(h, grad_h)\n",
    "grad_v = rnn._compute_grad_v(y, y_hat, h)\n",
    "grad_w = rnn._compute_grad_w(h, grad_h)\n",
    "grad_u = rnn._compute_grad_u(h, grad_h, x)\n",
    "\n",
    "# Check if your implementation returns the correct shapes\n",
    "assert h.shape == (24, 10)\n",
    "assert y.shape == (1, )\n",
    "assert grad_h.shape == (24, 10)\n",
    "assert grad_c.shape == (1, )\n",
    "assert grad_b.shape == (10, )\n",
    "assert grad_v.shape == (10, )\n",
    "assert grad_w.shape == (10, 10)\n",
    "assert grad_u.shape == (10, 6)"
   ]
  },
  {
   "cell_type": "markdown",
   "id": "aee277c8",
   "metadata": {
    "pycharm": {
     "name": "#%% md\n"
    }
   },
   "source": [
    "Finally, we need a loss function:"
   ]
  },
  {
   "cell_type": "code",
   "execution_count": 9,
   "id": "4912ae6b",
   "metadata": {
    "execution": {
     "iopub.execute_input": "2022-01-05T16:44:59.852942Z",
     "iopub.status.busy": "2022-01-05T16:44:59.852482Z",
     "iopub.status.idle": "2022-01-05T16:44:59.854213Z",
     "shell.execute_reply": "2022-01-05T16:44:59.854637Z"
    },
    "pycharm": {
     "name": "#%%\n"
    }
   },
   "outputs": [],
   "source": [
    "def mse_loss_func(y_true: Tensor, y_pred: Tensor) -> Tensor:\n",
    "    return torch.mean((y_true - y_pred)**2)"
   ]
  },
  {
   "cell_type": "markdown",
   "id": "0d2bee5d",
   "metadata": {
    "pycharm": {
     "name": "#%% md\n"
    }
   },
   "source": [
    "#### Training step\n",
    "\n",
    "Let us now put all the functions we defined above together to execute a single training step on a randomly sampled minibatch of data:\n"
   ]
  },
  {
   "cell_type": "code",
   "execution_count": 10,
   "id": "258ec731",
   "metadata": {
    "execution": {
     "iopub.execute_input": "2022-01-05T16:44:59.862668Z",
     "iopub.status.busy": "2022-01-05T16:44:59.862205Z",
     "iopub.status.idle": "2022-01-05T16:44:59.864259Z",
     "shell.execute_reply": "2022-01-05T16:44:59.863796Z"
    },
    "pycharm": {
     "name": "#%%\n"
    }
   },
   "outputs": [],
   "source": [
    "def do_training_step(rnn: RNN, data_train: Tensor, batch_size: int, lr: float) -> float:\n",
    "\n",
    "    total_loss = 0\n",
    "    grad_c_list = []\n",
    "    grad_b_list = []\n",
    "    grad_v_list = []\n",
    "    grad_w_list = []\n",
    "    grad_u_list = []\n",
    "\n",
    "    for _ in range(batch_size):\n",
    "        x, y = get_random_day(data_train)\n",
    "        h, y_hat = rnn(x)\n",
    "        loss = mse_loss_func(y, y_hat)\n",
    "\n",
    "        total_loss = float(loss)\n",
    "\n",
    "        gradient_dict = rnn.get_gradients(x, y, y_hat, h)\n",
    "        grad_c_list.append(gradient_dict['grad_c'])\n",
    "        grad_b_list.append(gradient_dict['grad_b'])\n",
    "        grad_v_list.append(gradient_dict['grad_v'])\n",
    "        grad_w_list.append(gradient_dict['grad_w'])\n",
    "        grad_u_list.append(gradient_dict['grad_u'])\n",
    "\n",
    "    rnn.c -= lr * torch.mean(torch.stack(grad_c_list), dim=0)\n",
    "    rnn.b -= lr * torch.mean(torch.stack(grad_b_list), dim=0)\n",
    "    rnn.v -= lr * torch.mean(torch.stack(grad_v_list), dim=0)\n",
    "    rnn.w -= lr * torch.mean(torch.stack(grad_w_list), dim=0)\n",
    "    rnn.u -= lr * torch.mean(torch.stack(grad_u_list), dim=0)\n",
    "\n",
    "    return total_loss"
   ]
  },
  {
   "cell_type": "markdown",
   "id": "95bc2fea",
   "metadata": {
    "pycharm": {
     "name": "#%% md\n"
    }
   },
   "source": [
    "#### Training loop\n",
    "We now have all components needed to train our network:"
   ]
  },
  {
   "cell_type": "code",
   "execution_count": 11,
   "id": "84361aa3",
   "metadata": {
    "execution": {
     "iopub.execute_input": "2022-01-05T16:44:59.868579Z",
     "iopub.status.busy": "2022-01-05T16:44:59.868113Z",
     "iopub.status.idle": "2022-01-05T16:44:59.870378Z",
     "shell.execute_reply": "2022-01-05T16:44:59.869924Z"
    },
    "pycharm": {
     "name": "#%%\n"
    }
   },
   "outputs": [],
   "source": [
    "def train_rnn(data_train: Tensor, num_steps) -> Tuple[RNN, list]:\n",
    "    losses = []\n",
    "    rnn = RNN()\n",
    "\n",
    "    for _ in range(num_steps):\n",
    "        loss = do_training_step(rnn, data_train, 32, 0.01)\n",
    "\n",
    "        losses.append(loss)\n",
    "\n",
    "    return rnn, losses"
   ]
  },
  {
   "cell_type": "code",
   "execution_count": 12,
   "id": "d4721cce",
   "metadata": {
    "execution": {
     "iopub.execute_input": "2022-01-05T16:44:59.874177Z",
     "iopub.status.busy": "2022-01-05T16:44:59.873482Z",
     "iopub.status.idle": "2022-01-05T16:46:49.363053Z",
     "shell.execute_reply": "2022-01-05T16:46:49.363844Z"
    },
    "pycharm": {
     "name": "#%%\n"
    }
   },
   "outputs": [
    {
     "data": {
      "application/pdf": "[encoded data removed]",
      "image/png": "[encoded data removed]",
      "text/plain": [
       "<Figure size 432x288 with 1 Axes>"
      ]
     },
     "metadata": {
      "needs_background": "light"
     },
     "output_type": "display_data"
    }
   ],
   "source": [
    "rnn, losses = train_rnn(data_train, num_steps=500)\n",
    "\n",
    "plt.plot([i for i in range(len(losses))], losses)\n",
    "plt.show()"
   ]
  },
  {
   "cell_type": "markdown",
   "id": "76f66745",
   "metadata": {
    "pycharm": {
     "name": "#%% md\n"
    }
   },
   "source": [
    "If you did everything correctly, the loss should have converged to below 0.075:"
   ]
  },
  {
   "cell_type": "code",
   "execution_count": 13,
   "id": "8e39a49a",
   "metadata": {
    "execution": {
     "iopub.execute_input": "2022-01-05T16:46:49.368903Z",
     "iopub.status.busy": "2022-01-05T16:46:49.368451Z",
     "iopub.status.idle": "2022-01-05T16:46:49.370371Z",
     "shell.execute_reply": "2022-01-05T16:46:49.370789Z"
    },
    "pycharm": {
     "name": "#%%\n"
    }
   },
   "outputs": [],
   "source": [
    "assert torch.mean(torch.tensor(losses[-25:])) < 0.075"
   ]
  },
  {
   "cell_type": "markdown",
   "id": "313c1ef8",
   "metadata": {
    "pycharm": {
     "name": "#%% md\n"
    }
   },
   "source": [
    "#### Evaluation on the test set\n",
    "\n",
    "Let us now use the network to predict the samples in the test set and plot predicted versus true value:"
   ]
  },
  {
   "cell_type": "code",
   "execution_count": 14,
   "id": "9bb5f5dc",
   "metadata": {
    "execution": {
     "iopub.execute_input": "2022-01-05T16:46:49.375472Z",
     "iopub.status.busy": "2022-01-05T16:46:49.375015Z",
     "iopub.status.idle": "2022-01-05T16:46:57.895403Z",
     "shell.execute_reply": "2022-01-05T16:46:57.894976Z"
    },
    "pycharm": {
     "name": "#%%\n"
    }
   },
   "outputs": [],
   "source": [
    "ys = []\n",
    "y_hats = []\n",
    "\n",
    "for i in range(len(data_test) - 24):\n",
    "    x = data_test[i: i + 24]\n",
    "    y = data_test[i + 24, 1]\n",
    "    _, y_hat = rnn(x)\n",
    "\n",
    "    ys.append(float(y))\n",
    "    y_hats.append(float(y_hat))\n"
   ]
  },
  {
   "cell_type": "code",
   "execution_count": 15,
   "id": "1e68bb18",
   "metadata": {
    "execution": {
     "iopub.execute_input": "2022-01-05T16:46:57.912217Z",
     "iopub.status.busy": "2022-01-05T16:46:57.911045Z",
     "iopub.status.idle": "2022-01-05T16:46:58.484620Z",
     "shell.execute_reply": "2022-01-05T16:46:58.485255Z"
    },
    "pycharm": {
     "name": "#%%\n"
    },
    "scrolled": true
   },
   "outputs": [
    {
     "data": {
      "application/pdf": "[encoded data removed]",
      "image/png": "[encoded data removed]",
      "text/plain": [
       "<Figure size 432x288 with 1 Axes>"
      ]
     },
     "metadata": {
      "needs_background": "light"
     },
     "output_type": "display_data"
    }
   ],
   "source": [
    "plt.scatter(ys, y_hats)\n",
    "plt.axline((1, 1), slope=1, c='black')\n",
    "plt.show()"
   ]
  }
 ],
 "metadata": {
  "kernelspec": {
   "display_name": "Python 3 (ipykernel)",
   "language": "python",
   "name": "python3"
  },
  "language_info": {
   "codemirror_mode": {
    "name": "ipython",
    "version": 3
   },
   "file_extension": ".py",
   "mimetype": "text/x-python",
   "name": "python",
   "nbconvert_exporter": "python",
   "pygments_lexer": "ipython3",
   "version": "3.8.5"
  }
 },
 "nbformat": 4,
 "nbformat_minor": 5
}
