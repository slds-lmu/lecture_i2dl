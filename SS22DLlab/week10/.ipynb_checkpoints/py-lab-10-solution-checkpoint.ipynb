{
 "cells": [
  {
   "cell_type": "markdown",
   "id": "197a6b62",
   "metadata": {
    "pycharm": {
     "name": "#%% md\n"
    }
   },
   "source": [
    "# Lab 10\n",
    "\n",
    "Hüseyin Anil Gündüz\n",
    "\n",
    "## Imports"
   ]
  },
  {
   "cell_type": "code",
   "execution_count": 1,
   "id": "1fdc6e24",
   "metadata": {
    "execution": {
     "iopub.execute_input": "2022-01-25T17:30:49.919859Z",
     "iopub.status.busy": "2022-01-25T17:30:49.919077Z",
     "iopub.status.idle": "2022-01-25T17:30:51.599424Z",
     "shell.execute_reply": "2022-01-25T17:30:51.599916Z"
    },
    "pycharm": {
     "name": "#%%\n"
    }
   },
   "outputs": [],
   "source": [
    "import string\n",
    "from collections import Counter\n",
    "from math import ceil\n",
    "from typing import List, Optional, Tuple, Dict\n",
    "\n",
    "import matplotlib.pyplot as plt\n",
    "import torch\n",
    "from matplotlib_inline.backend_inline import set_matplotlib_formats\n",
    "from torch import nn, Tensor\n",
    "from torch.nn.utils.rnn import pad_sequence\n",
    "from torch.optim import Adam, Optimizer\n",
    "from torch.utils.data import DataLoader, Dataset\n",
    "from torchtext.datasets import IMDB\n",
    "from torchvision.datasets import MNIST\n",
    "from torchvision.utils import make_grid\n",
    "\n",
    "set_matplotlib_formats('png', 'pdf')"
   ]
  },
  {
   "cell_type": "markdown",
   "id": "a2db3577",
   "metadata": {
    "pycharm": {
     "name": "#%% md\n"
    }
   },
   "source": [
    "## Exercise 1\n",
    "\n",
    "In this exercise, we are going to revise the sentiment classifier for IMDB reviews we\n",
    "developed in a previous lab. Earlier, we encoded each review as a single \"bag-of-words\"\n",
    "vector which had one element for each word in our dictionary set to one if that word was\n",
    "found in the review, zero otherwise. This allowed us to use a simple fully-connected\n",
    "neural network but, on the flip side, we lost all information contained in the ordering\n",
    "and of the words and possible multiple repetitions. Recurrent neural networks, however,\n",
    "are able to process reviews directly. Let's see how!\n",
    "\n",
    "The first step is to load the data and preprocess it like it in exercise 6, so if you\n",
    "still remember what we did there, feel free to skip this part.\n",
    "For brevity, we only use the 10000 most common words\n",
    "and truncate reviews to 250 words, but if you can use a GPU then feel free to\n",
    "use the full length reviews and all words!"
   ]
  },
  {
   "cell_type": "code",
   "execution_count": 2,
   "id": "3996211e",
   "metadata": {
    "execution": {
     "iopub.execute_input": "2022-01-25T17:30:51.604786Z",
     "iopub.status.busy": "2022-01-25T17:30:51.604188Z",
     "iopub.status.idle": "2022-01-25T17:31:09.710098Z",
     "shell.execute_reply": "2022-01-25T17:31:09.709573Z"
    },
    "pycharm": {
     "name": "#%%\n"
    }
   },
   "outputs": [],
   "source": [
    "train_iterator, test_iterator = IMDB();"
   ]
  },
  {
   "cell_type": "code",
   "execution_count": 3,
   "id": "21e4750a",
   "metadata": {
    "execution": {
     "iopub.execute_input": "2022-01-25T17:31:09.743881Z",
     "iopub.status.busy": "2022-01-25T17:31:09.712828Z",
     "iopub.status.idle": "2022-01-25T17:31:12.770717Z",
     "shell.execute_reply": "2022-01-25T17:31:12.770078Z"
    },
    "pycharm": {
     "name": "#%%\n"
    }
   },
   "outputs": [],
   "source": [
    "# Feed iterator to list\n",
    "train_x = []\n",
    "train_y = []\n",
    "test_x = []\n",
    "test_y = []\n",
    "\n",
    "for label, line in train_iterator:\n",
    "    train_x.append(line)\n",
    "    train_y.append(label)\n",
    "\n",
    "for label, line in test_iterator:\n",
    "    test_x.append(line)\n",
    "    test_y.append(label)\n"
   ]
  },
  {
   "cell_type": "code",
   "execution_count": 4,
   "id": "07a3c86f",
   "metadata": {
    "execution": {
     "iopub.execute_input": "2022-01-25T17:31:12.800157Z",
     "iopub.status.busy": "2022-01-25T17:31:12.789557Z",
     "iopub.status.idle": "2022-01-25T17:31:15.469393Z",
     "shell.execute_reply": "2022-01-25T17:31:15.468736Z"
    },
    "pycharm": {
     "name": "#%%\n"
    }
   },
   "outputs": [],
   "source": [
    "# Tokenize sentences.\n",
    "\n",
    "def tokenize(data_list: List[str]) -> List[List[str]]:\n",
    "    \"\"\"\n",
    "    Tokenize a list of strings.\n",
    "\n",
    "    :param data_list: A list of strings.\n",
    "    :return: A list where each entry is a list including the tokenized elements.\n",
    "    \"\"\"\n",
    "    token_list: List[List[str]] = []\n",
    "    for data_string in data_list:\n",
    "        # Remove punctuation.\n",
    "        data_string = data_string.translate(str.maketrans('', '', string.punctuation))\n",
    "        # Split by space.\n",
    "        token_list.append(data_string.split())\n",
    "    return token_list\n",
    "\n",
    "\n",
    "train_x = tokenize(train_x)\n",
    "test_x = tokenize(test_x)\n"
   ]
  },
  {
   "cell_type": "code",
   "execution_count": 5,
   "id": "0a8e69a1",
   "metadata": {
    "execution": {
     "iopub.execute_input": "2022-01-25T17:31:15.517308Z",
     "iopub.status.busy": "2022-01-25T17:31:15.516442Z",
     "iopub.status.idle": "2022-01-25T17:31:19.646213Z",
     "shell.execute_reply": "2022-01-25T17:31:19.645660Z"
    },
    "pycharm": {
     "name": "#%%\n"
    }
   },
   "outputs": [],
   "source": [
    "# Count-vectorize sentences.\n",
    "class CountVectorizer:\n",
    "    def __init__(self):\n",
    "        self.vec_to_str_map: Dict[int, str] = {}\n",
    "        self.str_to_vec_map: Dict[str, int] = {}\n",
    "\n",
    "    def fit(self, token_list: List[str]) -> None:\n",
    "        # The `Counter` object from the `collections` library gives us efficient counting\n",
    "        # in large lists out of box.\n",
    "        cnt = Counter(token_list)\n",
    "        sorted_cnt = sorted(cnt.items(), key=lambda item: item[1], reverse=True)\n",
    "        sorted_words = [key for key, val in sorted_cnt]\n",
    "\n",
    "        # Python does not know a bidirectional mapping by default.\n",
    "        # We trick a bit by simply creating two dicts, but note that this is inefficient.\n",
    "        self.str_to_vec_map = {sorted_words[i]: i + 1 for i in range(len(sorted_words))}\n",
    "        self.vec_to_str_map = {i + 1: sorted_words[i] for i in range(len(sorted_words))}\n",
    "\n",
    "    def transform_to_vec(self, token_list: List[str]) -> List[int]:\n",
    "        return [self.str_to_vec_map.get(word) for word in token_list]\n",
    "\n",
    "    def transform_to_str(self, token_list: List[int]) -> List[str]:\n",
    "        return [self.vec_to_str_map.get(rank) for rank in token_list]\n",
    "\n",
    "\n",
    "train_words = [word for word_list in train_x for word in word_list]\n",
    "test_words = [word for word_list in test_x for word in word_list]\n",
    "\n",
    "count_vectorizer = CountVectorizer()\n",
    "counter = count_vectorizer.fit(train_words)\n",
    "\n",
    "train_x = [count_vectorizer.transform_to_vec(word_list) for word_list in train_x]\n",
    "test_x = [count_vectorizer.transform_to_vec(word_list) for word_list in test_x]"
   ]
  },
  {
   "cell_type": "code",
   "execution_count": 6,
   "id": "cf46b3d5",
   "metadata": {
    "execution": {
     "iopub.execute_input": "2022-01-25T17:31:19.654180Z",
     "iopub.status.busy": "2022-01-25T17:31:19.653596Z",
     "iopub.status.idle": "2022-01-25T17:31:21.135008Z",
     "shell.execute_reply": "2022-01-25T17:31:21.135470Z"
    },
    "pycharm": {
     "name": "#%%\n"
    }
   },
   "outputs": [],
   "source": [
    "# Discard words that are not in the top 10000\n",
    "# Truncate sequences to a length of 250\n",
    "# Remove Nones\n",
    "\n",
    "def filter_word_ranks(\n",
    "        word_list: List[Optional[int]],\n",
    "        max_rank: int = 10000,\n",
    "        max_seq_len: int = 250\n",
    ") -> List[int]:\n",
    "    output = []\n",
    "    seq_len = 0\n",
    "    for word_rank in word_list:\n",
    "        if seq_len >= max_seq_len:\n",
    "            return output\n",
    "        elif word_rank is None:\n",
    "            continue\n",
    "        elif word_rank <= max_rank:\n",
    "            output.append(word_rank)\n",
    "            seq_len += 1\n",
    "    return output\n",
    "\n",
    "\n",
    "train_x = [filter_word_ranks(word_list) for word_list in train_x]\n",
    "test_x = [filter_word_ranks(word_list) for word_list in test_x]"
   ]
  },
  {
   "cell_type": "code",
   "execution_count": 7,
   "id": "88a0c0f1",
   "metadata": {
    "execution": {
     "iopub.execute_input": "2022-01-25T17:31:21.142772Z",
     "iopub.status.busy": "2022-01-25T17:31:21.142143Z",
     "iopub.status.idle": "2022-01-25T17:31:21.144014Z",
     "shell.execute_reply": "2022-01-25T17:31:21.144478Z"
    },
    "pycharm": {
     "name": "#%%\n"
    }
   },
   "outputs": [],
   "source": [
    "# Encode labels to binary targets\n",
    "train_y = [1 if label == 'pos' else 0 for label in train_y]\n",
    "test_y = [1 if label == 'pos' else 0 for label in test_y]"
   ]
  },
  {
   "cell_type": "markdown",
   "id": "fb747cda",
   "metadata": {
    "pycharm": {
     "name": "#%% md\n"
    }
   },
   "source": [
    "Now, each review is a vector of numbers, each corresponding to a different word:"
   ]
  },
  {
   "cell_type": "code",
   "execution_count": 8,
   "id": "76e176d4",
   "metadata": {
    "execution": {
     "iopub.execute_input": "2022-01-25T17:31:21.148683Z",
     "iopub.status.busy": "2022-01-25T17:31:21.148095Z",
     "iopub.status.idle": "2022-01-25T17:31:21.150733Z",
     "shell.execute_reply": "2022-01-25T17:31:21.151220Z"
    },
    "pycharm": {
     "name": "#%%\n"
    }
   },
   "outputs": [
    {
     "name": "stdout",
     "output_type": "stream",
     "text": [
      "[8, 1595, 8, 35, 70, 434, 1191, 80, 4, 32, 1, 7739, 9, 3423, 10, 55, 10, 13, 89, 654, 7, 7978, 8, 91, 559, 9, 30, 89, 10, 13, 31, 835, 60, 10, 129, 787, 5, 3578, 11, 783, 2044, 110, 2, 341, 4, 94, 1165, 3150, 8, 59, 61, 5, 66, 11, 17, 12, 14, 114, 6, 6504, 187, 2, 199, 4239, 500, 1612, 777, 5011, 34, 481, 5, 847, 330, 72, 67, 41, 128, 121, 826, 72, 481, 5, 1139, 39, 5, 255, 47, 439, 4, 701, 21, 51, 1, 895, 196, 41, 809, 1008, 1328, 141, 15, 1, 2757, 969, 3, 1672, 1328, 7, 1, 2535, 2532, 121, 194, 2193, 7740, 3, 1999, 4, 41, 64, 5012, 21, 2549, 72, 43, 423, 16, 39, 500, 1774, 8513, 3, 1052, 12, 216, 1116, 71, 41, 8, 6, 9, 1831, 154, 614, 11, 13, 1165, 8972, 2069, 1, 423, 3, 1048, 139, 22, 164, 3, 243, 194, 65, 107, 37, 24, 333, 36, 47, 6972, 88, 5058, 441, 70, 357, 162, 10, 1635, 7, 677, 423, 3, 1048, 22, 2, 723, 7, 4239, 496, 380, 5218, 5059, 64, 1564, 5, 48, 175, 522, 305, 2092, 61, 423, 139, 7, 23, 3817, 12, 8, 84, 1, 902, 17, 1, 189, 9, 100, 423, 613, 7, 1, 19, 6, 613, 17, 1618, 5555, 250, 73, 44, 5, 1579, 82, 3, 93, 291, 5, 27, 613, 7, 8972, 2245, 7, 949, 8, 6, 2, 48, 19, 17, 278, 1786, 5, 2093]\n"
     ]
    }
   ],
   "source": [
    "print(train_x[0])"
   ]
  },
  {
   "cell_type": "markdown",
   "id": "c8887937",
   "metadata": {
    "pycharm": {
     "name": "#%% md\n"
    }
   },
   "source": [
    "Even though RNNs can process sequences of arbitrary length, all sequences in the same\n",
    "batch must be of the same length, while sequences in different batches can have different\n",
    "length. In this case, however, we pad all sequences to the same length as this makes for\n",
    "much simpler code.\n",
    "PyTorch provides a function to do so for you called `pad_sequence` (read the documentation!).\n",
    "Hint: It might be good to set the argument `batch_first` to `True.\n",
    "Beforehand, we need to convert the data to tensors. Let's also define our device and push\n",
    "the newly created padded tensor to it."
   ]
  },
  {
   "cell_type": "code",
   "execution_count": 9,
   "id": "24f5ea44",
   "metadata": {
    "execution": {
     "iopub.execute_input": "2022-01-25T17:31:21.191069Z",
     "iopub.status.busy": "2022-01-25T17:31:21.153665Z",
     "iopub.status.idle": "2022-01-25T17:31:25.269326Z",
     "shell.execute_reply": "2022-01-25T17:31:25.268039Z"
    },
    "pycharm": {
     "name": "#%%\n"
    }
   },
   "outputs": [],
   "source": [
    "device = (\n",
    "    torch.device('cuda' if torch.cuda.is_available() else 'cpu')\n",
    ")\n",
    "\n",
    "train_x = [torch.tensor(word_list, dtype=torch.int) for word_list in train_x]\n",
    "test_x = [torch.tensor(word_list, dtype=torch.int) for word_list in test_x]\n",
    "\n",
    "train_x = (\n",
    "    pad_sequence(train_x, batch_first=True).to(device)\n",
    ")\n",
    "\n",
    "test_x = (\n",
    "    pad_sequence(test_x, batch_first=True).to(device)\n",
    ")\n",
    "\n",
    "train_y = torch.tensor(train_y, dtype=torch.float, device=device)\n",
    "test_y = torch.tensor(test_y, dtype=torch.float, device=device)"
   ]
  },
  {
   "cell_type": "code",
   "execution_count": 10,
   "id": "31285b68",
   "metadata": {
    "execution": {
     "iopub.execute_input": "2022-01-25T17:31:25.275239Z",
     "iopub.status.busy": "2022-01-25T17:31:25.274144Z",
     "iopub.status.idle": "2022-01-25T17:31:25.278607Z",
     "shell.execute_reply": "2022-01-25T17:31:25.278027Z"
    },
    "pycharm": {
     "name": "#%%\n"
    }
   },
   "outputs": [
    {
     "name": "stdout",
     "output_type": "stream",
     "text": [
      "torch.Size([25000, 250])\n"
     ]
    }
   ],
   "source": [
    "print(train_x.shape)"
   ]
  },
  {
   "cell_type": "markdown",
   "id": "264864d2",
   "metadata": {
    "pycharm": {
     "name": "#%% md\n"
    }
   },
   "source": [
    "The data is now an array of shape `(num_samples x seq_len)`.\n",
    "A PyTorch RNN with `batch_first=True` option expects the input to be of shape\n",
    "`(num_samples x seq_len x features)`. Although we have a univariate timeseries, we still\n",
    "need to add this additional last dimension."
   ]
  },
  {
   "cell_type": "code",
   "execution_count": 11,
   "id": "8fa20cad",
   "metadata": {
    "execution": {
     "iopub.execute_input": "2022-01-25T17:31:25.283330Z",
     "iopub.status.busy": "2022-01-25T17:31:25.282735Z",
     "iopub.status.idle": "2022-01-25T17:31:25.284962Z",
     "shell.execute_reply": "2022-01-25T17:31:25.284454Z"
    },
    "pycharm": {
     "name": "#%%\n"
    }
   },
   "outputs": [],
   "source": [
    "train_x = (\n",
    "    train_x.unsqueeze(-1)\n",
    ")\n",
    "\n",
    "test_x = (\n",
    "    test_x.unsqueeze(-1)\n",
    ")"
   ]
  },
  {
   "cell_type": "markdown",
   "id": "80cbd973",
   "metadata": {
    "pycharm": {
     "name": "#%% md\n"
    }
   },
   "source": [
    "Finally let's create our `IMDBDataset` object:"
   ]
  },
  {
   "cell_type": "code",
   "execution_count": 12,
   "id": "5096d2ee",
   "metadata": {
    "execution": {
     "iopub.execute_input": "2022-01-25T17:31:25.291161Z",
     "iopub.status.busy": "2022-01-25T17:31:25.290605Z",
     "iopub.status.idle": "2022-01-25T17:31:25.292477Z",
     "shell.execute_reply": "2022-01-25T17:31:25.292968Z"
    },
    "pycharm": {
     "name": "#%%\n"
    }
   },
   "outputs": [],
   "source": [
    "\n",
    "class IMDBDataset(Dataset):\n",
    "    def __init__(self, data: Tensor, labels: Tensor):\n",
    "        self.data = data\n",
    "        self.labels = labels\n",
    "\n",
    "    @property\n",
    "    def shape(self) -> Tuple:\n",
    "        return self.data.shape\n",
    "\n",
    "    def __len__(self) -> int:\n",
    "        return len(self.labels)\n",
    "\n",
    "    def __getitem__(self, idx: int) -> Tuple[Tensor, Tensor]:\n",
    "        return self.data[idx], self.labels[idx]"
   ]
  },
  {
   "cell_type": "markdown",
   "id": "54965074",
   "metadata": {
    "pycharm": {
     "name": "#%% md\n"
    }
   },
   "source": [
    "Next, we define our sequential model. The first layer is an _Embedding_ layer that\n",
    "associates a vector of numbers to each word in the vocabulary. These numbers are updated\n",
    "during training just like all other weights in the network. Crucially, thanks to this\n",
    "embedding layer we do not have to one-hot-encode the reviews but we can use the word\n",
    "indices directly, making the process much more efficient.\n",
    "\n",
    "Note the parameter `padding_idx`: this indicates that zeros in the input sequences are\n",
    "used for padding (verify that this is the case!). Internally, this is used by the RNN to\n",
    "ignore padding tokens, preventing them from contributing to the gradients (read more in\n",
    "the user guide, [link](https://pytorch.org/docs/stable/generated/torch.nn.Embedding.html/)!)\n",
    "\n",
    "We also make use of a `nn.Module` container, where we will define our model. This\n",
    "gives us more flexibility in the flow of the network. Here we add the model blocks\n",
    "as class attributes and define a forward pass, which is enough for the autograd engine.\n",
    "\n",
    "The shapes and dimensions of tensors can now be a bit tricky. It helps if you print\n",
    "the resulting shape of each transformation to console and investigate what happened!"
   ]
  },
  {
   "cell_type": "code",
   "execution_count": 13,
   "id": "c6357efa",
   "metadata": {
    "execution": {
     "iopub.execute_input": "2022-01-25T17:31:25.301699Z",
     "iopub.status.busy": "2022-01-25T17:31:25.301115Z",
     "iopub.status.idle": "2022-01-25T17:31:25.302922Z",
     "shell.execute_reply": "2022-01-25T17:31:25.303394Z"
    },
    "pycharm": {
     "name": "#%%\n"
    }
   },
   "outputs": [],
   "source": [
    "class LSTMModel(nn.Module):\n",
    "    def __init__(self):\n",
    "        # A class that inherits from nn.Module needs to call the constructor from the\n",
    "        # parent class\n",
    "        super().__init__()\n",
    "\n",
    "        self.embedding = nn.Embedding(\n",
    "            num_embeddings=10001,\n",
    "            embedding_dim=64,\n",
    "            padding_idx=0\n",
    "        )\n",
    "        self.lstm = nn.LSTM(\n",
    "            input_size=64,\n",
    "            hidden_size=32,\n",
    "            num_layers=2,\n",
    "            batch_first=True\n",
    "        )\n",
    "\n",
    "        self.fc = nn.Linear(in_features=32, out_features=1)\n",
    "        self.sigmoid = nn.Sigmoid()\n",
    "\n",
    "    def forward(self, x: Tensor) -> Tensor:\n",
    "        # The output needs to be reshaped or otherwise we have a dimension too much.\n",
    "        x = self.embedding(x).squeeze(2)\n",
    "\n",
    "        # The LSTM module gives a variety of outputs. Please refer to the official\n",
    "        # docs for a detailed description. Here `hidden` contains the final hidden states\n",
    "        # from the last layer for every sample in the batch.\n",
    "        _, (hidden, _) = self.lstm(x)\n",
    "\n",
    "        # We need to extract the last hidden state\n",
    "        y_score = self.fc(hidden[-1])\n",
    "        y_hat = self.sigmoid(y_score).squeeze(-1)\n",
    "\n",
    "        return y_hat"
   ]
  },
  {
   "cell_type": "markdown",
   "id": "5c53b3c1",
   "metadata": {
    "pycharm": {
     "name": "#%% md\n"
    }
   },
   "source": [
    "In the next step, we once again need our beloved training loop."
   ]
  },
  {
   "cell_type": "code",
   "execution_count": 14,
   "id": "67ce4f17",
   "metadata": {
    "execution": {
     "iopub.execute_input": "2022-01-25T17:31:25.319727Z",
     "iopub.status.busy": "2022-01-25T17:31:25.318709Z",
     "iopub.status.idle": "2022-01-25T17:31:25.321479Z",
     "shell.execute_reply": "2022-01-25T17:31:25.320962Z"
    },
    "pycharm": {
     "name": "#%%\n"
    }
   },
   "outputs": [],
   "source": [
    "\n",
    "def train(\n",
    "        model: nn.Module,\n",
    "        loss: nn.Module,\n",
    "        optimizer: Optimizer,\n",
    "        train_dataset: Dataset,\n",
    "        test_dataset: Dataset,\n",
    "        epochs: int,\n",
    "        batch_size: int\n",
    ") -> Dict:\n",
    "    metrics: Dict = {\n",
    "        'train_loss': [],\n",
    "        'train_acc': [],\n",
    "        'test_loss': [],\n",
    "        'test_acc': [],\n",
    "    }\n",
    "\n",
    "    num_train_batches = ceil(len(train_dataset) / batch_size)\n",
    "    num_test_batches = ceil(len(test_dataset) / batch_size)\n",
    "\n",
    "    train_loader = DataLoader(train_dataset, batch_size, shuffle=True)\n",
    "    test_loader = DataLoader(test_dataset, batch_size)\n",
    "\n",
    "    for ep in range(1, epochs + 1):\n",
    "        total_loss = 0\n",
    "        num_correct = 0\n",
    "\n",
    "        ################################################################################\n",
    "        # TRAINING LOOP\n",
    "        ################################################################################\n",
    "\n",
    "        for batch_idx, (x, y) in enumerate(train_loader):\n",
    "\n",
    "            y_hat = model(x)\n",
    "            batch_loss = loss(y_hat, y)\n",
    "\n",
    "            optimizer.zero_grad()\n",
    "            batch_loss.backward()\n",
    "            optimizer.step()\n",
    "\n",
    "            if batch_idx % 10 == 0:\n",
    "                print('TRAINING BATCH:\\t({:5} / {:5})\\tLOSS:\\t{:.3f}'\n",
    "                      .format(batch_idx, num_train_batches, float(batch_loss)),\n",
    "                      end='\\r')\n",
    "\n",
    "            total_loss += float(batch_loss)\n",
    "            num_correct += int(torch.sum(torch.where(y_hat > 0.5, 1, 0) == y))\n",
    "\n",
    "        ep_train_loss = total_loss / len(train_dataset)\n",
    "        ep_train_acc = num_correct / len(train_dataset)\n",
    "\n",
    "        total_loss = 0\n",
    "        num_correct = 0\n",
    "\n",
    "        ################################################################################\n",
    "        # TEST LOOP\n",
    "        ################################################################################\n",
    "\n",
    "        for batch_idx, (x, y) in enumerate(test_loader):\n",
    "\n",
    "            with torch.no_grad():\n",
    "                y_hat = model(x)\n",
    "                batch_loss = loss(y_hat, y)\n",
    "\n",
    "            if batch_idx % 50 == 0:\n",
    "                print('TEST BATCH:\\t({:5} / {:5})\\tLOSS:\\t{:.3f}'\n",
    "                      .format(batch_idx, num_test_batches, float(batch_loss)), end='\\r')\n",
    "\n",
    "            total_loss += float(batch_loss)\n",
    "            num_correct += int(torch.sum(torch.where(y_hat > 0.5, 1, 0) == y))\n",
    "\n",
    "        ep_test_loss = total_loss / len(test_dataset)\n",
    "        ep_test_acc = num_correct / len(test_dataset)\n",
    "\n",
    "        metrics['train_loss'].append(ep_train_loss)\n",
    "        metrics['train_acc'].append(ep_train_acc)\n",
    "        metrics['test_loss'].append(ep_test_loss)\n",
    "        metrics['test_acc'].append(ep_test_acc)\n",
    "\n",
    "        print('EPOCH:\\t{:5}\\tTRAIN LOSS:\\t{:.3f}\\tTRAIN ACCURACY:\\t{:.3f}\\tTEST LOSS:\\t'\n",
    "              '{:.3f}\\tTEST ACCURACY:\\t{:.3f}'\n",
    "              .format(ep, ep_train_loss, ep_train_acc, ep_test_loss, ep_test_acc))\n",
    "    return metrics"
   ]
  },
  {
   "cell_type": "markdown",
   "id": "fa6b7785",
   "metadata": {
    "pycharm": {
     "name": "#%% md\n"
    }
   },
   "source": [
    "We declare model, optimizer, datasets, loss, epochs, batch size and then start training!"
   ]
  },
  {
   "cell_type": "code",
   "execution_count": 15,
   "id": "0e7236fb",
   "metadata": {
    "execution": {
     "iopub.execute_input": "2022-01-25T17:31:25.327538Z",
     "iopub.status.busy": "2022-01-25T17:31:25.326963Z",
     "iopub.status.idle": "2022-01-25T17:35:56.486244Z",
     "shell.execute_reply": "2022-01-25T17:35:56.486774Z"
    },
    "pycharm": {
     "name": "#%%\n"
    }
   },
   "outputs": [
    {
     "name": "stdout",
     "output_type": "stream",
     "text": [
      "EPOCH:\t    1\tTRAIN LOSS:\t0.022\tTRAIN ACCURACY:\t0.506\tTEST LOSS:\t0.022\tTEST ACCURACY:\t0.500\n",
      "EPOCH:\t    2\tTRAIN LOSS:\t0.022\tTRAIN ACCURACY:\t0.512\tTEST LOSS:\t0.022\tTEST ACCURACY:\t0.521\n",
      "EPOCH:\t    3\tTRAIN LOSS:\t0.021\tTRAIN ACCURACY:\t0.547\tTEST LOSS:\t0.022\tTEST ACCURACY:\t0.517\n",
      "EPOCH:\t    4\tTRAIN LOSS:\t0.017\tTRAIN ACCURACY:\t0.713\tTEST LOSS:\t0.013\tTEST ACCURACY:\t0.825\n",
      "EPOCH:\t    5\tTRAIN LOSS:\t0.009\tTRAIN ACCURACY:\t0.886\tTEST LOSS:\t0.012\tTEST ACCURACY:\t0.840\n",
      "EPOCH:\t    6\tTRAIN LOSS:\t0.005\tTRAIN ACCURACY:\t0.940\tTEST LOSS:\t0.012\tTEST ACCURACY:\t0.853\n",
      "EPOCH:\t    7\tTRAIN LOSS:\t0.003\tTRAIN ACCURACY:\t0.966\tTEST LOSS:\t0.014\tTEST ACCURACY:\t0.847\n",
      "EPOCH:\t    8\tTRAIN LOSS:\t0.003\tTRAIN ACCURACY:\t0.975\tTEST LOSS:\t0.015\tTEST ACCURACY:\t0.845\n",
      "EPOCH:\t    9\tTRAIN LOSS:\t0.002\tTRAIN ACCURACY:\t0.981\tTEST LOSS:\t0.018\tTEST ACCURACY:\t0.844\n",
      "EPOCH:\t   10\tTRAIN LOSS:\t0.001\tTRAIN ACCURACY:\t0.988\tTEST LOSS:\t0.019\tTEST ACCURACY:\t0.842\n"
     ]
    }
   ],
   "source": [
    "epochs = 10\n",
    "batch_size = 32\n",
    "\n",
    "model = (\n",
    "    LSTMModel().to(device)\n",
    ")\n",
    "\n",
    "optimizer = (\n",
    "    Adam(model.parameters(), lr=5e-3)\n",
    ")\n",
    "\n",
    "loss = (\n",
    "    nn.BCELoss()\n",
    ")\n",
    "\n",
    "train_dataset = (\n",
    "    IMDBDataset(train_x, train_y)\n",
    ")\n",
    "\n",
    "test_dataset = (\n",
    "    IMDBDataset(test_x, test_y)\n",
    ")\n",
    "\n",
    "metrics = train(model, loss, optimizer, train_dataset, test_dataset, epochs, batch_size)"
   ]
  },
  {
   "cell_type": "code",
   "execution_count": 16,
   "id": "d6e2162b",
   "metadata": {
    "execution": {
     "iopub.execute_input": "2022-01-25T17:35:56.514943Z",
     "iopub.status.busy": "2022-01-25T17:35:56.494976Z",
     "iopub.status.idle": "2022-01-25T17:35:57.172355Z",
     "shell.execute_reply": "2022-01-25T17:35:57.172844Z"
    },
    "pycharm": {
     "name": "#%%\n"
    }
   },
   "outputs": [
    {
     "data": {
      "application/pdf": "[encoded data removed]",
      "image/png": "[encoded data removed]",
      "text/plain": [
       "<Figure size 504x144 with 2 Axes>"
      ]
     },
     "metadata": {
      "needs_background": "light"
     },
     "output_type": "display_data"
    }
   ],
   "source": [
    "\n",
    "def get_training_progress_plot(\n",
    "        train_losses: List[float],\n",
    "        train_accs: List[float],\n",
    "        val_losses: List[float],\n",
    "        val_accs: List[float],\n",
    ") -> None:\n",
    "    fig, (ax1, ax2) = plt.subplots(1, 2, figsize=(7, 2))\n",
    "\n",
    "    ax1.set_title('Loss')\n",
    "    ax1.plot(train_losses, label='Train Loss')\n",
    "    ax1.plot(val_losses, label='Test Loss')\n",
    "    ax1.legend()\n",
    "\n",
    "    ax2.set_title('Accuracy')\n",
    "    ax2.plot(train_accs, label='Train Accuracy')\n",
    "    ax2.plot(val_accs, label='Test Accuracy')\n",
    "    ax2.set_ylim(0, 1)\n",
    "    ax2.legend()\n",
    "\n",
    "\n",
    "get_training_progress_plot(\n",
    "    metrics['train_loss'],\n",
    "    metrics['train_acc'],\n",
    "    metrics['test_loss'],\n",
    "    metrics['test_acc'],\n",
    ")"
   ]
  },
  {
   "cell_type": "markdown",
   "id": "269035d4",
   "metadata": {},
   "source": [
    "The model seems to be learning more easily than the simple baseline we created time ago,\n",
    "which had an accuracy of 85-88% on the test data.\n",
    "Let it train for longer and tune the\n",
    "architecture above to reach as high accuracy as possible! (note that evaluating on the\n",
    "same data that you used for early stopping is cheating).\n",
    "\n",
    "\n",
    "## Exercise 2\n",
    "\n",
    "In this exercise, we are going to build a model that is able to sum two numbers, each given as a sequence\n",
    "of images of handwritten digits. The network will first use a convolutional encoder to transform each\n",
    "digit into a feature vector. These feature vectors will then be processed by a LSTM that will produce as\n",
    "output each digit of the sum.\n",
    "\n",
    "### Dataset\n",
    "We are now going to create a synthetic dataset using images from MNIST.\n",
    "\n",
    "First, we define some auxiliary functions.\n",
    "We need a function that converts an integer to a padded tensor."
   ]
  },
  {
   "cell_type": "code",
   "execution_count": 17,
   "id": "41d8a4e7",
   "metadata": {
    "execution": {
     "iopub.execute_input": "2022-01-25T17:35:57.178075Z",
     "iopub.status.busy": "2022-01-25T17:35:57.177510Z",
     "iopub.status.idle": "2022-01-25T17:35:57.179915Z",
     "shell.execute_reply": "2022-01-25T17:35:57.179410Z"
    },
    "pycharm": {
     "name": "#%%\n"
    }
   },
   "outputs": [],
   "source": [
    "\n",
    "def convert_int_to_vector(num: int, length: int) -> Tensor:\n",
    "    \"\"\"\n",
    "    Take an integer and convert it to a vector.\n",
    "\n",
    "    Example: 123 with a length of 3 returns a tensor with [1, 2, 3].\n",
    "    5 with a length of 3 returns [0, 0, 5]\n",
    "    \"\"\"\n",
    "    num_str = str(num).zfill(length)\n",
    "    return torch.tensor([int(n) for n in num_str])"
   ]
  },
  {
   "cell_type": "markdown",
   "id": "0880bda9",
   "metadata": {
    "pycharm": {
     "name": "#%% md\n"
    }
   },
   "source": [
    "Then, we need a function that generates our training labels.\n",
    "The result of the function should be a dictionary that contains 3 tensors (first numbers, second numbers, sum of first + second) of shape `(num_samples, max_length)`.\n",
    "We need the summands for drawing matching images later, while the latter is our actual label."
   ]
  },
  {
   "cell_type": "code",
   "execution_count": 18,
   "id": "c0e3f861",
   "metadata": {
    "execution": {
     "iopub.execute_input": "2022-01-25T17:35:57.187477Z",
     "iopub.status.busy": "2022-01-25T17:35:57.186891Z",
     "iopub.status.idle": "2022-01-25T17:35:57.188765Z",
     "shell.execute_reply": "2022-01-25T17:35:57.189277Z"
    },
    "pycharm": {
     "name": "#%%\n"
    }
   },
   "outputs": [],
   "source": [
    "\n",
    "def generate_labels(num_samples: int, max_length: int) -> Dict:\n",
    "    \"\"\"\n",
    "    Generate random numbers, whose sum does not exceed maximum length.\n",
    "\n",
    "    We will pad numbers that are less than max_length with zeros.\n",
    "    \"\"\"\n",
    "\n",
    "    num_1s = []\n",
    "    num_2s = []\n",
    "    sums = []\n",
    "\n",
    "    for _ in range(num_samples):\n",
    "\n",
    "        # Ensure the sum always has at most max_len digits\n",
    "        num_1 = torch.randint(10**max_length // 2 - 1, (1,))\n",
    "        num_2 = torch.randint(10**max_length // 2 - 1, (1,))\n",
    "\n",
    "        num_1s.append(convert_int_to_vector(int(num_1), max_length))\n",
    "        num_2s.append(convert_int_to_vector(int(num_2), max_length))\n",
    "\n",
    "        sums.append(convert_int_to_vector(int(num_1 + num_2), max_length))\n",
    "\n",
    "    return {\n",
    "        'num_1': torch.stack(num_1s),\n",
    "        'num_2': torch.stack(num_2s),\n",
    "        'sum': torch.stack(sums)\n",
    "    }"
   ]
  },
  {
   "cell_type": "markdown",
   "id": "99fc5670",
   "metadata": {
    "pycharm": {
     "name": "#%% md\n"
    }
   },
   "source": [
    "For our training, we need our `Dataset` object. Here, we will also draw the images to create our input tensors. One image is of shape `(1 x 28 x 28)`.\n",
    "Thus, a constructed input tensor is of shape `(max_length x 1 x 28 x 28)`"
   ]
  },
  {
   "cell_type": "code",
   "execution_count": 19,
   "id": "5c85c0aa",
   "metadata": {
    "execution": {
     "iopub.execute_input": "2022-01-25T17:35:57.203618Z",
     "iopub.status.busy": "2022-01-25T17:35:57.203012Z",
     "iopub.status.idle": "2022-01-25T17:35:57.205438Z",
     "shell.execute_reply": "2022-01-25T17:35:57.204948Z"
    },
    "pycharm": {
     "name": "#%%\n"
    }
   },
   "outputs": [],
   "source": [
    "\n",
    "class NumberMNIST(Dataset):\n",
    "    def __init__(\n",
    "            self,\n",
    "            max_length: int = 3,\n",
    "            train: bool = True\n",
    "    ) -> None:\n",
    "        mnist_base = MNIST('.data', train=train, download=True)\n",
    "        mnist_base.data = mnist_base.data.float() / 255\n",
    "\n",
    "        self.max_length = max_length\n",
    "        # We choose 20k samples for training and 5k for testing.\n",
    "        self.num_samples = 20000 if train else 5000\n",
    "        self.digit_idxs = NumberMNIST._generate_digit_groups(mnist_base.targets)\n",
    "\n",
    "        self.labels = generate_labels(self.num_samples, self.max_length)\n",
    "\n",
    "        self.num_1s = torch.zeros(self.num_samples, self.max_length, 1, 28, 28)\n",
    "        self.num_2s = torch.zeros(self.num_samples, self.max_length, 1, 28, 28)\n",
    "\n",
    "        for i in range(self.num_samples):\n",
    "\n",
    "            imgs = []\n",
    "            for num_1_digit in self.labels['num_1'][i]:\n",
    "                # Get corresponding index group\n",
    "                digit_idxs = self.digit_idxs[int(num_1_digit)]\n",
    "                # Sample a random index from the digit class\n",
    "                rand_idx = digit_idxs[torch.randint(len(digit_idxs), (1, ))]\n",
    "                # Obtain image for the sampled index\n",
    "                imgs.append(mnist_base.data[rand_idx])\n",
    "            # Add images to main tensor.\n",
    "            self.num_1s[i] = torch.stack(imgs)\n",
    "\n",
    "            imgs = []\n",
    "            for num_2_digit in self.labels['num_2'][i]:\n",
    "                digit_idxs = self.digit_idxs[int(num_2_digit)]\n",
    "                rand_idx = digit_idxs[torch.randint(len(digit_idxs), (1, ))]\n",
    "                imgs.append(mnist_base.data[rand_idx])\n",
    "            self.num_2s[i] = torch.stack(imgs)\n",
    "\n",
    "\n",
    "\n",
    "    @staticmethod\n",
    "    def _generate_digit_groups(targets: Tensor) -> Dict:\n",
    "        \"\"\"Separates the dataset in groups based on the label. Returns a Dict with indices.\"\"\"\n",
    "        res = {}\n",
    "        for i in range(10):\n",
    "            idxs = (targets == i).nonzero().squeeze(-1)\n",
    "            res.update({i: idxs})\n",
    "        return res\n",
    "\n",
    "    @property\n",
    "    def shape(self) -> Tuple:\n",
    "        return self.data.shape\n",
    "\n",
    "    def __len__(self) -> int:\n",
    "        return len(self.num_1s)\n",
    "\n",
    "    def __getitem__(self, idx: int) -> Dict:\n",
    "        return {\n",
    "            'num_1': self.num_1s[idx],\n",
    "            'num_2': self.num_2s[idx],\n",
    "            'label': self.labels['sum'][idx],\n",
    "        }"
   ]
  },
  {
   "cell_type": "markdown",
   "id": "ce75385e",
   "metadata": {
    "pycharm": {
     "name": "#%% md\n"
    }
   },
   "source": [
    "Let's initialize our datasets and see if everything works as expected."
   ]
  },
  {
   "cell_type": "code",
   "execution_count": 20,
   "id": "ccf878fd",
   "metadata": {
    "execution": {
     "iopub.execute_input": "2022-01-25T17:35:57.209693Z",
     "iopub.status.busy": "2022-01-25T17:35:57.209075Z",
     "iopub.status.idle": "2022-01-25T17:36:06.990701Z",
     "shell.execute_reply": "2022-01-25T17:36:06.991189Z"
    },
    "pycharm": {
     "name": "#%%\n"
    }
   },
   "outputs": [],
   "source": [
    "train_dataset = NumberMNIST(train=True, max_length=3)\n",
    "test_dataset = NumberMNIST(train=False, max_length=3)"
   ]
  },
  {
   "cell_type": "code",
   "execution_count": 21,
   "id": "db2f5b81",
   "metadata": {
    "execution": {
     "iopub.execute_input": "2022-01-25T17:36:07.015522Z",
     "iopub.status.busy": "2022-01-25T17:36:06.997567Z",
     "iopub.status.idle": "2022-01-25T17:36:07.261504Z",
     "shell.execute_reply": "2022-01-25T17:36:07.260945Z"
    },
    "pycharm": {
     "name": "#%%\n"
    }
   },
   "outputs": [
    {
     "name": "stdout",
     "output_type": "stream",
     "text": [
      "Sum: [7, 9, 3]\n"
     ]
    },
    {
     "data": {
      "application/pdf": "[encoded data removed]",
      "image/png": "[encoded data removed]",
      "text/plain": [
       "<Figure size 432x288 with 1 Axes>"
      ]
     },
     "metadata": {
      "needs_background": "light"
     },
     "output_type": "display_data"
    }
   ],
   "source": [
    "def plot_digits(num_1: Tensor, num_2: Tensor) -> None:\n",
    "    grid_img = make_grid(torch.cat([num_1, num_2]), nrow=3)\n",
    "    plt.imshow(grid_img.permute(1, 2, 0))\n",
    "    plt.show()\n",
    "\n",
    "idx = int(torch.randint(len(test_dataset), (1,)))\n",
    "sample = test_dataset[idx]\n",
    "\n",
    "print('Sum:', [int(i) for i in sample['label']])\n",
    "plot_digits(sample['num_1'], sample['num_2'])"
   ]
  },
  {
   "cell_type": "markdown",
   "id": "7333aa3e",
   "metadata": {
    "pycharm": {
     "name": "#%% md\n"
    }
   },
   "source": [
    "### The model\n",
    "\n",
    "Let's now see how to create the model.\n",
    "\n",
    "This network will have two inputs, one for each number. The numbers have three digits, each of which is an image of size 1 x 28 x 28."
   ]
  },
  {
   "cell_type": "code",
   "execution_count": 22,
   "id": "33f66909",
   "metadata": {
    "execution": {
     "iopub.execute_input": "2022-01-25T17:36:07.275806Z",
     "iopub.status.busy": "2022-01-25T17:36:07.275218Z",
     "iopub.status.idle": "2022-01-25T17:36:07.278928Z",
     "shell.execute_reply": "2022-01-25T17:36:07.277773Z"
    },
    "pycharm": {
     "name": "#%%\n"
    }
   },
   "outputs": [],
   "source": [
    "class AdditionModel(nn.Module):\n",
    "    def __init__(self):\n",
    "        super().__init__()\n",
    "        self.latent_dim = 128\n",
    "\n",
    "        # The network will use the same convolutional encoder for all digits in both numbers.\n",
    "        # Let us first define this encoder as its own submodule, a normal CNN:\n",
    "\n",
    "        self.digit_encoder = nn.Sequential(\n",
    "            nn.Conv2d(1, 32, (3, 3)),\n",
    "            nn.ReLU(),\n",
    "            nn.MaxPool2d((2, 2)),\n",
    "            nn.Conv2d(32, 64, (3, 3)),\n",
    "            nn.ReLU(),\n",
    "            nn.MaxPool2d((2, 2)),\n",
    "            nn.Conv2d(64, self.latent_dim, (3, 3)),\n",
    "            nn.ReLU(),\n",
    "            nn.MaxPool2d((2, 2)),\n",
    "            nn.AdaptiveAvgPool2d((1, 1))\n",
    "        )\n",
    "\n",
    "        # Our second model in this szenario will be a bidrectional LSTM.\n",
    "        # The input for this model are the concatenated latent vectors that we obtained from\n",
    "        # the digit encoder.\n",
    "        # For flexibility, we do not use a sequential but have the final layers as single attributes in this module class.\n",
    "\n",
    "        # Let's also apply a bit of dropout to prevent overfitting too much.\n",
    "        self.dropout = (\n",
    "            nn.Dropout(0.3)\n",
    "        )\n",
    "\n",
    "        self.lstm = (\n",
    "            nn.LSTM(\n",
    "                input_size=self.latent_dim * 2,\n",
    "                hidden_size=64,\n",
    "                batch_first=True,\n",
    "                bidirectional=True\n",
    "            )\n",
    "        )\n",
    "\n",
    "        # Finally, we add a fully connected layer as output.\n",
    "        # Note that the input size of the linear layer should be twice the hidden size\n",
    "        # of the LSTM (bidirectional).\n",
    "        self.fc = (\n",
    "            nn.Linear(128, 10)\n",
    "        )\n",
    "\n",
    "\n",
    "    def forward(self, num_1: Tensor, num_2: Tensor) -> Tensor:\n",
    "        # Note: num_1 and num_2 are of shape (batch_size x max_length x 1 x 28 x 28)\n",
    "        batch_size = num_1.shape[0]\n",
    "        max_length = num_1.shape[1]\n",
    "\n",
    "        enc_1 = torch.zeros(batch_size, max_length, self.latent_dim, device=num_1.device)\n",
    "        enc_2 = torch.zeros(batch_size, max_length, self.latent_dim, device=num_1.device)\n",
    "        for i in range(max_length):\n",
    "            enc_1[:, i] = self.digit_encoder(num_1[:, i]).view(batch_size, -1)\n",
    "            enc_2[:, i] = self.digit_encoder(num_2[:, i]).view(batch_size, -1)\n",
    "\n",
    "        # After we apply the CNN to both numbers, we need to \"merge\" the two sequence of vectors.\n",
    "        # There are several options here, here we choose to concatenate the two tensor in each time-step\n",
    "        # to produce a single tensor of shape (batch_size, max_len, latent_dim * 2).\n",
    "        enc_total = (\n",
    "            torch.cat([enc_1, enc_2], dim=2)\n",
    "        )\n",
    "\n",
    "        # Now, we pass the total encoded tensor through the dropout, lstm and output layer.\n",
    "        enc_total = self.dropout(enc_total)\n",
    "\n",
    "        # We obtain all hidden states from each timestep resulting in a tensor of shape (batch_size, max_length, lstm_hidden_dim)\n",
    "        out, _ = self.lstm(enc_total)\n",
    "        # Due to broadcasting, we can feed this tensor directly to the fully connected layer.\n",
    "        out = self.fc(out)\n",
    "        # Our loss function does accept a tensor of shape (batch_size, num_classes, max_length)\n",
    "        # So we reshape before returning the network output.\n",
    "        return out.permute(0, 2, 1)"
   ]
  },
  {
   "cell_type": "markdown",
   "id": "780643b9",
   "metadata": {
    "pycharm": {
     "name": "#%% md\n"
    }
   },
   "source": [
    "We can mainly reuse the training loop from the exercise before, but we need to change the computation of the accuracy and dataloading.\n",
    "Let's initialize our modules and start training!"
   ]
  },
  {
   "cell_type": "code",
   "execution_count": 23,
   "id": "70a614ec",
   "metadata": {
    "execution": {
     "iopub.execute_input": "2022-01-25T17:36:07.297281Z",
     "iopub.status.busy": "2022-01-25T17:36:07.296679Z",
     "iopub.status.idle": "2022-01-25T17:36:07.300186Z",
     "shell.execute_reply": "2022-01-25T17:36:07.299330Z"
    },
    "pycharm": {
     "name": "#%%\n"
    }
   },
   "outputs": [],
   "source": [
    "device = (\n",
    "    torch.device('cuda' if torch.cuda.is_available() else 'cpu')\n",
    ")\n",
    "\n",
    "def train(\n",
    "        model: AdditionModel,\n",
    "        loss: nn.Module,\n",
    "        optimizer: Optimizer,\n",
    "        train_dataset: Dataset,\n",
    "        test_dataset: Dataset,\n",
    "        epochs: int,\n",
    "        batch_size: int\n",
    ") -> Dict:\n",
    "    metrics: Dict = {\n",
    "        'train_loss': [],\n",
    "        'train_acc': [],\n",
    "        'test_loss': [],\n",
    "        'test_acc': [],\n",
    "    }\n",
    "\n",
    "    num_train_batches = ceil(len(train_dataset) / batch_size)\n",
    "    num_test_batches = ceil(len(test_dataset) / batch_size)\n",
    "\n",
    "    train_loader = DataLoader(train_dataset, batch_size, shuffle=True)\n",
    "    test_loader = DataLoader(test_dataset, batch_size)\n",
    "\n",
    "    for ep in range(1, epochs + 1):\n",
    "        total_loss = 0\n",
    "        num_correct = 0\n",
    "\n",
    "        ################################################################################\n",
    "        # TRAINING LOOP\n",
    "        ################################################################################\n",
    "\n",
    "        for batch_idx, sample in enumerate(train_loader):\n",
    "\n",
    "            num_1 = sample['num_1'].to(device)\n",
    "            num_2 = sample['num_2'].to(device)\n",
    "            y = sample['label'].to(device)\n",
    "\n",
    "\n",
    "            y_hat = model(num_1, num_2)\n",
    "            batch_loss = loss(y_hat, y)\n",
    "\n",
    "            optimizer.zero_grad()\n",
    "            batch_loss.backward()\n",
    "            optimizer.step()\n",
    "\n",
    "            if batch_idx % 10 == 0:\n",
    "                print('TRAINING BATCH:\\t({:5} / {:5})\\tLOSS:\\t{:.3f}'\n",
    "                      .format(batch_idx, num_train_batches, float(batch_loss)),\n",
    "                      end='\\r')\n",
    "\n",
    "            total_loss += float(batch_loss)\n",
    "\n",
    "            num_correct += int(torch.sum(torch.all(torch.eq(torch.argmax(y_hat, dim=1), y), dim=1)))\n",
    "\n",
    "        ep_train_loss = total_loss / len(train_dataset)\n",
    "        ep_train_acc = num_correct / len(train_dataset)\n",
    "\n",
    "        total_loss = 0\n",
    "        num_correct = 0\n",
    "\n",
    "        ################################################################################\n",
    "        # TEST LOOP\n",
    "        ################################################################################\n",
    "\n",
    "        for batch_idx, sample in enumerate(test_loader):\n",
    "            num_1 = sample['num_1'].to(device)\n",
    "            num_2 = sample['num_2'].to(device)\n",
    "            y = sample['label'].to(device)\n",
    "\n",
    "            with torch.no_grad():\n",
    "                y_hat = model(num_1, num_2)\n",
    "                batch_loss = loss(y_hat, y)\n",
    "\n",
    "            if batch_idx % 50 == 0:\n",
    "                print('TEST BATCH:\\t({:5} / {:5})\\tLOSS:\\t{:.3f}'\n",
    "                      .format(batch_idx, num_test_batches, float(batch_loss)), end='\\r')\n",
    "\n",
    "            total_loss += float(batch_loss)\n",
    "\n",
    "            num_correct += int(torch.sum(torch.all(torch.eq(torch.argmax(y_hat, dim=1), y), dim=1)))\n",
    "\n",
    "        ep_test_loss = total_loss / len(test_dataset)\n",
    "        ep_test_acc = num_correct / len(test_dataset)\n",
    "\n",
    "        metrics['train_loss'].append(ep_train_loss)\n",
    "        metrics['train_acc'].append(ep_train_acc)\n",
    "        metrics['test_loss'].append(ep_test_loss)\n",
    "        metrics['test_acc'].append(ep_test_acc)\n",
    "\n",
    "        print('EPOCH:\\t{:5}\\tTRAIN LOSS:\\t{:.3f}\\tTRAIN ACCURACY:\\t{:.3f}\\tTEST LOSS:\\t'\n",
    "              '{:.3f}\\tTEST ACCURACY:\\t{:.3f}'\n",
    "              .format(ep, ep_train_loss, ep_train_acc, ep_test_loss, ep_test_acc))\n",
    "    return metrics"
   ]
  },
  {
   "cell_type": "markdown",
   "id": "d8cbf853",
   "metadata": {
    "pycharm": {
     "name": "#%% md\n"
    }
   },
   "source": [
    "Let's initialize our modules and start training!\n"
   ]
  },
  {
   "cell_type": "code",
   "execution_count": 24,
   "id": "fd86ba58",
   "metadata": {
    "execution": {
     "iopub.execute_input": "2022-01-25T17:36:07.306970Z",
     "iopub.status.busy": "2022-01-25T17:36:07.306388Z",
     "iopub.status.idle": "2022-01-25T17:40:38.123495Z",
     "shell.execute_reply": "2022-01-25T17:40:38.122934Z"
    },
    "pycharm": {
     "name": "#%%\n"
    }
   },
   "outputs": [
    {
     "name": "stdout",
     "output_type": "stream",
     "text": [
      "EPOCH:\t    1\tTRAIN LOSS:\t0.060\tTRAIN ACCURACY:\t0.027\tTEST LOSS:\t0.043\tTEST ACCURACY:\t0.104\n",
      "EPOCH:\t    2\tTRAIN LOSS:\t0.033\tTRAIN ACCURACY:\t0.257\tTEST LOSS:\t0.024\tTEST ACCURACY:\t0.429\n",
      "EPOCH:\t    3\tTRAIN LOSS:\t0.019\tTRAIN ACCURACY:\t0.540\tTEST LOSS:\t0.015\tTEST ACCURACY:\t0.647\n",
      "EPOCH:\t    4\tTRAIN LOSS:\t0.014\tTRAIN ACCURACY:\t0.684\tTEST LOSS:\t0.012\tTEST ACCURACY:\t0.733\n",
      "EPOCH:\t    5\tTRAIN LOSS:\t0.011\tTRAIN ACCURACY:\t0.759\tTEST LOSS:\t0.011\tTEST ACCURACY:\t0.755\n",
      "EPOCH:\t    6\tTRAIN LOSS:\t0.009\tTRAIN ACCURACY:\t0.799\tTEST LOSS:\t0.009\tTEST ACCURACY:\t0.801\n",
      "EPOCH:\t    7\tTRAIN LOSS:\t0.007\tTRAIN ACCURACY:\t0.832\tTEST LOSS:\t0.008\tTEST ACCURACY:\t0.814\n",
      "EPOCH:\t    8\tTRAIN LOSS:\t0.006\tTRAIN ACCURACY:\t0.853\tTEST LOSS:\t0.008\tTEST ACCURACY:\t0.826\n",
      "EPOCH:\t    9\tTRAIN LOSS:\t0.006\tTRAIN ACCURACY:\t0.871\tTEST LOSS:\t0.007\tTEST ACCURACY:\t0.837\n",
      "EPOCH:\t   10\tTRAIN LOSS:\t0.005\tTRAIN ACCURACY:\t0.880\tTEST LOSS:\t0.007\tTEST ACCURACY:\t0.841\n",
      "EPOCH:\t   11\tTRAIN LOSS:\t0.005\tTRAIN ACCURACY:\t0.888\tTEST LOSS:\t0.007\tTEST ACCURACY:\t0.843\n",
      "EPOCH:\t   12\tTRAIN LOSS:\t0.004\tTRAIN ACCURACY:\t0.894\tTEST LOSS:\t0.007\tTEST ACCURACY:\t0.845\n",
      "EPOCH:\t   13\tTRAIN LOSS:\t0.004\tTRAIN ACCURACY:\t0.904\tTEST LOSS:\t0.007\tTEST ACCURACY:\t0.856\n",
      "EPOCH:\t   14\tTRAIN LOSS:\t0.004\tTRAIN ACCURACY:\t0.910\tTEST LOSS:\t0.007\tTEST ACCURACY:\t0.859\n",
      "EPOCH:\t   15\tTRAIN LOSS:\t0.004\tTRAIN ACCURACY:\t0.916\tTEST LOSS:\t0.007\tTEST ACCURACY:\t0.850\n",
      "EPOCH:\t   16\tTRAIN LOSS:\t0.003\tTRAIN ACCURACY:\t0.917\tTEST LOSS:\t0.007\tTEST ACCURACY:\t0.868\n",
      "EPOCH:\t   17\tTRAIN LOSS:\t0.003\tTRAIN ACCURACY:\t0.922\tTEST LOSS:\t0.006\tTEST ACCURACY:\t0.871\n",
      "EPOCH:\t   18\tTRAIN LOSS:\t0.003\tTRAIN ACCURACY:\t0.928\tTEST LOSS:\t0.007\tTEST ACCURACY:\t0.859\n",
      "EPOCH:\t   19\tTRAIN LOSS:\t0.003\tTRAIN ACCURACY:\t0.930\tTEST LOSS:\t0.007\tTEST ACCURACY:\t0.859\n",
      "EPOCH:\t   20\tTRAIN LOSS:\t0.003\tTRAIN ACCURACY:\t0.931\tTEST LOSS:\t0.007\tTEST ACCURACY:\t0.869\n"
     ]
    }
   ],
   "source": [
    "epochs = 20\n",
    "batch_size = 32\n",
    "\n",
    "model = (\n",
    "    AdditionModel().to(device)\n",
    ")\n",
    "\n",
    "optimizer = (\n",
    "    Adam(model.parameters())\n",
    ")\n",
    "\n",
    "loss = (\n",
    "    nn.CrossEntropyLoss()\n",
    ")\n",
    "\n",
    "metrics = train(model, loss, optimizer, train_dataset, test_dataset, epochs, batch_size)"
   ]
  },
  {
   "cell_type": "code",
   "execution_count": 25,
   "id": "6d4a31c8",
   "metadata": {
    "execution": {
     "iopub.execute_input": "2022-01-25T17:40:38.141728Z",
     "iopub.status.busy": "2022-01-25T17:40:38.140008Z",
     "iopub.status.idle": "2022-01-25T17:40:38.572361Z",
     "shell.execute_reply": "2022-01-25T17:40:38.571772Z"
    },
    "pycharm": {
     "name": "#%%\n"
    }
   },
   "outputs": [
    {
     "data": {
      "application/pdf": "[encoded data removed]",
      "image/png": "[encoded data removed]",
      "text/plain": [
       "<Figure size 504x144 with 2 Axes>"
      ]
     },
     "metadata": {
      "needs_background": "light"
     },
     "output_type": "display_data"
    }
   ],
   "source": [
    "\n",
    "get_training_progress_plot(\n",
    "    metrics['train_loss'],\n",
    "    metrics['train_acc'],\n",
    "    metrics['test_loss'],\n",
    "    metrics['test_acc'],\n",
    ")"
   ]
  },
  {
   "cell_type": "markdown",
   "id": "a35d381c",
   "metadata": {
    "pycharm": {
     "name": "#%% md\n"
    }
   },
   "source": [
    "It is amazing what we achieved with such a small (for the standard of deep learning) model and dataset!"
   ]
  }
 ],
 "metadata": {
  "kernelspec": {
   "display_name": "Python 3 (ipykernel)",
   "language": "python",
   "name": "python3"
  },
  "language_info": {
   "codemirror_mode": {
    "name": "ipython",
    "version": 3
   },
   "file_extension": ".py",
   "mimetype": "text/x-python",
   "name": "python",
   "nbconvert_exporter": "python",
   "pygments_lexer": "ipython3",
   "version": "3.8.5"
  }
 },
 "nbformat": 4,
 "nbformat_minor": 5
}
